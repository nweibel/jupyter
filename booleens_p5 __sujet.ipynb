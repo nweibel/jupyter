{
  "cells": [
    {
      "cell_type": "markdown",
      "source": [
        "<div class = \"alert alert-block alert-danger\">\n",
        "    \n",
        "**Nom et prénom** : \n",
        "\n",
        "</div>"
      ],
      "metadata": {}
    },
    {
      "cell_type": "markdown",
      "source": [
        "# Parcours booléens"
      ],
      "metadata": {
        "nteract": {
          "transient": {
            "deleting": false
          }
        }
      }
    },
    {
      "cell_type": "code",
      "source": [
        "# import de la bibliothèque p5 \n",
        "from p5 import * "
      ],
      "outputs": [],
      "execution_count": null,
      "metadata": {
        "trusted": true
      }
    },
    {
      "cell_type": "markdown",
      "source": [
        "<div class = \"alert alert-block alert-info\">\n",
        "L'objectif de ce parcours est de mettre en application les opérations sur les booléens pour déterminer si le pointeur de la souris survole une zone graphique déterminée.\n",
        "     \n",
        "Les instructions spécifiques à p5 sont rappelées.\n",
        "</div>"
      ],
      "metadata": {}
    },
    {
      "cell_type": "markdown",
      "source": [
        "## Généralités sur p5"
      ],
      "metadata": {}
    },
    {
      "cell_type": "markdown",
      "source": [
        "<div class = \"alert alert-block alert-info\">\n",
        "    \n",
        "## Structure du programme\n",
        "\n",
        "La fonction `setup()` est exécutée une fois, au démarrage : \n",
        "```python\n",
        "def setup():\n",
        "    createCanvas(800,600) \n",
        "    # instructions de paramétrage de l'affichage\n",
        "```\n",
        "La fonction `draw()` est exécutée en boucle, après l'exécution de `setup()`:\n",
        "```python\n",
        "def draw():\n",
        "    # instructions de dessin\n",
        "```\n",
        "L'instruction `run()` lance l'exécution de `setup()` puis, en boucle, de `draw()` :\n",
        "```python\n",
        "run()\n",
        "```\n",
        "L'instruction `stop()` met fin au programme :\n",
        "```python\n",
        "stop()\n",
        "```\n",
        "</div>"
      ],
      "metadata": {}
    },
    {
      "cell_type": "markdown",
      "source": [
        "<div class = \"alert alert-block alert-info\">\n",
        "\n",
        "## Quelques instructions de tracé\n",
        "\n",
        "L'origine du repère est située en haut à gauche.\n",
        "Les abscisses augmentent de gauche à droite, les ordonnées augmentent de haut en bas.\n",
        "    \n",
        "<img src=https://capytale2.ac-paris.fr/web/sites/default/files/2021-09-26-12-09-19/ac-paris-1/nathalie.weibel/repere_p5.png>\n",
        "    \n",
        "\t\t\t\n",
        "|syntaxe|description|\n",
        "| :-- | :-- |\n",
        "|`point(x, y)`|Trace un point de coordonnées (x, y).|\n",
        "|`line(x1, y1, x2, y2)`| Trace un segment reliant les deux points de coordonnées (x1, y1) et (x2, y2).|\n",
        "|`circle(x, y, diametre)`|Tracer un cercle dont le centre a pour coordonnées (x, y) et dont le diamètre prend la valeur fixée.|\n",
        "|`square(x, y, cote)`|Trace un carré dont le sommet en haut à gauche a pour coordonnées (x, y) et dont le côté prend la valeur fixée.|\n",
        "|`rect(x, y, largeur, hauteur)` |Trace un rectangle dont le sommet en haut à gauche a pour coordonnées (x, y), et dont la largeur et la hauteur prennent les valeurs fixées.|\n",
        "\n",
        "</div>"
      ],
      "metadata": {}
    },
    {
      "cell_type": "markdown",
      "source": [
        "<div id=\"designer_couleur\" class = \"alert alert-block alert-info\">\n",
        "\n",
        "## Désigner une couleur\n",
        "|syntaxe|description|\n",
        "| :-- | :-- |\n",
        "|'red' |         nom de couleur |\n",
        "|120 |            niveau de gris : 0 - 255|\n",
        "|(100, 125, 255) |  couleur r, v, b (décimal) : 0 - 255|\n",
        "|'#222222'|  couleur r, v, b (hexadécimal) : 00 - ff|\n",
        "|(255, 0, 0, 50)|  couleur r, v, b, alpha|\n",
        "\n",
        "\n",
        "</div>"
      ],
      "metadata": {}
    },
    {
      "cell_type": "markdown",
      "source": [
        "<div id=\"dessiner_couleur\" class = \"alert alert-block alert-info\">\n",
        "\n",
        "## Dessiner en couleur\n",
        "|syntaxe|description|\n",
        "| :-- | :-- |\n",
        "|`background(couleur)`| Définit la couleur d'arrière-plan de la zone dessin (255 par défaut).|\n",
        "|`fill(couleur)`|Définit la couleur de remplissage des formes (255 par défaut).|\n",
        "|`noFill()`|Désactive la couleur de remplissage.|\n",
        "|`stroke(couleur)` |Définit la couleur de tracé des formes (0 par défaut).|\n",
        "|`noStroke()`|Désactive le tracé du contour des figures. Si `noFill()` et `noStroke()` sont exécutées en même temps, rien n'est tracé dans la zone de dessin. |\n",
        "\n",
        "</div>"
      ],
      "metadata": {}
    },
    {
      "cell_type": "markdown",
      "source": [
        "---"
      ],
      "metadata": {}
    },
    {
      "cell_type": "markdown",
      "source": [
        "## Afficher la position de la souris "
      ],
      "metadata": {}
    },
    {
      "cell_type": "markdown",
      "source": [
        "<div id=\"dessiner_couleur\" class = \"alert alert-block alert-info\">\n",
        "\n",
        "## Coordonnées de la souris\n",
        "|syntaxe|description|\n",
        "| :-- | :-- |\n",
        "|`mouseX`| abscisse du pointeur de la souris |\n",
        "|`mouseY`| ordonnée du pointeur de la souris |\n",
        "\n",
        "\n",
        "</div>"
      ],
      "metadata": {}
    },
    {
      "cell_type": "markdown",
      "source": [
        "<div class = \"alert alert-block alert-warning\">\n",
        "    \n",
        "On crée une image de fond comportant un rectangle et un carré en traçant ces figures dans la fonction `setup`. Celle-ci est appelée une fois, au début de l'exécution de la cellule ci-dessous. \n",
        "\n",
        "La fonction `draw` est ensuite appelée en boucle. Elle contient l'instruction :\n",
        "```python\n",
        "circle(mouseX, mouseY, 10)\n",
        "```\n",
        "qui trace un cercle de diamètre 10, centré sur les coordonnées de la souris. \n",
        "    \n",
        "Comme la fonction `draw` est appelée très fréquemment, on peut suivre la trace de la souris.\n",
        "\n",
        "Exécuter la cellule suivante et balayer la zone de dessin avec la souris.\n",
        "</div>\n"
      ],
      "metadata": {}
    },
    {
      "cell_type": "code",
      "source": [
        "def setup():    \n",
        "    createCanvas(500, 300) \n",
        "    background(240) \n",
        "    # carré vert\n",
        "    fill(0, 185, 155, 100)\n",
        "    square(300, 150, 100)\n",
        "    # rectangle bleu\n",
        "    fill(0, 100, 200, 100)\n",
        "    rect(100, 100, 250, 100)\n",
        "     \n",
        "def draw():\n",
        "    noStroke()\n",
        "    fill(120)\n",
        "    circle(mouseX, mouseY, 10)\n",
        "run()"
      ],
      "outputs": [],
      "execution_count": null,
      "metadata": {
        "trusted": true
      }
    },
    {
      "cell_type": "code",
      "source": [
        "stop()"
      ],
      "outputs": [],
      "execution_count": null,
      "metadata": {
        "trusted": true
      }
    },
    {
      "cell_type": "markdown",
      "source": [
        "## Être ou ne pas être dans le carré"
      ],
      "metadata": {}
    },
    {
      "cell_type": "markdown",
      "source": [
        "<div class = \"alert alert-block alert-warning\">\n",
        "    \n",
        "**Question 1**\n",
        "    \n",
        "Reproduire et compléter la fonction suivante pour qu'elle renvoie `True` lorsque les paramètres (x, y) sont les coordonnées d'un point à l'intérieur du carré, et `False` sinon.\n",
        "\n",
        "```python \n",
        "def est_dans_carre(x, y):\n",
        "    return ... <= x <= ... and  ... <= y <= ...  \n",
        "```\n",
        "\n",
        "\n",
        "</div>"
      ],
      "metadata": {}
    },
    {
      "cell_type": "code",
      "source": [],
      "outputs": [],
      "execution_count": null,
      "metadata": {
        "trusted": true
      }
    },
    {
      "cell_type": "markdown",
      "source": [
        "<div class = \"alert alert-block alert-warning\">\n",
        "    \n",
        "**Question 2**\n",
        "    \n",
        "Reproduire et exécuter le code suivant : si la fonction `est_dans_carre` est correcte, rien ne s'affichera. Si un message d'erreur apparaît, la fonction `est_dans_carre` est à corriger (voir Question 1). \n",
        "```python\n",
        "assert est_dans_carre(360, 210) == True\n",
        "assert est_dans_carre(400, 250) == True\n",
        "assert est_dans_carre(200, 210) == False\n",
        "assert est_dans_carre(350, 50) == False\n",
        "```\n",
        "\n",
        "\n",
        "</div>"
      ],
      "metadata": {}
    },
    {
      "cell_type": "code",
      "source": [],
      "outputs": [],
      "execution_count": null,
      "metadata": {
        "trusted": true
      }
    },
    {
      "cell_type": "markdown",
      "source": [
        "<div class = \"alert alert-block alert-warning\">\n",
        "    \n",
        "**Question 3**\n",
        "    \n",
        "Utiliser la valeur renvoyée par la fonction `est_dans_carre` pour modifier la couleur du cercle centré sur la souris : \n",
        "lorsque la souris survole le carré, le cercle doit être rempli en vert, et dans le cas contraire, le cercle reste en gris.\n",
        "\n",
        "Reproduire et compléter le code suivant :\n",
        "\n",
        "\n",
        "```python\n",
        "def draw():\n",
        "    noStroke()\n",
        "    \n",
        "    if est_dans_carre(mouseX, mouseY):\n",
        "        fill(...)\n",
        "    else:\n",
        "        fill(...)\n",
        "    circle(mouseX, mouseY, 10)\n",
        "run()\n",
        "```\n",
        "  \n",
        "</div>"
      ],
      "metadata": {}
    },
    {
      "cell_type": "code",
      "source": [],
      "outputs": [],
      "execution_count": null,
      "metadata": {
        "trusted": true
      }
    },
    {
      "cell_type": "markdown",
      "source": [
        "## Être ou ne pas être dans le rectangle"
      ],
      "metadata": {}
    },
    {
      "cell_type": "markdown",
      "source": [
        "<div class = \"alert alert-block alert-warning\">\n",
        "    \n",
        "**Question 4**\n",
        "    \n",
        "Reproduire et compléter la fonction suivante pour qu'elle renvoie `True` lorsque les paramètres (x, y) sont les coordonnées d'un point à l'intérieur du rectangle, et `False` sinon.\n",
        "\n",
        "```python \n",
        "def est_dans_rectangle(x, y):\n",
        "     return ... <= x <= ... and  ... <= y <= ...\n",
        "    \n",
        "```\n",
        "\n",
        "\n",
        "</div>"
      ],
      "metadata": {}
    },
    {
      "cell_type": "code",
      "source": [
        "\n",
        "   "
      ],
      "outputs": [],
      "execution_count": null,
      "metadata": {
        "trusted": true
      }
    },
    {
      "cell_type": "markdown",
      "source": [
        "<div class = \"alert alert-block alert-warning\">\n",
        "    \n",
        "**Question 5**\n",
        "    \n",
        "Reproduire et exécuter le code suivant : si la fonction `est_dans_rectangle` est correcte, rien ne s'affichera. Si un message d'erreur apparaît, la fonction `est_dans_rectangle` est à corriger (voir Question 4). \n",
        "```python\n",
        "assert est_dans_rectangle(150, 150) == True\n",
        "assert est_dans_rectangle(320, 170) == True\n",
        "assert est_dans_rectangle(50, 150) == False\n",
        "assert est_dans_rectangle(350, 50) == False\n",
        "```\n",
        "\n",
        "\n",
        "</div>"
      ],
      "metadata": {}
    },
    {
      "cell_type": "code",
      "source": [],
      "outputs": [],
      "execution_count": null,
      "metadata": {
        "trusted": true
      }
    },
    {
      "cell_type": "markdown",
      "source": [
        "## Distinguer quatre zones"
      ],
      "metadata": {}
    },
    {
      "cell_type": "markdown",
      "source": [
        "<div class = \"alert alert-block alert-warning\">\n",
        "    \n",
        "**Question 6**\n",
        "    \n",
        "Utiliser les valeurs renvoyées par les fonctions `est_dans_rectangle` et `est_dans_carre` pour modifier la couleur du cercle centré sur la souris : \n",
        "- lorsque la souris survole le rectangle (mais pas le carré), le cercle doit être rempli en bleu, \n",
        "- lorsque la souris survole le carré (mais pas le rectangle), le cercle doit être rempli en vert,\n",
        "- lorsque la souris survole l'intersection du rectangle et du carré, le cercle doit être rempli en orange,\n",
        "- et dans les autres cas, le cercle reste en gris.\n",
        "\n",
        "Reproduire et compléter le code suivant :\n",
        "\n",
        "\n",
        "```python\n",
        "def draw():\n",
        "    noStroke()\n",
        "    \n",
        "    if ... :\n",
        "        fill(...)\n",
        "    elif ... :\n",
        "        fill(...)\n",
        "    elif ... :\n",
        "        fill(...)\n",
        "    else:\n",
        "        fill(...)\n",
        "    circle(mouseX, mouseY, 10)\n",
        "run()\n",
        "```\n",
        "  \n",
        "Tester le code en balayant toutes les zones avec la souris. Modifier le code si nécessaire.\n",
        "</div>"
      ],
      "metadata": {}
    },
    {
      "cell_type": "code",
      "source": [],
      "outputs": [],
      "execution_count": null,
      "metadata": {
        "trusted": true
      }
    },
    {
      "cell_type": "code",
      "source": [
        "stop()"
      ],
      "outputs": [],
      "execution_count": null,
      "metadata": {
        "trusted": true
      }
    }
  ],
  "metadata": {
    "kernelspec": {
      "name": "python3",
      "display_name": "Python 3",
      "language": "python"
    },
    "language_info": {
      "name": "python",
      "version": "3.7.4",
      "mimetype": "text/x-python",
      "codemirror_mode": {
        "name": "ipython",
        "version": 3
      },
      "pygments_lexer": "ipython3",
      "nbconvert_exporter": "python",
      "file_extension": ".py"
    },
    "nteract": {
      "version": "0.28.0"
    }
  },
  "nbformat": 4,
  "nbformat_minor": 2
}