{
 "cells": [
  {
   "cell_type": "markdown",
   "metadata": {},
   "source": [
    "# Deux exercices de tests\n",
    "\n",
    "## Les exercices\n",
    "\n",
    "### Exercice 1\n",
    "\n",
    "Compléter la fonction `factorielle`"
   ]
  },
  {
   "cell_type": "code",
   "execution_count": null,
   "metadata": {},
   "outputs": [],
   "source": [
    "def factorielle(n):\n",
    "    ..."
   ]
  },
  {
   "cell_type": "markdown",
   "metadata": {},
   "source": [
    "### Exercice 2\n",
    "\n",
    "Compléter la fonction fibonacci"
   ]
  },
  {
   "cell_type": "code",
   "execution_count": null,
   "metadata": {},
   "outputs": [],
   "source": [
    "def fibonacci(n):\n",
    "    ..."
   ]
  },
  {
   "source": [
    "## Vérifications\n",
    "\n",
    "### Première vérification autonome\n",
    "\n",
    "Vérifier vous-même les tests ci-dessous :"
   ],
   "cell_type": "markdown",
   "metadata": {}
  },
  {
   "cell_type": "code",
   "execution_count": null,
   "metadata": {},
   "outputs": [],
   "source": [
    "assert factorielle(3) == 6, f\"Erreur, vous avez trouvé {factorielle(3)}\"\n",
    "assert fibonacci(5) == 5, \"Attention, la véritable définition est avec fibonacci(0) égale à 0\"\n",
    "\"reunitnoc zevuop suov ,ovarB\"[::-1]"
   ]
  },
  {
   "cell_type": "markdown",
   "metadata": {},
   "source": [
    "### Deuxième vérification automatisée\n",
    "\n",
    "Pour vérifier vos fonctions\n",
    "\n",
    "- entrer `import juge`\n",
    "- entrer `juge.teste(factorielle, fibonnacci)`\n"
   ]
  },
  {
   "cell_type": "code",
   "execution_count": null,
   "metadata": {},
   "outputs": [],
   "source": [
    "import juge\n",
    "juge.teste(factorielle, fibonacci)"
   ]
  },
  {
   "cell_type": "markdown",
   "metadata": {},
   "source": [
    "## Remarques\n",
    "\n",
    "Le juge est-il caché des élèves ?\n",
    "\n",
    "> NON ! Mais un peu quand même.\n",
    "\n",
    "Ce sera suffisant pour les débutants, qui ne connaissent pas `import os`\n",
    "\n",
    "Et pour les petits malins, on peut fabriquer des juges qui même lus ne donneront pas la clé facilement."
   ]
  },
  {
   "cell_type": "code",
   "execution_count": null,
   "metadata": {},
   "outputs": [],
   "source": [
    "import os\n",
    "with open('basthon_user_modules/juge.py', 'r') as juge_py:\n",
    "    print(juge_py.read())"
   ]
  }
 ],
 "metadata": {
  "kernelspec": {
   "display_name": "Python 3",
   "language": "python",
   "name": "python3"
  },
  "language_info": {
   "codemirror_mode": {
    "name": "ipython",
    "version": 3
   },
   "file_extension": ".py",
   "mimetype": "text/x-python",
   "name": "python",
   "nbconvert_exporter": "python",
   "pygments_lexer": "ipython3",
   "version": "3.8.5-final"
  }
 },
 "nbformat": 4,
 "nbformat_minor": 2
}
