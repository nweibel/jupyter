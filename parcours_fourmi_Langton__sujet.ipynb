{
  "cells": [
    {
      "cell_type": "markdown",
      "source": [
        "# La fourmi de Langton"
      ],
      "metadata": {}
    },
    {
      "cell_type": "markdown",
      "source": [
        "<div class = \"alert alert-block alert-info\">\n",
        "L'objectif de ce parcours est de découvrir la fourmi de Langton,  un automate cellulaire à deux dimensions, comportant un jeu de règles très simples. Elle porte le nom de Christopher Langton, son inventeur.\n",
        "    \n",
        "On peut consulter une [présentation de la fourmi de Langton](https://www.youtube.com/watch?v=qZRYGxF6D3w), réalisée par David Louapre sur sa chaîne *Science étonnante*. \n",
        "    \n",
        "\n",
        "Ce parcours s'appuie sur la connaissance des tableaux de tableaux et des dictionnaires.  \n",
        "Les éléments du module p5 qui permettent de réaliser les animations sont fournis, mais une connaissance préalable des fonctionnalités élémentaires de p5 est souhaitable. On pourra consulter la page [p5 sur carnets.info](https://www.carnets.info/jupyter/p5/)\n",
        "     \n",
        "</div>"
      ],
      "metadata": {}
    },
    {
      "cell_type": "markdown",
      "source": [
        "**Sommaire**\n",
        "\n",
        "- [1. Le principe](#1.-Le-principe)\n",
        "- [2. La grille initiale](#2.-La-grille-initiale)  \n",
        "   - [2.1 Structure des données](#2.1-Structure-des-données)  \n",
        "   - [2.2 Représentation graphique](#2.2-Représentation-graphique)\n",
        "- [3. La fourmi](#3.-La-fourmi)\n",
        "   - [3.1 Structure des données](#3.1-Structure-des-données)\n",
        "   - [3.2 Représentation graphique](#3.2-Représentation-graphique)\n",
        "- [4. Déplacements de la fourmi](#4.-Déplacements-de-la-fourmi)\n",
        "   - [4.1 La direction de la fourmi](#4.1-La-direction-de-la-fourmi)\n",
        "   - [4.2 La position de la fourmi](#4.2-La-position-de-la-fourmi)\n",
        "- [5. Évolution de la grille](#5.-Évolution-de-la-grille)\n",
        "- [6. Première version du programme complet](#6.-Première-version-du-programme-complet)\n",
        "- [7. Quelques pistes d'amélioration](#7.-Quelques-pistes-d'amélioration)\n",
        "   - [7.1 Vérifier que la fourmi ne sort pas de la grille](#7.1-Vérifier-que-la-fourmi-ne-sort-pas-de-la-grille)\n",
        "   - [7.2 Arrêter le programme après un nombre fixé d'étapes](#7.2-Arrêter-le-programme-après-un-nombre-fixé-d'étapes)\n",
        "   - [7.3 Améliorer le tracé de la fourmi](#7.3-Améliorer-le-tracé-de-la-fourmi)\n",
        "   - [7.4 Afficher le nombre d'étapes](#7.4-Afficher-le-nombre-d'étapes)\n",
        "   - [7.5 Autres améliorations](#7.5-Autres-améliorations)\n",
        "- [8. Version finale](#8.-Version-finale)\n",
        "- [9. Observations](#9.-Observations)\n",
        "   "
      ],
      "metadata": {}
    },
    {
      "cell_type": "markdown",
      "source": [
        "## 1. Le principe"
      ],
      "metadata": {}
    },
    {
      "cell_type": "markdown",
      "source": [
        "<div class = \"alert alert-block alert-info\">\n",
        "    \n",
        "On considère une fourmi qui se trouve sur une grille dont les cases sont soit blanches, soit  noires. \n",
        "\n",
        "La fourmi se déplace sur la grille en fonction de la couleur de la case sur laquelle elle se trouve : \n",
        "- si elle se trouve sur une case blanche, elle tourne à droite et avance d'une case,\n",
        "- si elle se trouve sur une case noire, elle tourne à gauche et avance d'une case,\n",
        "- et dans tous les cas, la case qu'elle quitte change de couleur.\n",
        "\n",
        "<img src=https://raw.githubusercontent.com/nweibel/jupyter/master/langton_noire.png width=300>\n",
        "\n",
        "\n",
        "\n",
        "<img src=https://raw.githubusercontent.com/nweibel/jupyter/master/langton_blanche.png width=300>\n",
        "\n",
        "\n",
        "On souhaite partir d'une grille totalement blanche, avec une fourmi placée au centre, orientée vers le nord, et observer l'évolution de la grille au fur et à mesure des déplacements de la fourmi.\n",
        "    \n",
        "Voici une animation des 200 premières étapes, avec une fourmi orientée initialement vers l'est.\n",
        "<img width=\"256\" alt=\"LangtonsAntAnimated\" title=\"Krwawobrody, Public domain, via Wikimedia Commons\"  src=\"https://upload.wikimedia.org/wikipedia/commons/0/09/LangtonsAntAnimated.gif\">\n",
        "    \n",
        "</div>"
      ],
      "metadata": {}
    },
    {
      "cell_type": "markdown",
      "source": [
        "## 2. La grille initiale\n",
        "### 2.1 Structure des données\n",
        "<div class = \"alert alert-block alert-info\">\n",
        "        \n",
        "Une grille de $n \\times n$ cases sera représentée en mémoire, à une étape donnée, par un tableau contenant $n$ tableaux de longueur $n$.  \n",
        "Les cases noires seront représentées par un 1 et les cases blanches par un 0.  \n",
        "\n",
        "</div>"
      ],
      "metadata": {
        "trusted": true
      }
    },
    {
      "cell_type": "markdown",
      "source": [
        "<div class = \"alert alert-block alert-success\">\n",
        "    \n",
        "**Exemple :**  \n",
        "<img src=\"https://raw.githubusercontent.com/nweibel/jupyter/master/grille3x3.png\" width=100>\n",
        "Une grille de  $3 \\times 3$ cases dont les quatre \"coins\" sont des cases noires et les autres cases sont blanches est représentée par le tableau :   \n",
        "`[[1, 0, 1], [0, 0, 0], [1, 0, 1]]` \n"
      ],
      "metadata": {}
    },
    {
      "cell_type": "markdown",
      "source": [
        "<div class = \"alert alert-block alert-warning\">\n",
        "    \n",
        "**Question 1**\n",
        "    \n",
        "On considère une grille intiale de  de $n \\times n$ cases blanches, où $n$ est un entier.   \n",
        "Compléter la fonction `grille_initiale` pour qu'elle renvoie la grille de la situation initiale, et vérifier les tests proposés.  \n",
        "\n",
        "\n",
        "</div>"
      ],
      "metadata": {}
    },
    {
      "cell_type": "code",
      "source": [
        "def grille_initiale(n):\n",
        "    '''\n",
        "    renvoie une grille carrée de taille n * n, ne contenant que des zéros\n",
        "    '''\n",
        "    grille = ...\n",
        "    return grille"
      ],
      "outputs": [],
      "execution_count": 1,
      "metadata": {
        "trusted": false
      }
    },
    {
      "cell_type": "code",
      "source": [
        "assert grille_initiale(3) == [[0, 0, 0], [0, 0, 0], [0, 0, 0]]"
      ],
      "outputs": [],
      "execution_count": 2,
      "metadata": {
        "trusted": false
      }
    },
    {
      "cell_type": "markdown",
      "source": [
        "### 2.2 Représentation graphique"
      ],
      "metadata": {}
    },
    {
      "cell_type": "markdown",
      "source": [
        "<div class = \"alert alert-block alert-warning\">\n",
        "  \n",
        "**Question**  \n",
        "    \n",
        "La grille initiale est une grille carrée de cases blanches.   \n",
        "Compléter la fonction `dessiner_grille_vide(nb_cases, dim_case)` pour qu'elle dessine la grille initiale sous la forme d'une grille de `nb_cases` lignes et `nb_cases` colonnes. Chaque case est un carré de dimension `dim_case`.  \n",
        "    \n",
        "Cette fonction sera appelée une seule fois par la fonction `setup()` de p5 dans le programme principal.\n",
        "</div>"
      ],
      "metadata": {
        "trusted": true
      }
    },
    {
      "cell_type": "code",
      "source": [
        "def dessiner_grille_vide(nb_cases, dim_case):\n",
        "    '''\n",
        "    dessine la grille initiale : grille de nb_cases lignes et nb_cases colonnes\n",
        "    Chaque case est un carré de dimension dim_case.\n",
        "    '''\n",
        "    strokeWeight(1) # épaisseur du tracé\n",
        "    stroke(180)     # couleur de tracé (gris)\n",
        "    fill(255)       # couleur de remplissage (blanc)\n",
        "    for i in range(...):\n",
        "        for j in range(...):\n",
        "            square(..., ..., ...)\n",
        "            "
      ],
      "outputs": [],
      "execution_count": 3,
      "metadata": {
        "trusted": false
      }
    },
    {
      "cell_type": "markdown",
      "source": [
        "<div class = \"alert alert-block alert-success\">\n",
        "    \n",
        "**Test :**  \n",
        "Exécuter les deux cellules suivantes : si la fonction `dessiner_grille_vide` est correcte, une grille de  $9 \\times 9$ cases doit apparaître.\n"
      ],
      "metadata": {}
    },
    {
      "cell_type": "code",
      "source": [
        "from p5 import *"
      ],
      "outputs": [],
      "execution_count": 4,
      "metadata": {
        "trusted": false
      }
    },
    {
      "cell_type": "code",
      "source": [
        "NB_CASES = 9                     # nombre de cases du quadrillage par ligne ou colonne\n",
        "DIM_CASE = 180 // NB_CASES       # dimension d'une case\n",
        "\n",
        "def setup():\n",
        "    createCanvas(180, 180)\n",
        "    dessiner_grille_vide(NB_CASES, DIM_CASE)\n",
        "\n",
        "def draw():\n",
        "    pass\n",
        "\n",
        "run()"
      ],
      "outputs": [
        {
          "output_type": "display_data",
          "data": {
            "application/javascript": "element.append(window._basthonDomNodeBus.pop(0));"
          },
          "metadata": {}
        }
      ],
      "execution_count": 5,
      "metadata": {
        "trusted": false
      }
    },
    {
      "cell_type": "markdown",
      "source": [
        "## 3. La fourmi\n",
        "### 3.1 Structure des données"
      ],
      "metadata": {}
    },
    {
      "cell_type": "markdown",
      "source": [
        "<div class = \"alert alert-block alert-info\">\n",
        "        \n",
        "La fourmi possède, à une étape donnée, une position (donnée par un indice de ligne et un indice de colonne) et une direction.  \n",
        "    \n",
        "On choisit de représenter cette direction par un entier entre 0 et 3 : \n",
        "\n",
        "|direction|nom | code|\n",
        "| :---: | :---: | :---: |\n",
        "&#8594; | est | 0\n",
        "&#8595; | sud|  1\n",
        "&#8592; | ouest | 2\n",
        "&#8593; | nord| 3\n",
        "\n",
        "Avec cette représentation, tourner à droite (d'un quart de tour) revient à ajouter 1 (modulo 4) et tourner à gauche (d'un quart de tour) revient à soustraire 1 (modulo 4).\n",
        "    \n",
        "Les données concernant la fourmi seront stockées dans un dictionnaire appelé `fourmi`, dont les clés et valeurs  seront : \n",
        " - `'ligne'` : l'indice de ligne de l'emplacement de la fourmi\n",
        " - `'colonne'` : l'indice de colonne de l'emplacement de la fourmi\n",
        " - `'direction'`: le code de la direction de la fourmi\n",
        "    \n",
        "\n",
        "</div>"
      ],
      "metadata": {
        "trusted": true
      }
    },
    {
      "cell_type": "markdown",
      "source": [
        "<div class = \"alert alert-block alert-success\">\n",
        "    \n",
        "**Exemple :**  \n",
        "<img src=https://raw.githubusercontent.com/nweibel/jupyter/master/fourmi_exemple.png width=100>\n",
        "Voici une fourmi située en ligne 1, colonne 0 d'une grille de  $3 \\times 3$ cases, et orientée vers le nord (code 3). Elle est représentée par le dictionnaire :   \n",
        "`{'ligne':1, 'colonne':0, 'direction':3}` \n"
      ],
      "metadata": {}
    },
    {
      "cell_type": "markdown",
      "source": [
        " <div class = \"alert alert-block alert-warning\">\n",
        "    \n",
        "**Question**\n",
        "    \n",
        "On considère une grille de  de $n \\times n$ cases, où $n$ est un entier. Au départ la fourmi se place au centre de la grille, et elle s'oriente vers le nord.   \n",
        "Compléter la fonction `fourmi_initiale(n)` pour qu'elle renvoie le dictionnaire représentant  la position et la direction de la fourmi, et vérifier les tests proposés.  \n",
        "\n",
        "\n",
        "</div>"
      ],
      "metadata": {}
    },
    {
      "cell_type": "code",
      "source": [
        "def fourmi_initiale(n):\n",
        "    '''\n",
        "    renvoie le dictionnaire dont les clés sont 'ligne', 'colonne' et 'direction' pour une fourmi située\n",
        "    au centre d'une grille de taille n * n, orientée vers le nord\n",
        "    '''\n",
        "    return ..."
      ],
      "outputs": [],
      "execution_count": 12,
      "metadata": {
        "trusted": false
      }
    },
    {
      "cell_type": "code",
      "source": [
        "assert fourmi_initiale(3) == {'ligne':1, 'colonne':1, 'direction':3}\n",
        "assert fourmi_initiale(20) == {'ligne':10, 'colonne':10, 'direction':3}\n",
        "assert fourmi_initiale(21) == {'ligne':10, 'colonne':10, 'direction':3}"
      ],
      "outputs": [],
      "execution_count": 13,
      "metadata": {
        "trusted": false
      }
    },
    {
      "cell_type": "markdown",
      "source": [
        "### 3.2 Représentation graphique"
      ],
      "metadata": {}
    },
    {
      "cell_type": "markdown",
      "source": [
        "<div class = \"alert alert-block alert-warning\">\n",
        "  \n",
        "**Question** \n",
        "        \n",
        "Les données concernant la fourmi sont stockées dans un dictionnaire appelé `fourmi`, dont les clés sont `'ligne'`,  `'colonne'` et `'direction'`.\n",
        "    \n",
        "Compléter la fonction `tracer_fourmi(fourmi, dim_case)` pour qu'elle représente graphiquement la fourmi à sa position sur la grille, où chaque case est un carré de dimension `dim_case`.\n",
        "    \n",
        "En première approche, on pourra représenter la fourmi par un disque rouge, sans chercher à tenir compte de la direction de son futur déplacement. \n",
        "    \n",
        "*Attention : l'indice de ligne renseigne sur l'ordonnée de la case et l'indice de colone sur son abscisse.*\n",
        "\n",
        "</div>"
      ],
      "metadata": {
        "trusted": true
      }
    },
    {
      "cell_type": "code",
      "source": [
        "def tracer_fourmi(fourmi, dim_case):\n",
        "    '''\n",
        "    représente graphiquement la fourmi sur la grille, \n",
        "    constituée de cases carrées de dimension dim_case\n",
        "    '''\n",
        "    fill('red')   # couleur de remplissage\n",
        "    noStroke()    # bords non visibles\n",
        "    circle(..., ..., ...)"
      ],
      "outputs": [],
      "execution_count": 16,
      "metadata": {
        "trusted": false
      }
    },
    {
      "cell_type": "markdown",
      "source": [
        "<div class = \"alert alert-block alert-success\">\n",
        "    \n",
        "**Test :**  \n",
        "Exécuter la cellule suivante : si la fonction `tracer_fourmi` est correcte, une \"fourmi\" rouge doit apparaître au centre d'une grille de  $9 \\times 9$ cases.\n",
        "</div>"
      ],
      "metadata": {}
    },
    {
      "cell_type": "code",
      "source": [
        "NB_CASES = 9                      # nombre de cases du quadrillage par ligne ou colonne\n",
        "DIM_CASE = 180 // NB_CASES        # dimension d'une case\n",
        "fourmi = fourmi_initiale(NB_CASES)\n",
        "\n",
        "def setup():\n",
        "    createCanvas(180, 180)\n",
        "    dessiner_grille_vide(NB_CASES, DIM_CASE)\n",
        "    tracer_fourmi(fourmi, DIM_CASE)\n",
        "\n",
        "def draw():\n",
        "    pass\n",
        "run()"
      ],
      "outputs": [
        {
          "output_type": "display_data",
          "data": {
            "application/javascript": "element.append(window._basthonDomNodeBus.pop(0));"
          },
          "metadata": {}
        }
      ],
      "execution_count": 17,
      "metadata": {
        "trusted": false
      }
    },
    {
      "cell_type": "markdown",
      "source": [
        "## 4. Déplacements de la fourmi"
      ],
      "metadata": {}
    },
    {
      "cell_type": "markdown",
      "source": [
        "<div class = \"alert alert-block alert-info\">\n",
        "    \n",
        "La fourmi se déplace sur la grille en fonction de la couleur de la case sur laquelle elle se trouve : \n",
        "- si elle se trouve sur une case blanche, elle tourne à droite et avance d'une case,\n",
        "- si elle se trouve sur une case noire, elle tourne à gauche et avance d'une case.\n",
        "\n",
        "</div>"
      ],
      "metadata": {}
    },
    {
      "cell_type": "markdown",
      "source": [
        "### 4.1 La direction de la fourmi"
      ],
      "metadata": {}
    },
    {
      "cell_type": "markdown",
      "source": [
        "<div class = \"alert alert-block alert-warning\">\n",
        "  \n",
        "**Question** \n",
        "        \n",
        "Compléter la fonction `diriger_fourmi(fourmi)` pour qu'elle modifie la direction de la fourmi en fonction de la couleur de la case sur laquelle elle se trouve.  \n",
        "    \n",
        "Cette fonction ne renvoie rien. Elle modifie le contenu du dictionnaire `fourmi`. \n",
        "</div>"
      ],
      "metadata": {
        "trusted": true
      }
    },
    {
      "cell_type": "code",
      "source": [
        "# grille est un tableau de tableaux initialisé avec la fonction  grille_initiale()\n",
        "\n",
        "def diriger_fourmi(fourmi):\n",
        "    '''\n",
        "    fourmi est un dictionnaire, dont les clés sont 'ligne', 'colonne' et 'direction'.\n",
        "    diriger_fourmi modifie la direction de la fourmi en fonction de la couleur de la case sur laquelle elle se trouve.\n",
        "    '''\n",
        "    if  grille[...][...] == 0: # test sur la couleur de la case courante\n",
        "        fourmi[...] = (fourmi[...] + 1) % 4 # changement de direction : à droite   \n",
        "    else:\n",
        "        fourmi[...] = (fourmi[...] - 1) % 4 # changement de direction : à gauche\n",
        "        "
      ],
      "outputs": [],
      "execution_count": 19,
      "metadata": {
        "trusted": false
      }
    },
    {
      "cell_type": "markdown",
      "source": [
        "### 4.2 La position de la fourmi"
      ],
      "metadata": {}
    },
    {
      "cell_type": "markdown",
      "source": [
        "<div class = \"alert alert-block alert-warning\">\n",
        "  \n",
        "**Question** \n",
        "        \n",
        "Compléter la fonction `bouger_fourmi(fourmi)` pour qu'elle modifie la position de la fourmi en fonction de sa direction.  \n",
        "Cette fonction ne renvoie rien. Elle modifie le contenu du dictionnaire `fourmi`. \n",
        "</div>"
      ],
      "metadata": {
        "trusted": true
      }
    },
    {
      "cell_type": "code",
      "source": [
        "def bouger_fourmi(fourmi):\n",
        "    '''\n",
        "    fourmi est un dictionnaire, dont les clés sont 'ligne', 'colonne' et 'direction'.\n",
        "    bouger_fourmi modifie la position de la fourmi en fonction de sa direction.\n",
        "    '''\n",
        "    if ... == 0:            # direction vers l'est\n",
        "        ...                 # déplacement d'une colonne vers l'est\n",
        "    elif ... == 1:          # direction vers le sud\n",
        "        ...                 # déplacement d'une ligne vers le sud\n",
        "    elif ... == 2:          # direction vers l'ouest\n",
        "        ...                 # déplacement d'une colonne vers l'ouest\n",
        "    else:                   # direction vers le nord\n",
        "        ...                 # déplacement d'une ligne vers le nord   "
      ],
      "outputs": [],
      "execution_count": null,
      "metadata": {
        "trusted": false
      }
    },
    {
      "cell_type": "markdown",
      "source": [
        "<div class = \"alert alert-block alert-success\">\n",
        "    \n",
        "**Tests :**  \n",
        "Exécuter la cellule suivante pour passer les tests proposés.\n",
        "</div>"
      ],
      "metadata": {}
    },
    {
      "cell_type": "code",
      "source": [
        "# tests\n",
        "\n",
        "fourmi = {'ligne':2, 'colonne':2, 'direction':3}\n",
        "bouger_fourmi(fourmi)\n",
        "assert fourmi == {'ligne':1, 'colonne':2, 'direction':3}\n",
        "\n",
        "fourmi = {'ligne':2, 'colonne':2, 'direction':2}\n",
        "bouger_fourmi(fourmi)\n",
        "assert fourmi == {'ligne':2, 'colonne':1, 'direction':2}\n",
        "\n",
        "fourmi = {'ligne':2, 'colonne':2, 'direction':1}\n",
        "bouger_fourmi(fourmi)\n",
        "assert fourmi == {'ligne':3, 'colonne':2, 'direction':1}\n",
        "\n",
        "fourmi = {'ligne':2, 'colonne':2, 'direction':0}\n",
        "bouger_fourmi(fourmi)\n",
        "assert fourmi == {'ligne':2, 'colonne':3, 'direction':0}\n"
      ],
      "outputs": [],
      "execution_count": null,
      "metadata": {
        "trusted": false
      }
    },
    {
      "cell_type": "markdown",
      "source": [
        "## 5. Évolution de la grille"
      ],
      "metadata": {}
    },
    {
      "cell_type": "markdown",
      "source": [
        "<div class = \"alert alert-block alert-info\">\n",
        "    \n",
        "Lorsque la fourmi quitte une case, celle-ci change de couleur. Cela se traduit par deux modifications :   \n",
        " - celle de la couleur associée à la case concernée dans la variable `grille`,\n",
        " - celle de la couleur affichée à l'écran.\n",
        "</div>"
      ],
      "metadata": {}
    },
    {
      "cell_type": "markdown",
      "source": [
        "<div class = \"alert alert-block alert-warning\">\n",
        "    \n",
        "**Question**\n",
        "    \n",
        "Créer une fonction `tracer_case(ligne, colonne, couleur, dim_case)` qui trace à la position (ligne, colonne) une case de la couleur spécifiée, dans une grille dont les cases ont pour dimension `dim_case`. \n",
        "\n",
        "*Attention : l'indice de ligne renseigne sur l'ordonnée de la case et l'indice de colone sur son abscisse.*\n",
        "</div>"
      ],
      "metadata": {
        "trusted": true
      }
    },
    {
      "cell_type": "code",
      "source": [
        "def tracer_case(ligne, colonne, couleur, dim_case):\n",
        "     '''\n",
        "    tracer_case(ligne, colonne, couleur, dim_case) trace à la position (ligne, colonne) \n",
        "    une case de la couleur spécifiée, dans une grille dont les cases ont pour dimension dim_case.\n",
        "    '''\n",
        "    stroke(180)\n",
        "    fill(...)\n",
        "    square(..., ..., ...)\n",
        "    "
      ],
      "outputs": [],
      "execution_count": null,
      "metadata": {
        "trusted": false
      }
    },
    {
      "cell_type": "markdown",
      "source": [
        "<div class = \"alert alert-block alert-warning\">\n",
        "    \n",
        "**Question**\n",
        "    \n",
        "Créer une fonction `inverser_couleur(ligne, colonne, dim_case)` qui modifie la couleur associée à la case repérée par ses indices de ligne et colonne dans la variable `grille` et qui appelle la fonction tracer_case pour afficher également cette modification à l'écran. \n",
        "    \n",
        "</div>"
      ],
      "metadata": {
        "trusted": true
      }
    },
    {
      "cell_type": "code",
      "source": [
        "def inverser_couleur(ligne, colonne, dim_case):\n",
        "    '''\n",
        "    inverser_couleur(ligne, colonne, dim_case) modifie la couleur associée à la case repérée par \n",
        "    ses indices de ligne et colonne dans la variable grille \n",
        "    et appelle la fonction tracer_case pour afficher cette modification à l'écran\n",
        "    '''\n",
        "    if  grille[...][...] == 0: # test sur couleur de la case \n",
        "        grille[...][...] =     # inversion de couleur   \n",
        "        couleur = ...          # niveau de gris de la couleur ou nom de la couleur\n",
        "    else:\n",
        "        grille[...][...] = ... # inversion de couleur \n",
        "        couleur = ...          # niveau de gris de la couleur ou nom de la couleur\n",
        "    tracer_case(..., ..., ..., ...)   "
      ],
      "outputs": [],
      "execution_count": null,
      "metadata": {
        "trusted": false
      }
    },
    {
      "cell_type": "markdown",
      "source": [
        "## 6. Première version du programme complet"
      ],
      "metadata": {}
    },
    {
      "cell_type": "markdown",
      "source": [
        "<div class = \"alert alert-block alert-warning\">\n",
        "    \n",
        "**Question**\n",
        "\n",
        "Le programme suivant utilise toutes les fonctions déjà créées et permet de voir les déplacements de la fourmi.   \n",
        "Utiliser ce programme pour en déterminer les limites : quelles améliorations peut-on proposer ? \n",
        "</div>"
      ],
      "metadata": {}
    },
    {
      "cell_type": "code",
      "source": [
        "from p5 import *"
      ],
      "outputs": [],
      "execution_count": null,
      "metadata": {
        "trusted": false
      }
    },
    {
      "cell_type": "code",
      "source": [
        "# programme principal : modifier éventuellement la valeur de NB_CASES et de FRAMERATE\n",
        "\n",
        "NB_CASES = 15                     # nombre de cases du quadrillage par ligne ou colonne\n",
        "FRAMERATE = 2                     # nombre d'images par seconde\n",
        "\n",
        "#--------------------------------------------------------------------------------------\n",
        "\n",
        "DIM_CASE = 800 // NB_CASES        # dimension d'une case\n",
        "grille = grille_initiale(NB_CASES)\n",
        "fourmi = fourmi_initiale(NB_CASES)\n",
        "\n",
        "def setup():\n",
        "    createCanvas(800, 800)\n",
        "    dessiner_grille_vide(NB_CASES, DIM_CASE)\n",
        "    tracer_fourmi(fourmi, DIM_CASE)\n",
        "    frameRate(FRAMERATE)  \n",
        "    \n",
        "def draw():\n",
        "    diriger_fourmi(fourmi)\n",
        "    inverser_couleur(fourmi['ligne'], fourmi['colonne'], DIM_CASE)\n",
        "    bouger_fourmi(fourmi)\n",
        "    tracer_fourmi(fourmi, DIM_CASE)\n",
        "    \n",
        "run()"
      ],
      "outputs": [
        {
          "output_type": "display_data",
          "data": {
            "application/javascript": "element.append(window._basthonDomNodeBus.pop(0));"
          },
          "metadata": {}
        }
      ],
      "execution_count": 16,
      "metadata": {
        "trusted": false,
        "scrolled": false
      }
    },
    {
      "cell_type": "code",
      "source": [
        "stop()  # permet de mettre fin à l'animation"
      ],
      "outputs": [],
      "execution_count": null,
      "metadata": {
        "trusted": false
      }
    },
    {
      "cell_type": "markdown",
      "source": [
        "## 7. Quelques pistes d'amélioration"
      ],
      "metadata": {}
    },
    {
      "cell_type": "markdown",
      "source": [
        "### 7.1 Vérifier que la fourmi ne sort pas de la grille"
      ],
      "metadata": {}
    },
    {
      "cell_type": "markdown",
      "source": [
        "<div class = \"alert alert-block alert-info\">\n",
        "    \n",
        "\n",
        "\n",
        "Cette amélioration est indispensable. Quelle que soit la taille de la grille, la fourmi \"sortira\" de la grille et le programme déclenchera une erreur. On doit donc vérifier, avant de tracer la fourmi, que sa nouvelle position reste bien sur la grille. Si ce n'est pas le cas, on interrompt le programme. \n",
        "    \n",
        "  </div>  \n",
        "<div class = \"alert alert-block alert-warning\">\n",
        "    \n",
        "**Question**\n",
        "   \n",
        "Réaliser une fonction `est_dans_grille(ligne, colonne, grille)` qui renvoie `True` si les indices de ligne et colonne correspondent à une case de la grille et `False` sinon. \n",
        "\n",
        "Appeler cette fonction depuis la fonction `draw()` de p5. Lorsque `est_dans_grille(ligne, colonne, grille)` renvoie `False`, on pourra interrompre l'exécution en appelant la fonction [`noLoop()`](https://www.carnets.info/jupyter/p5/#rafraichissement). \n",
        "</div>"
      ],
      "metadata": {}
    },
    {
      "cell_type": "code",
      "source": [
        "def est_dans_grille(ligne, colonne, grille):\n",
        "    '''\n",
        "    est_dans_grille(ligne, colonne, grille) renvoie True si les indices de ligne et colonne \n",
        "    correspondent à une case de grille et False sinon.\n",
        "    '''\n",
        "    ..."
      ],
      "outputs": [],
      "execution_count": null,
      "metadata": {
        "trusted": false
      }
    },
    {
      "cell_type": "markdown",
      "source": [
        "### 7.2 Arrêter le programme après un nombre fixé d'étapes"
      ],
      "metadata": {}
    },
    {
      "cell_type": "markdown",
      "source": [
        "<div class = \"alert alert-block alert-info\">\n",
        "    \n",
        "Cette amélioration est optionnelle. Afin de pouvoir observer le \"comportement\" de la fourmi, on peut souhaiter interrompre ses déplacements après un nombre fixé d'étapes. \n",
        "    \n",
        "</div>  \n",
        "<div class = \"alert alert-block alert-warning\">\n",
        "    \n",
        "**Question**\n",
        "   \n",
        "\n",
        "Réaliser une fonction `tester_nb_etapes(nb_etapes_max)` qui interrompt le programme si le nombre d'étapes réalisées est supérieur à une valeur fixée. On pourra utiliser la variable système [`frameCount`](https://www.carnets.info/jupyter/p5/#rafraichissement) de p5 qui comptabilise le nombre d'appels à la fonction draw() réalisé depuis le lancement du programme.\n",
        "    \n",
        "Appeler cette fonction depuis la fonction `draw()` de p5.\n",
        "\n",
        "</div>"
      ],
      "metadata": {}
    },
    {
      "cell_type": "code",
      "source": [
        "def tester_nb_etapes(nb_etapes_max):\n",
        "    '''\n",
        "    tester_nb_etapes(nb_etapes_max) interrompt le programme si le nombre d'étapes réalisées \n",
        "    est supérieur à nb_etapes_max\n",
        "    '''\n",
        "    ..."
      ],
      "outputs": [],
      "execution_count": null,
      "metadata": {
        "trusted": false
      }
    },
    {
      "cell_type": "markdown",
      "source": [
        "### 7.3 Améliorer le tracé de la fourmi"
      ],
      "metadata": {}
    },
    {
      "cell_type": "markdown",
      "source": [
        "<div class = \"alert alert-block alert-warning\">\n",
        "    \n",
        "Cette amélioration est optionnelle. Modifier la fonction `tracer_fourmi` afin que le tracé permette d'identifier la direction de déplacement de la fourmi. \n",
        "    \n",
        "</div>  \n",
        "\n",
        "\n"
      ],
      "metadata": {}
    },
    {
      "cell_type": "code",
      "source": [],
      "outputs": [],
      "execution_count": null,
      "metadata": {
        "trusted": false
      }
    },
    {
      "cell_type": "markdown",
      "source": [
        "### 7.4 Afficher le nombre d'étapes"
      ],
      "metadata": {}
    },
    {
      "cell_type": "markdown",
      "source": [
        "<div class = \"alert alert-block alert-warning\">\n",
        "    \n",
        "Cette amélioration est optionnelle. Consulter le paragraphe [Textes dans p5](https://www.carnets.info/jupyter/p5/#textes) sur carnets.info et réaliser cette amélioration en autonomie. \n",
        "    \n",
        "</div>  \n",
        "\n",
        "\n"
      ],
      "metadata": {}
    },
    {
      "cell_type": "code",
      "source": [
        "def afficher_nb_etapes(x, y):\n",
        "    '''\n",
        "    affiche le nombre frameCount à la position (x, y)\n",
        "    '''\n",
        "    ..."
      ],
      "outputs": [],
      "execution_count": null,
      "metadata": {
        "trusted": false
      }
    },
    {
      "cell_type": "markdown",
      "source": [
        "### 7.5 Autres améliorations"
      ],
      "metadata": {}
    },
    {
      "cell_type": "markdown",
      "source": [
        "<div class = \"alert alert-block alert-warning\">\n",
        "    \n",
        "Ajoutez vos propres amélioration en autonomie. \n",
        "    \n",
        "</div>  \n",
        "\n",
        "\n"
      ],
      "metadata": {}
    },
    {
      "cell_type": "markdown",
      "source": [
        "## 8. Version finale"
      ],
      "metadata": {}
    },
    {
      "cell_type": "code",
      "source": [
        "# programme principal : modifier éventuellement la valeur de NB_CASES, FRAMERATE, NB_ETAPES_MAX\n",
        "# commenter les lignes qui appellent des fonctions optionnelles non réalisées\n",
        "\n",
        "NB_CASES = 35                     # nombre de cases du quadrillage par ligne ou colonne\n",
        "FRAMERATE = 50                    # nombre d'images par seconde\n",
        "NB_ETAPES_MAX = 1500\n",
        "\n",
        "#--------------------------------------------------------------------------------------\n",
        "\n",
        "DIM_CASE = 800 // NB_CASES        # dimension d'une case\n",
        "grille = grille_initiale(NB_CASES)\n",
        "fourmi = fourmi_initiale(NB_CASES)\n",
        "\n",
        "def setup():\n",
        "    createCanvas(800, 800)\n",
        "    dessiner_grille_vide(NB_CASES, DIM_CASE)\n",
        "    tracer_fourmi(fourmi, DIM_CASE)\n",
        "    frameRate(FRAMERATE)\n",
        "    \n",
        "def draw():\n",
        "    diriger_fourmi(fourmi)\n",
        "    inverser_couleur(fourmi['ligne'], fourmi['colonne'], DIM_CASE)\n",
        "    bouger_fourmi(fourmi)\n",
        "    if est_dans_grille(fourmi['ligne'], fourmi['colonne'], grille):\n",
        "        tracer_fourmi(fourmi, DIM_CASE)\n",
        "    tester_nb_etapes(NB_ETAPES_MAX)\n",
        "    afficher_nb_etapes(DIM_CASE, NB_CASES * DIM_CASE)\n",
        "    \n",
        "run()"
      ],
      "outputs": [
        {
          "output_type": "display_data",
          "data": {
            "application/javascript": "element.append(window._basthonDomNodeBus.pop(0));"
          },
          "metadata": {}
        }
      ],
      "execution_count": 22,
      "metadata": {
        "trusted": false,
        "scrolled": false
      }
    },
    {
      "cell_type": "code",
      "source": [
        "stop()"
      ],
      "outputs": [],
      "execution_count": null,
      "metadata": {
        "trusted": false
      }
    },
    {
      "cell_type": "markdown",
      "source": [
        "<div class = \"alert alert-block alert-warning\">\n",
        "    \n",
        "Rassembler en une seule cellule la totalité du programme. \n",
        "    \n",
        "</div>  \n",
        "\n",
        "\n"
      ],
      "metadata": {}
    },
    {
      "cell_type": "code",
      "source": [],
      "outputs": [],
      "execution_count": null,
      "metadata": {
        "trusted": false
      }
    },
    {
      "cell_type": "code",
      "source": [
        "stop()"
      ],
      "outputs": [],
      "execution_count": null,
      "metadata": {
        "trusted": false
      }
    },
    {
      "cell_type": "markdown",
      "source": [
        "## 9. Observations"
      ],
      "metadata": {}
    },
    {
      "cell_type": "markdown",
      "source": [
        "<div class = \"alert alert-block alert-warning\">\n",
        "    \n",
        "**Question**\n",
        "    \n",
        "Indiquer des valeurs de NB_CASES, FRAMERATE et NB_ETAPES_MAX qui permettent d'observer dans un temps raisonnable le phénomème appelé \"l'autoroute\".\n",
        "\n",
        "</div>"
      ],
      "metadata": {}
    },
    {
      "cell_type": "code",
      "source": [],
      "outputs": [],
      "execution_count": null,
      "metadata": {
        "trusted": false
      }
    },
    {
      "cell_type": "markdown",
      "source": [
        "Nathalie Weibel  \n",
        "*Les activités partagées sur <a href=\"https://capytale2.ac-paris.fr/web/accueil\">**Capytale**</a> sont sous licence <a href=\"https://creativecommons.org/licenses/by-sa/3.0/fr/\">Creative Commons</a>.*"
      ],
      "metadata": {}
    }
  ],
  "metadata": {
    "kernelspec": {
      "name": "python3",
      "display_name": "Python 3",
      "language": "python"
    },
    "language_info": {
      "name": "python",
      "version": "3.7.4",
      "mimetype": "text/x-python",
      "codemirror_mode": {
        "name": "ipython",
        "version": 3
      },
      "pygments_lexer": "ipython3",
      "nbconvert_exporter": "python",
      "file_extension": ".py"
    },
    "nteract": {
      "version": "0.28.0"
    }
  },
  "nbformat": 4,
  "nbformat_minor": 2
}