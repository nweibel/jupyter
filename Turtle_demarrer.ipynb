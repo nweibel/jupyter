{
 "cells": [
  {
   "cell_type": "markdown",
   "metadata": {},
   "source": [
    "# Turtle : quelques instructions pour démarrer\n",
    "\n"
   ]
  },
  {
   "cell_type": "markdown",
   "metadata": {},
   "source": [
    "Le module `mobilechelonian` permet d'utiliser une grande part des instructions Turtle dans un notebook Jupyter. \n",
    "\n",
    "Documentation : https://pypi.org/project/mobilechelonian/ "
   ]
  },
  {
   "cell_type": "markdown",
   "metadata": {},
   "source": [
    "Installation du module (déjà réalisé sur le serveur du lycée): \n",
    "`pip install mobilechelonian`\n"
   ]
  },
  {
   "cell_type": "markdown",
   "metadata": {},
   "source": [
    "### import du module"
   ]
  },
  {
   "cell_type": "code",
   "execution_count": 1,
   "metadata": {
    "execution": {
     "iopub.execute_input": "2020-08-25T09:57:29.424Z",
     "iopub.status.busy": "2020-08-25T09:57:29.419Z",
     "iopub.status.idle": "2020-08-25T09:57:29.436Z",
     "shell.execute_reply": "2020-08-25T09:57:30.869Z"
    }
   },
   "outputs": [],
   "source": [
    "from mobilechelonian import Turtle"
   ]
  },
  {
   "cell_type": "markdown",
   "metadata": {},
   "source": [
    "### Exemple"
   ]
  },
  {
   "cell_type": "code",
   "execution_count": 2,
   "metadata": {
    "execution": {
     "iopub.execute_input": "2020-08-25T09:57:29.457Z",
     "iopub.status.busy": "2020-08-25T09:57:29.449Z",
     "iopub.status.idle": "2020-08-25T09:57:29.513Z",
     "shell.execute_reply": "2020-08-25T09:57:30.872Z"
    }
   },
   "outputs": [
    {
     "data": {
      "application/vnd.jupyter.widget-view+json": {
       "model_id": "57512ff34f0340009b005953e19a30dc",
       "version_major": 2,
       "version_minor": 0
      },
      "text/plain": [
       "Turtle()"
      ]
     },
     "metadata": {},
     "output_type": "display_data"
    }
   ],
   "source": [
    "t = Turtle()\n",
    "t.speed(3)\n",
    "t.penup()\n",
    "t.setposition(75, 150)\n",
    "t.pendown()\n",
    "for loop in range(5) :\n",
    "        t.forward(250)\n",
    "        t.right(144)"
   ]
  },
  {
   "cell_type": "markdown",
   "metadata": {},
   "source": [
    "## Méthodes disponibles"
   ]
  },
  {
   "cell_type": "markdown",
   "metadata": {},
   "source": [
    "**forward(num)**\n",
    ">Fait avancer la tortue de `num` unités.\n",
    "      \n",
    "       Exemple:\n",
    "       t.forward(100)\n",
    "\n",
    "\n",
    "**backward(num)**    \n",
    ">Déplace la tortue vers l'arrière de `num` unités.\n",
    "       \n",
    "       Exemple:\n",
    "       t.backward(100)\n",
    "       \n",
    "\n",
    "**left(num)**\n",
    ">Fait tourner la tortue de `num` degrés vers la gauche.\n",
    "       \n",
    "       Exemple::\n",
    "       t.left(90)\n",
    "\n",
    "\n",
    "**right(num)**\n",
    "> Fait tourner la tortue de `num` degrés vers la droite.\n",
    "       \n",
    "       Exemple::\n",
    "       t.right(90)\n",
    "  \n",
    "\n",
    "**circle(rayon, angle=360)**\n",
    "> Trace un cercle ou un arc de cercle  \n",
    "À partir de sa position actuelle, la tortue dessinera une série de lignes courtes, tournant légèrement entre 2 lignes. Si le rayon est positif, elle tournera sur sa gauche et  si le rayon est négatif  elle tournera sur sa droite.\n",
    "       \n",
    "       Exemple:\n",
    "       t.circle(50)\n",
    "   \n",
    "\n",
    "**home()**\n",
    ">Déplace la tortue à sa position d'origine.\n",
    "       \n",
    "       Exemple:\n",
    "       t.home()\n",
    "   \n",
    "   \n",
    "**pencolor(color)**\n",
    "> Change la couleur du stylo, noire par défaut.   \n",
    "Couleurs disponibles : \"red\",\"blue\",\"yellow\",\"brown\",\"black\",\"green\",\"purple\", \"white\", \"cyan\", \n",
    "         \"orange\", \"grey\", \"pink\", \"lightgreen\", \"lightblue\"\n",
    "      \n",
    "       Exemple:\n",
    "       t.pencolor(\"red\")\n",
    "   \n",
    "**pendown()**\n",
    ">Baisse le stylo. Au départ, le stylo est abaissé.\n",
    "       \n",
    "       Exemple:\n",
    "       t.pendown()\n",
    "  \n",
    "**penup()**\n",
    ">Relève le stylo.\n",
    "       \n",
    "       Exemple:\n",
    "       t.penup()\n",
    "\n",
    "   \n",
    "**setbearing(angle)**\n",
    ">Change la direction de la tortue.\n",
    "       \n",
    "       Exemple:\n",
    "       t.setbearing(180)\n",
    "   \n",
    "**setposition(x, y, bearing=None)**\n",
    ">Change la position de la tortue.\n",
    "       \n",
    "       Exemple:\n",
    "       t.setposition(100, 100)\n",
    "   \n",
    "**speed(speed)**\n",
    ">Modifie la vitesse de la tortue (entre 1 et 10).\n",
    "       \n",
    "       Exemple:\n",
    "       t.speed(10) "
   ]
  }
 ],
 "metadata": {
  "kernelspec": {
   "display_name": "Python 3",
   "language": "python",
   "name": "python3"
  },
  "language_info": {
   "codemirror_mode": {
    "name": "ipython",
    "version": 3
   },
   "file_extension": ".py",
   "mimetype": "text/x-python",
   "name": "python",
   "nbconvert_exporter": "python",
   "pygments_lexer": "ipython3",
   "version": "3.8.3"
  },
  "nteract": {
   "version": "0.24.0"
  }
 },
 "nbformat": 4,
 "nbformat_minor": 4
}
