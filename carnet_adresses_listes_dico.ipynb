{
 "cells": [
  {
   "cell_type": "markdown",
   "metadata": {},
   "source": [
    "# Listes et dictionnaires\n",
    "\n",
    "L'objectif est de créer deux types de carnets d'adresses (permettant de stocker des contacts) pour comparer leurs performances lors de la recherche d'un contact.\n",
    "\n",
    "## 1. Fabrication d'un contact \n",
    "\n",
    "Chaque contact sera un dictionnaire dont les clés seront :\n",
    "- `nom` : Nom et prénom du contact\n",
    "- `tel` : N° de téléphone\n",
    "- `rue` : adresse complète\n",
    "- `code` : code postal\n",
    "- `ville` : ville\n",
    "- `naissance` : date de naissance\n",
    "\n",
    "### Question 1\n",
    "Créer un dictionnaire nommé `contact` correspondant au contact suivant :\n",
    "> Salvador Allende<br/>\n",
    "> 26 juin 1908<br/>\n",
    "> 02 31 53 10 70<br/>\n",
    "> 18 Rue Guyon de Guercheville<br/>\n",
    "> 14200 Hérouville-Saint-Clair"
   ]
  },
  {
   "cell_type": "code",
   "execution_count": null,
   "metadata": {},
   "outputs": [],
   "source": [
    "contact = {}\n",
    " # à compléter\n",
    "print(contact)"
   ]
  },
  {
   "cell_type": "markdown",
   "metadata": {},
   "source": [
    "## 2. Génération automatique d'un contact\n",
    "\n",
    "\n",
    "On utilise le module `faker` de python dont un exemple d'utilisation est donné dans la cellule ci-dessous.\n",
    "\n",
    "Installer le module lors de la première utilisation en exécutant la cellule ci-dessous\n"
   ]
  },
  {
   "cell_type": "code",
   "execution_count": null,
   "metadata": {
    "scrolled": true
   },
   "outputs": [],
   "source": [
    "pip install faker"
   ]
  },
  {
   "cell_type": "markdown",
   "metadata": {},
   "source": [
    "### Question 2\n",
    "Exécuter la cellule ci-dessous pour se familiariser avec les méthodes permettant de générer au hasard un contact."
   ]
  },
  {
   "cell_type": "code",
   "execution_count": 2,
   "metadata": {},
   "outputs": [
    {
     "name": "stdout",
     "output_type": "stream",
     "text": [
      "Vincent-Aimé Alves\n",
      "0650787740\n",
      "76, chemin Joubert\n",
      "35309 Chauvet-sur-Bertrand\n",
      "1936-05-23\n"
     ]
    }
   ],
   "source": [
    "from faker import Faker\n",
    "\n",
    "fake = Faker(\"fr_FR\") # Générateur de données personnelles pour un français\n",
    "\n",
    "print(fake.name())\n",
    "print(fake.phone_number())\n",
    "print(fake.street_address())\n",
    "print(fake.postcode(), fake.city())\n",
    "print(str(fake.date_of_birth()))"
   ]
  },
  {
   "cell_type": "markdown",
   "metadata": {},
   "source": [
    "### Question 3\n",
    "Ecrire une fonction `faux_contact()` qui ne prend aucun paramètre et  qui renvoie un dictionnaire possédant les mêmes clés que le dictionnaire `contact` de la question 1 mais avec un contact généré au hasard comme dans la cellule ci-dessus."
   ]
  },
  {
   "cell_type": "code",
   "execution_count": null,
   "metadata": {},
   "outputs": [],
   "source": [
    "def faux_contact():\n",
    "    dico = {}\n",
    "     # à compléter\n",
    "        \n",
    "        \n",
    "    return(dico)\n",
    "    "
   ]
  },
  {
   "cell_type": "code",
   "execution_count": null,
   "metadata": {},
   "outputs": [],
   "source": [
    "print(faux_contact())"
   ]
  },
  {
   "cell_type": "markdown",
   "metadata": {},
   "source": [
    "## 3. Première implémentation : sous forme de liste \n",
    "\n",
    " \n",
    "### 3.1 Fabrication du carnet d'adresses\n",
    "\n",
    "Dans cette partie, le carnet d'adresses sera une **liste** de contacts, chaque contact étant un dictionnaire dont la structure correspond à celle définie dans la fonction `faux_contact()`.\n",
    "\n",
    "### Question 4\n",
    "Ecrire une fonction `faux_carnet_1iste(n)` prenant en paramètre le nombre `n` de contacts à générer et qui renvoie une **liste** de `n` contacts générés au hasard. *On peut écrire la liste en comprehension*."
   ]
  },
  {
   "cell_type": "code",
   "execution_count": null,
   "metadata": {},
   "outputs": [],
   "source": [
    "def faux_carnet_1iste(n):\n",
    "    L =  #  à compléter\n",
    "    return(L)"
   ]
  },
  {
   "cell_type": "code",
   "execution_count": null,
   "metadata": {},
   "outputs": [],
   "source": [
    "carnet_liste = faux_carnet_1iste(10)\n",
    "print(carnet1[0]) # le premier contact\n",
    "print(carnet1[-1]) # le dernier contact"
   ]
  },
  {
   "cell_type": "markdown",
   "metadata": {},
   "source": [
    "### Question 5\n",
    "Ecrire  une fonction `est_present(nom, carnet)` prenant 2 paramètres : un nom et un carnet d'adresses du type précédent et qui renvoie `True` si le nom figure dans le carnet d'adresses et  `False` sinon."
   ]
  },
  {
   "cell_type": "code",
   "execution_count": null,
   "metadata": {},
   "outputs": [],
   "source": [
    "def est_present(nom, carnet):\n",
    "    '''\n",
    "    Teste si nom est présent dans le carnet d'adresses\n",
    "    le carnet est une liste de dictionnaires\n",
    "    '''\n",
    "    for contact in carnet:\n",
    "     # à compléter \n",
    "    \n",
    "    \n",
    "    "
   ]
  },
  {
   "cell_type": "code",
   "execution_count": null,
   "metadata": {},
   "outputs": [],
   "source": [
    "carnet_liste = faux_carnet_1iste(10)\n",
    "nom_present = carnet_liste[-1][\"nom\"] # on récupère un nom du carnet\n",
    "print(nom_present)"
   ]
  },
  {
   "cell_type": "code",
   "execution_count": null,
   "metadata": {},
   "outputs": [],
   "source": [
    "est_present(nom_present, carnet_liste)"
   ]
  },
  {
   "cell_type": "code",
   "execution_count": null,
   "metadata": {},
   "outputs": [],
   "source": [
    "est_present('Toto', carnet_liste)"
   ]
  },
  {
   "cell_type": "markdown",
   "metadata": {},
   "source": [
    "### 3.2 Mesure de performance de la recherche\n",
    "\n",
    "Nous allons regarder comment évolue la vitesse de recherche en fonction de la taille du carnet d'adresses.    \n",
    "On utilisera pour  cela la fonction magique de *jupyter* : `%%timeit`.\n",
    "\n",
    "### Question 6\n",
    "1. Exécuter les cellules ci-dessous pour mesurer le temps de recherche dans un carnet de 100 contacts."
   ]
  },
  {
   "cell_type": "code",
   "execution_count": null,
   "metadata": {},
   "outputs": [],
   "source": [
    "# Fabrication d'un carnet de 100 contacts\n",
    "carnet_liste = faux_carnet_1iste(100)\n",
    "nom = carnet_liste[-1][\"nom\"]  # On récupère le dernier nom du carnet\n",
    "nom"
   ]
  },
  {
   "cell_type": "code",
   "execution_count": null,
   "metadata": {},
   "outputs": [],
   "source": [
    "%%timeit\n",
    "\n",
    "# On mesure le temps d'une recherche dans ce carnet\n",
    "est_present(nom, carnet_liste)"
   ]
  },
  {
   "cell_type": "markdown",
   "metadata": {},
   "source": [
    "2. Exécuter les cellules ci-dessous pour mesurer le temps de recherche dans un carnet de 1000 contacts"
   ]
  },
  {
   "cell_type": "code",
   "execution_count": null,
   "metadata": {},
   "outputs": [],
   "source": [
    "# Fabrication d'un carnet de 1000 contacts\n",
    "carnet_liste = faux_carnet_1iste(1000)\n",
    "nom = carnet_liste[-1][\"nom\"]  # On récupère le dernier nom du carnet\n",
    "nom"
   ]
  },
  {
   "cell_type": "code",
   "execution_count": null,
   "metadata": {},
   "outputs": [],
   "source": [
    "%%timeit\n",
    "\n",
    "# On mesure le temps d'une recherche dans ce carnet\n",
    "est_present(nom, carnet_liste)"
   ]
  },
  {
   "cell_type": "markdown",
   "metadata": {},
   "source": [
    "3. Exécuter les cellules ci-dessous pour mesurer le temps de recherche dans un carnet de 10_000 contacts"
   ]
  },
  {
   "cell_type": "code",
   "execution_count": null,
   "metadata": {},
   "outputs": [],
   "source": [
    "# Fabrication d'un carnet de 10000 contacts\n",
    "carnet_liste = faux_carnet_1iste(10000)\n",
    "nom = carnet_liste[-1][\"nom\"]  # On récupère le dernier nom du carnet\n",
    "nom"
   ]
  },
  {
   "cell_type": "code",
   "execution_count": null,
   "metadata": {},
   "outputs": [],
   "source": [
    "%%timeit\n",
    "\n",
    "# On mesure le temps d'une recherche dans ce carnet\n",
    "est_present(nom, carnet_liste)"
   ]
  },
  {
   "cell_type": "markdown",
   "metadata": {},
   "source": [
    "\n",
    "Comment évolue le  temps de recherche lorsqu'on considère un carnet contenant 10 fois plus de contacts ? Comment qualifie-t-on cette situation ?\n",
    "\n",
    "\n",
    "## 4. Seconde implémentation : sous forme de dictionnaire\n",
    "\n",
    "### 4.1 Fabrication du carnet d'adresses\n",
    "Dans cette partie, le carnet d'adresses sera un dictionnaire dont les clés seront les **noms** et les valeurs seront les fiches contacts. Ainsi le carnet d'adresses sera un dictionnaire dont les valeurs seront des dictionnaires !\n",
    "\n",
    "Un élément du carnet sera par exemple :\n",
    "```\n",
    "{'Hugues Leroy': {'tel': '+33 (0)1 00 56 87 97',\n",
    "  'rue': '77, rue Françoise Turpin',\n",
    "  'ville': 'Sainte Lucy-sur-Mer',\n",
    "  'code': '75513',\n",
    "  'naissance': '1947-10-10'}\n",
    "```\n",
    "\n",
    "### Question 7\n",
    "Ecrire une fonction `faux_carnet_dico(n)` prenant en paramètre le nombre `n` de contacts à générer et qui renvoie un **dictionnaire** de `n` contacts générés au hasard."
   ]
  },
  {
   "cell_type": "code",
   "execution_count": null,
   "metadata": {},
   "outputs": [],
   "source": [
    "def faux_carnet_dico(n):\n",
    "    dico = {}\n",
    "     \n",
    "    # à compléter\n",
    "    \n",
    "    return(dico)\n",
    "    "
   ]
  },
  {
   "cell_type": "code",
   "execution_count": null,
   "metadata": {},
   "outputs": [],
   "source": [
    "carnet_dico = faux_carnet_dico(10)\n",
    " \n",
    "nom = list(carnet_dico.keys())[-1] \n",
    "print(f\"{nom} : {carnet_dico[nom]}\")"
   ]
  },
  {
   "cell_type": "markdown",
   "metadata": {},
   "source": [
    "### 4.2 Mesure de performance de la recherche\n",
    "\n",
    "Nous allons regarder pour cette nouvelle implémentation comment évolue la vitesse de recherche en fonction de la taille du carnet d'adresses.\n",
    "\n",
    "### Question 8\n",
    "1. Exécuter les cellules ci-dessous (lire attentivement le code) pour mesurer le temps de recherche dans un carnet de 100 contacts"
   ]
  },
  {
   "cell_type": "code",
   "execution_count": null,
   "metadata": {},
   "outputs": [],
   "source": [
    "# Fabrication d'un carnet de 100 contacts\n",
    "carnet_dico = faux_carnet_dico(100)\n",
    "nom = list(carnet_dico.keys())[-1] # On récupère un nom du carnet (le dernier dans la liste des clés)\n",
    "nom"
   ]
  },
  {
   "cell_type": "code",
   "execution_count": null,
   "metadata": {},
   "outputs": [],
   "source": [
    "%%timeit\n",
    "\n",
    "nom in carnet_dico      "
   ]
  },
  {
   "cell_type": "markdown",
   "metadata": {},
   "source": [
    "2. Exécuter les cellules ci-dessous (lire attentivement le code) pour mesurer le temps de recherche dans un carnet de 1000 contacts."
   ]
  },
  {
   "cell_type": "code",
   "execution_count": null,
   "metadata": {},
   "outputs": [],
   "source": [
    "# Fabrication d'un carnet de 1000 contacts\n",
    "carnet_dico = faux_carnet_dico(1000)\n",
    "nom = list(carnet_dico.keys())[-1] # On récupère un nom du carnet (le dernier dans la liste des clés)\n",
    "nom"
   ]
  },
  {
   "cell_type": "code",
   "execution_count": null,
   "metadata": {},
   "outputs": [],
   "source": [
    "%%timeit\n",
    "\n",
    "nom in carnet_dico     "
   ]
  },
  {
   "cell_type": "markdown",
   "metadata": {},
   "source": [
    "3. Exécuter les cellules ci-dessous (lire attentivement le code) pour mesurer le temps de recherche dans un carnet de 10_000 contacts."
   ]
  },
  {
   "cell_type": "code",
   "execution_count": null,
   "metadata": {},
   "outputs": [],
   "source": [
    "# Fabrication d'un carnet de 10000 contacts\n",
    "carnet_dico = faux_carnet_dico(10000)\n",
    "nom = list(carnet_dico.keys())[-1] # On récupère un nom du carnet (le dernier dans la liste des clés)\n",
    "nom"
   ]
  },
  {
   "cell_type": "code",
   "execution_count": null,
   "metadata": {},
   "outputs": [],
   "source": [
    "%%timeit\n",
    "\n",
    "nom in carnet_dico"
   ]
  },
  {
   "cell_type": "markdown",
   "metadata": {},
   "source": [
    "Comment évolue le temps de recherche lorsqu'on considère un carnet contenant 10 fois plus de contacts ? "
   ]
  },
  {
   "cell_type": "markdown",
   "metadata": {},
   "source": [
    "## Conclusion\n",
    "\n",
    "Le temps de recherche dans le dictionnaire est pratiquement indépendant du nombre d'entrées dans ce dictionnaire, car en multipliant le nombre de contacts par 100, le temps est resté pratiquement identique alors que dans le cas de la recherche dans un tableau, celui-ci est proportionnel à la longueur du tableau.\n",
    "\n",
    "Le dictionnaire est une structure de données optimisée pour la recherche sur les clés."
   ]
  }
 ],
 "metadata": {
  "kernelspec": {
   "display_name": "Python 3",
   "language": "python",
   "name": "python3"
  },
  "language_info": {
   "codemirror_mode": {
    "name": "ipython",
    "version": 3
   },
   "file_extension": ".py",
   "mimetype": "text/x-python",
   "name": "python",
   "nbconvert_exporter": "python",
   "pygments_lexer": "ipython3",
   "version": "3.8.2"
  },
  "nteract": {
   "version": "0.27.0"
  }
 },
 "nbformat": 4,
 "nbformat_minor": 2
}
