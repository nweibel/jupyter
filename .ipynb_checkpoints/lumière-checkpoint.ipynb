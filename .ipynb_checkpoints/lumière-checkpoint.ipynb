{
 "cells": [
  {
   "cell_type": "markdown",
   "metadata": {},
   "source": [
    "# Lumière !"
   ]
  },
  {
   "cell_type": "markdown",
   "metadata": {},
   "source": [
    "Le castor informatique suisse a proposé en 2018 le problème suivant :\n",
    "\n",
    ">Sept interrupteurs sont reliés à sept lampes, et cela de manière à ce que chaque interrupteur contrôle trois lampes : celle qui porte le même numéro que l'interrupteur et ses deux voisines. Lorsqu'on appuie sur un interrupteur, les lampes y étant reliées s'éteignent si elles étaient allumées et s'allument si elles étaient éteintes.\n",
    ">En partant d'une situation initiale où les lampes allumées portent les n° 3, 5 et 7, déterminer une séquence d'interrupteurs sur lesquels appuyer afin que toutes les lampes soient allumées en même temps. "
   ]
  },
  {
   "cell_type": "markdown",
   "metadata": {},
   "source": [
    "![](https://raw.githubusercontent.com/nweibel/jupyter/master/lampes.png)"
   ]
  },
  {
   "cell_type": "markdown",
   "metadata": {},
   "source": [
    "L'objectif est ici de **créer une interface en html/css/javascript** permettant de simuler l'appui sur les interrupteurs et leurs effets sur les lampes, afin de **résoudre** plus facilement le problème. \n",
    "\n",
    "Deux options sont proposées : \n",
    "- construire en autonomie sa propre proposition, auquel cas la suite de ce document ne sera d'aucune utilité\n",
    "- ou suivre le parcours guidé ci-dessous\n"
   ]
  },
  {
   "cell_type": "markdown",
   "metadata": {},
   "source": [
    "On pourra dans tous les cas consulter dès que nécessaire : \n",
    "- une page de [références des éléments HTML](https://developer.mozilla.org/fr/docs/Web/HTML/Element)\n",
    "- une page de [références CSS](https://developer.mozilla.org/fr/docs/Web/CSS/Reference)\n",
    "\n",
    "Aucun pré-requis en Javascript n'est attendu pour le parcours guidé : les codes JS nécessaires sont soit fournis, soit à modifier de façon mineure.\n"
   ]
  },
  {
   "cell_type": "markdown",
   "metadata": {},
   "source": [
    "# Parcours guidé\n",
    "\n",
    "Le parcours suivant propose d'élaborer une solution en créant trois fichiers de type `html`, `css` et `javascript`. Le recours à un site comme [codepen.io](https://codepen.io) est conseillé. \n",
    "À chaque étape, des choix sont proposés : il est possible d'effectuer d'autres choix dès lors qu'on en maitrise les effets."
   ]
  },
  {
   "cell_type": "markdown",
   "metadata": {},
   "source": [
    "## Étape 1 : présenter la page \n"
   ]
  },
  {
   "cell_type": "markdown",
   "metadata": {},
   "source": [
    "#### HTML \n",
    "Écrire  :\n",
    "- un titre pour la page\n",
    "- l'énoncé du problème"
   ]
  },
  {
   "cell_type": "markdown",
   "metadata": {},
   "source": [
    "#### CSS\n",
    "Choisir la mise en forme : couleur du fond, police et couleur du texte, des titres.\n",
    "\n",
    "---"
   ]
  },
  {
   "cell_type": "markdown",
   "metadata": {},
   "source": [
    "On propose de représenter les lampes par des disques gris ou jaunes, selon qu'elles sont allumées ou éteintes, et les  interrupteurs par des boutons rectangulaires. \n",
    "\n",
    "![](https://raw.githubusercontent.com/nweibel/jupyter/master/lampes_interrupteurs.png)\n",
    "\n",
    "---"
   ]
  },
  {
   "cell_type": "markdown",
   "metadata": {},
   "source": [
    "## Étape 2 : positionner les boutons\n",
    "\n"
   ]
  },
  {
   "cell_type": "markdown",
   "metadata": {},
   "source": [
    "#### HTML\n",
    "Ajouter un conteneur (élément `div`) de classe `boutons` pour l'ensemble des boutons, et insérer sept boutons :\n",
    "\n",
    "```html\n",
    "<div class=\"boutons\">\n",
    "    <button> n°1 </button>\n",
    "    \n",
    "    <! -- à compléter -->\n",
    "\n",
    "</div>\n",
    "```"
   ]
  },
  {
   "cell_type": "markdown",
   "metadata": {},
   "source": [
    "#### CSS\n",
    "1. Mettre en forme les boutons et leur positionnement sur la page.  \n",
    "Par exemple on pourra préciser pour les éléments de type `button` les valeurs des propriétés suivantes :   \n",
    "`border`, `background-color`, `width`, `height`,` margin`, `cursor`, `font-size`, etc. \n",
    "\n",
    "2. Préciser avec la pseudo-casse `button:hover`, l'apparence du bouton au survol. \n",
    "\n",
    "---\n"
   ]
  },
  {
   "cell_type": "markdown",
   "metadata": {},
   "source": [
    "## Étape 3 : positionner les lampes\n"
   ]
  },
  {
   "cell_type": "markdown",
   "metadata": {},
   "source": [
    "#### HTML\n",
    "Ajouter un conteneur (élément `div`) de classe `'lampes'` pour l'ensemble des lampes.   \n",
    "Chaque lampe est elle aussi un conteneur, de classe `lampe`. Le contenu affiché sera le numéro de la lampe.   \n",
    "Insérer sept lampes en associant à chacune un identifiant `id` spécifique :\n",
    "\n",
    "```html\n",
    "<div class=\"lampes\">\n",
    "   <div class=\"lampe\" id=\"lampe1\"> \n",
    "       1 \n",
    "   </div>\n",
    "    <! -- à compléter -->\n",
    "\n",
    "</div>\n",
    "```"
   ]
  },
  {
   "cell_type": "markdown",
   "metadata": {},
   "source": [
    "#### CSS\n",
    "1. Mettre en forme **l'aspect commun à toutes les lampes** : l'aspect allumé ou éteint sera géré plus bas.  \n",
    "Par exemple on pourra préciser pour les éléments de classe `lampe` les valeurs des propriétés suivantes :   \n",
    "`border`, `width`, `height`,  `text-align`\n",
    " \n",
    "2. En donnant de plus à la propriété `border-radius` la valeur `50%` les conteneurs rectangulaires deviennent des disques. \n",
    "\n",
    "3. Ajouter, toujours pour les éléments de classe `lampe`, la déclaration : \n",
    "```css\n",
    "position : absolute;\n",
    "```\n",
    "\n",
    "4. Pour positionner les lampes en cercle on peut effectuer pour chacune d'elles une translation.\n",
    "Chaque positionnement étant spécifique à chaque lampe, on utilise son identifiant comme sélecteur. \n",
    "Voici les règles utilisées pour la copie d'écran.\n",
    "```css\n",
    "#lampe1{\n",
    "    transform: translate(200px, 0px);\n",
    "}\n",
    "#lampe2{\n",
    "    transform: translate(260px, 30px);\n",
    "}\n",
    "#lampe3{\n",
    "    transform: translate(280px, 100px);\n",
    "}\n",
    "#lampe4{\n",
    "    transform: translate(236px, 160px);\n",
    "}\n",
    "#lampe5{\n",
    "    transform: translate(162px, 160px);\n",
    "}\n",
    "#lampe6{\n",
    "    transform: translate(118px, 100px);\n",
    "}\n",
    "#lampe7{\n",
    "    transform: translate(134px, 30px);\n",
    "}\n",
    "```\n",
    "\n",
    "5. Ajouter au code CSS les règles suivantes : \n",
    "```css\n",
    ".eteinte{\n",
    "    background-color: grey;\n",
    "}\n",
    ".allumee{\n",
    "    background-color: yellow;\n",
    "}\n",
    "```"
   ]
  },
  {
   "cell_type": "markdown",
   "metadata": {},
   "source": [
    "#### HTML\n",
    "Afin de prendre en compte les dernières règles CSS, modifier la classe de chaque lampe pour qu'elle corresponde à la configuration initiale du problème : chaque lampe verra son attribut `class` prendre soit la valeur `'lampe allumee'`, soit la valeur `'lampe eteinte'`, au lieu de `'lampe'`.\n",
    "\n",
    "---"
   ]
  },
  {
   "cell_type": "markdown",
   "metadata": {},
   "source": [
    "## Étape 4 : rendre les boutons actifs\n"
   ]
  },
  {
   "cell_type": "markdown",
   "metadata": {},
   "source": [
    "Chaque bouton a une fonctionnalité différente de celle des autres boutons : il faut donc associer à chaque bouton une fonction JAVASCRIPT différente."
   ]
  },
  {
   "cell_type": "markdown",
   "metadata": {},
   "source": [
    "#### HTML\n",
    "Associer à chaque bouton un gestionnaire d'événement. On pourra choisir de nommer les fonctions associées au clic sur les boutons : `un()` pour le clic sur le bouton 1, `deux()` pour le clic sur le bouton 2, etc.\n",
    "\n",
    "```html\n",
    "<button onclick=\"un()\"> n°1 </button>\n",
    "<! -- à compléter-->\n",
    "```\n"
   ]
  },
  {
   "cell_type": "markdown",
   "metadata": {},
   "source": [
    "#### JS\n",
    "\n",
    "Il faut désormais préciser le contenu des fonctions déclenchées par les clics sur les boutons. \n",
    "\n",
    "1. Les clics sur les boutons vont modifier l'état des lampes (allumée/éteinte). On écrit une première fonction `inverser(lampe)` qui inverse l'état d'une lampe passée en paramètre. Elle sera appelée dans chacune des fonctions à créer, pour chaque lampe à inverser.  \n",
    "Copier cette fonction dans le code JAVASCRIPT.\n",
    "\n",
    "```js\n",
    "function inverser(lampe) {\n",
    "  if(lampe.className === 'lampe allumee'){\n",
    "    lampe.className = 'lampe eteinte';\n",
    "    } \n",
    "  else {\n",
    "    lampe.className = 'lampe allumee';\n",
    "    }\n",
    "}\n",
    "```\n",
    "\n",
    "2. Chaque lampe doit pouvoir être  modifiée par les fonctions JAVASCRIPT à créer : on crée donc sept variables permettant de sélectionner chacun des éléments correspondants aux sept identifiants des lampes.\n",
    "```js\n",
    "let lampe1 = document.getElementById(\"lampe1\");\n",
    "// à compléter\n",
    "```\n",
    "\n",
    "3. Enfin on précise le contenu des sept fonctions appelées lors des clics sur les boutons.  \n",
    "Chacune de ces fonctions inverse la couleur de trois lampes. \n",
    "Par exemple, pour un clic sur le bouton n°1, la fonction exécutée est : \n",
    "```js\n",
    "function un() {\n",
    "  inverser(lampe1);\n",
    "  inverser(lampe2);\n",
    "  inverser(lampe7);\n",
    "}\n",
    "```\n",
    "Reproduire cette fonction et écrire les 6 autres, déclenchées lors du clic sur chacun des six autres boutons.\n",
    "\n",
    "\n",
    "---"
   ]
  },
  {
   "cell_type": "markdown",
   "metadata": {},
   "source": [
    "## Étape 5\n",
    "\n",
    "Vérifier que tout fonctionne comme attendu, et si nécessaire reprendre chaque étape. \n",
    "\n",
    "---"
   ]
  },
  {
   "cell_type": "markdown",
   "metadata": {},
   "source": [
    "## Étape 6 (facultatif)\n",
    "\n",
    "Proposer des fonctionnalités supplémentaires : compteur du nombre d'interrupteurs activés, bouton de ré-initialisation, etc. \n",
    "\n",
    "---"
   ]
  },
  {
   "cell_type": "markdown",
   "metadata": {},
   "source": [
    "# Résoudre le problème posé\n",
    "\n",
    "- Proposer une séquence d'interrupteurs sur lesquels appuyer afin que toutes les lampes soient allumées en même temps. \n",
    "- Quelle est la longueur des séquences les plus courtes ? "
   ]
  }
 ],
 "metadata": {
  "kernelspec": {
   "display_name": "Python 3",
   "language": "python",
   "name": "python3"
  },
  "language_info": {
   "codemirror_mode": {
    "name": "ipython",
    "version": 3
   },
   "file_extension": ".py",
   "mimetype": "text/x-python",
   "name": "python",
   "nbconvert_exporter": "python",
   "pygments_lexer": "ipython3",
   "version": "3.8.2"
  }
 },
 "nbformat": 4,
 "nbformat_minor": 4
}
