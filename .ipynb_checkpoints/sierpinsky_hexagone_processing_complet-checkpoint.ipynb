{
 "cells": [
  {
   "cell_type": "markdown",
   "metadata": {},
   "source": [
    "# Positionner des centres de gravité\n"
   ]
  },
  {
   "cell_type": "markdown",
   "metadata": {},
   "source": [
    "Remarque : Le programme suivant utilise le module p5 (Processing) dans la version disponible sur le site Basthon.  \n",
    "Il permet de réaliser des tracés graphiques. "
   ]
  },
  {
   "cell_type": "markdown",
   "metadata": {},
   "source": [
    "1. Compléter la fonction `centre` qui détermine les coordonnées du centre de gravité d'un triangle. \n",
    "\n",
    "   Les coordonnées du centre de gravité d'un triangle sont égales à la moyenne des coordonnées des sommets du triangle : \n",
    "   \n",
    "   Si A, B et C ont pour coordonnées $A(x_A, y_A)$, $B(x_B, y_B)$ et $C(x_C, y_C)$, alors le centre de gravité G du triangle ABC a pour coordonnées : $G(\\dfrac{x_A+x_B+x_C}{3}, \\dfrac{y_A+y_B+y_C}{3})$\n",
    "2. Exécuter le programme et observer ce qu'il produit.\n",
    "3. Expliquer son fonctionnement. "
   ]
  },
  {
   "cell_type": "code",
   "execution_count": null,
   "metadata": {},
   "outputs": [],
   "source": [
    "from p5 import *"
   ]
  },
  {
   "cell_type": "code",
   "execution_count": null,
   "metadata": {},
   "outputs": [],
   "source": [
    "from random import randint\n",
    "  \n",
    "# sommets\n",
    "hexagone = {\n",
    "'A' : (100,0),\n",
    "'B' : (300,0),\n",
    "'C' : (400, 173),\n",
    "'D' : (300, 346),\n",
    "'E' : (100, 346),\n",
    "'F' : (0, 173)\n",
    "}\n",
    "\n",
    "point_actuel = hexagone['A']\n",
    "\n",
    "def centre(point1, point2, point3):\n",
    "    return ((point1[0] + point2[0] + point3[0])/3, (point1[1] + point2[1]+ point3[1])/3)\n",
    "\n",
    "def next_point(point):\n",
    "    '''point est un couple de coordonnées\n",
    "    next_point détermine le centre d'un triangle formé par le point donné\n",
    "    et un coté aléatoire de l'hexagone \n",
    "    '''\n",
    "    nb = randint(0,5)\n",
    "    if nb == 0:\n",
    "        point_suivant = centre(point, hexagone['A'], hexagone['B'])\n",
    "    elif nb == 1:\n",
    "        point_suivant = centre(point, hexagone['B'], hexagone['C'])\n",
    "    elif nb == 2:\n",
    "        point_suivant = centre(point, hexagone['C'], hexagone['D'])\n",
    "    elif nb == 3:\n",
    "        point_suivant = centre(point, hexagone['D'], hexagone['E'])\n",
    "    elif nb == 4:\n",
    "        point_suivant = centre(point, hexagone['E'], hexagone['F'])\n",
    "    else :\n",
    "        point_suivant = centre(point, hexagone['F'], hexagone['A'])\n",
    "    return point_suivant\n",
    "\n",
    "def setup():             # fonction liée à Processing\n",
    "    # dimension de la fenetre d'affichage\n",
    "    createCanvas(400, 400)\n",
    "     # couleur des tracés\n",
    "    stroke(220, 0, 120)\n",
    "\n",
    "def draw():              # fonction liée à Processing\n",
    "    global point_actuel\n",
    "    point_suivant = next_point(point_actuel)\n",
    "    ellipse(point_suivant[0], point_suivant[1],1,1)\n",
    "    point_actuel = point_suivant\n",
    "\n",
    "run()\n",
    "# cette fonction spécifique à Processing exécute une fois la fonction setup(), puis en boucle, la fonction draw()"
   ]
  },
  {
   "cell_type": "code",
   "execution_count": null,
   "metadata": {},
   "outputs": [],
   "source": [
    "stop()\n",
    "# cette fonction spécifique à Processing interrompt l'exécution en boucle de draw()"
   ]
  }
 ],
 "metadata": {
  "celltoolbar": "Slideshow",
  "kernelspec": {
   "display_name": "Python 3",
   "language": "python",
   "name": "python3"
  },
  "language_info": {
   "codemirror_mode": {
    "name": "ipython",
    "version": 3
   },
   "file_extension": ".py",
   "mimetype": "text/x-python",
   "name": "python",
   "nbconvert_exporter": "python",
   "pygments_lexer": "ipython3",
   "version": "3.8.2"
  }
 },
 "nbformat": 4,
 "nbformat_minor": 2
}
