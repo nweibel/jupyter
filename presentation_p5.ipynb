{
  "cells": [
    {
      "cell_type": "markdown",
      "source": [
        "<div class=\"alert alert-info\">\n",
        "    \n",
        "# Atelier APMEP : créer des animations avec python et p5\n",
        "\n",
        "</div>"
      ],
      "metadata": {
        "slideshow": {
          "slide_type": "slide"
        }
      }
    },
    {
      "cell_type": "markdown",
      "source": [
        "<div class=\"alert alert-info\">\n",
        "    \n",
        "## 0. Présentation de p5\n",
        "</div>"
      ],
      "metadata": {
        "slideshow": {
          "slide_type": "slide"
        }
      }
    },
    {
      "cell_type": "code",
      "source": [
        "from p5 import *"
      ],
      "outputs": [],
      "execution_count": 1,
      "metadata": {
        "trusted": true,
        "slideshow": {
          "slide_type": "slide"
        }
      }
    },
    {
      "cell_type": "code",
      "source": [
        "def setup():\n",
        "    createCanvas(600, 300)\n",
        "    background(120)\n",
        "\n",
        "def draw():\n",
        "    stroke(255)\n",
        "    if mouseIsPressed:\n",
        "        #line(mouseX, mouseY, pmouseX, pmouseY)\n",
        "        circle(mouseX, mouseY, 10)\n",
        "run()"
      ],
      "outputs": [
        {
          "output_type": "display_data",
          "data": {
            "application/javascript": "element.append(window._basthonDomNodeBus.pop(0));"
          },
          "metadata": {}
        }
      ],
      "execution_count": 3,
      "metadata": {
        "trusted": true,
        "scrolled": false,
        "slideshow": {
          "slide_type": "fragment"
        }
      }
    },
    {
      "cell_type": "markdown",
      "source": [
        "<div class=\"alert alert-success\">\n",
        "    \n",
        "La bibliothèque **p5** présente dans Capytale et Basthon permet de réaliser rapidement des constructions graphiques et des animations. Elle propose l'essentiel des fonctions de [p5.js](https://p5js.org), avec la syntaxe de python. \n",
        "\n",
        "\n",
        "</div>"
      ],
      "metadata": {
        "slideshow": {
          "slide_type": "slide"
        }
      }
    },
    {
      "cell_type": "markdown",
      "source": [
        "<div class=\"alert alert-success\">\n",
        "    \n",
        "## Structure du programme\n",
        "\n",
        "### Les fonctions setup(), draw() et run()\n",
        "\n",
        "Le programme doit contenir deux fonctions, `setup()` et `draw()`, et l'exécution est lancée à l'aide de l'instruction `run()`.\n",
        "\n",
        "</div>"
      ],
      "metadata": {
        "slideshow": {
          "slide_type": "slide"
        }
      }
    },
    {
      "cell_type": "markdown",
      "source": [
        "<div class=\"alert alert-success\">\n",
        "    \n",
        "Lorsque l'on exécute l'instruction `run()`, la fonction `setup()` est exécutée **une** fois :\n",
        "\n",
        "\n",
        "```python\n",
        "def setup():\n",
        "    createCanvas(800,600)\n",
        "    # instructions de paramétrage de l'affichage\n",
        "```\n",
        "\n",
        "Cette fonction permet de définir les dimensions de la fenêtre de tracé, et quelques paramètres initiaux.   \n",
        "Les valeurs données aux paramètres de la fonction `createCanvas`  sont affectées automatiquement à deux variables systèmes : `width`  pour le premier paramètre et `height`  pour le second.\n",
        "\n",
        "</div>"
      ],
      "metadata": {
        "slideshow": {
          "slide_type": "slide"
        }
      }
    },
    {
      "cell_type": "markdown",
      "source": [
        "<div class=\"alert alert-success\">\n",
        "   \n",
        "Puis la fonction `draw()`  est ensuite exécutée **en boucle** (infinie), après l'exécution de `setup()`:\n",
        "\n",
        "```python\n",
        "def draw():\n",
        "    # instructions de dessin\n",
        "```\n",
        "\n",
        "Elle contient des instructions qui seront exécutées avec une fréquence réglable, permettant de modifier le contenu de la fenêtre et de créer des contenus statiques ou des animations.  \n",
        "L'instruction `stop()` met fin à l'exécution du programme :\n",
        "\n",
        "```python\n",
        "stop()\n",
        "```\n",
        "</div>"
      ],
      "metadata": {
        "slideshow": {
          "slide_type": "slide"
        }
      }
    },
    {
      "cell_type": "markdown",
      "source": [
        "<div class=\"alert alert-success\">\n",
        "    \n",
        "## Repère, formes et couleurs\n",
        "\n",
        "### Repère\n",
        "\n",
        "<img src = 'https://www.carnets.info/images/p5_repere.png' width=300>\n",
        "\n",
        "L'origine du repère est située en haut à gauche. Les abscisses augmentent de gauche à droite, les ordonnées augmentent de haut en bas.\n",
        "\n",
        "</div>"
      ],
      "metadata": {
        "slideshow": {
          "slide_type": "slide"
        }
      }
    },
    {
      "cell_type": "markdown",
      "source": [
        "<div class=\"alert alert-success\">\n",
        "\n",
        "### Formes \n",
        "Des instructions permettent de tracer les formes courantes. On trouve par exemple : `circle(), line(), point(), rect(), square(), triangle()`.   \n",
        "Plus de détails : [primitives 2D dans p5](https://www.carnets.info/jupyter/p5/#primitives-2d)\n",
        "\n",
        "</div>"
      ],
      "metadata": {
        "slideshow": {
          "slide_type": "slide"
        }
      }
    },
    {
      "cell_type": "markdown",
      "source": [
        "<div class=\"alert alert-success\">\n",
        "\n",
        "\n",
        "### Couleurs\n",
        "Les couleurs peuvent être désignées à l'aide de leur nom (par ex. `'red'`, `'darkblue'`), ou à l'aide de leur représentation RVB composée de trois valeurs décimales comprises entre 0 et 255, indiquant respectivement les niveaux de rouge, vert et bleu (par exemple (100, 125, 255)). \n",
        "\n",
        "Les couleurs peuvent être utilisées dans les insructions :\n",
        "- `background(couleur)`, qui définit la couleur d'arrière-plan de la zone de dessin, \n",
        "- `fill(couleur)`, qui définit la couleur de remplissage des formes, \n",
        "- `stroke(couleur)`, qui définit la couleur de tracé des formes.\n",
        "\n",
        "Plus de détails : [couleurs dans p5](https://www.carnets.info/jupyter/p5/#couleurs)\n",
        "</div>"
      ],
      "metadata": {
        "slideshow": {
          "slide_type": "slide"
        }
      }
    },
    {
      "cell_type": "markdown",
      "source": [
        "<div class=\"alert alert-success\">\n",
        "    \n",
        "## Variables système\n",
        "### Fenêtre\n",
        "Dès que l'on définit les dimensions de la fenêtre à l'aide de la fonction `createCanvas()`,  les variables `width` et `height`  sont définies et les arguments de la fonction`createCanvas()` leur sont respectivement affectés.\n",
        "\n",
        "</div>"
      ],
      "metadata": {
        "slideshow": {
          "slide_type": "slide"
        }
      }
    },
    {
      "cell_type": "markdown",
      "source": [
        "<div class=\"alert alert-success\">\n",
        "    \n",
        "\n",
        "### Souris\n",
        "Les variables `mouseX`et `mouseY` référencent les coordonnées du pointeur de la souris.\n",
        "Le booléen `mouseIsPressed`\tvaut `True` si la souris est cliquée, et `False` sinon.\n",
        "</div>"
      ],
      "metadata": {
        "slideshow": {
          "slide_type": "slide"
        }
      }
    },
    {
      "cell_type": "code",
      "source": [],
      "outputs": [],
      "execution_count": null,
      "metadata": {
        "trusted": false
      }
    }
  ],
  "metadata": {
    "kernelspec": {
      "name": "python3",
      "display_name": "Python 3",
      "language": "python"
    },
    "celltoolbar": "Diaporama",
    "nteract": {
      "version": "0.28.0"
    },
    "language_info": {
      "name": "python",
      "version": "3.7.4",
      "mimetype": "text/x-python",
      "codemirror_mode": {
        "name": "ipython",
        "version": 3
      },
      "pygments_lexer": "ipython3",
      "nbconvert_exporter": "python",
      "file_extension": ".py"
    }
  },
  "nbformat": 4,
  "nbformat_minor": 2
}