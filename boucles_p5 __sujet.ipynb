{
  "cells": [
    {
      "cell_type": "markdown",
      "source": [
        "<div class = \"alert alert-block alert-danger\">\n",
        "    \n",
        "**Nom et prénom** : \n",
        "\n",
        "</div>"
      ],
      "metadata": {}
    },
    {
      "cell_type": "markdown",
      "source": [
        "# Parcours boucles bornées"
      ],
      "metadata": {
        "nteract": {
          "transient": {
            "deleting": false
          }
        }
      }
    },
    {
      "cell_type": "code",
      "source": [
        "# import de la bibliothèque p5 \n",
        "from p5 import * "
      ],
      "outputs": [],
      "execution_count": 2,
      "metadata": {
        "trusted": true
      }
    },
    {
      "cell_type": "markdown",
      "source": [
        "<div class = \"alert alert-block alert-info\">\n",
        "L'objectif de ce parcours est d'analyser l'effet de l'utilisation de boucles bornées dans des constructions statiques utilisant des cercles ou segments.\n",
        "    \n",
        "La syntaxe des boucles bornées en python est un pré-requis. \n",
        "Les instructions spécifiques à p5 sont rappelées.\n",
        "</div>"
      ],
      "metadata": {}
    },
    {
      "cell_type": "markdown",
      "source": [
        "## Généralités sur p5"
      ],
      "metadata": {}
    },
    {
      "cell_type": "markdown",
      "source": [
        "<div class = \"alert alert-block alert-info\">\n",
        "    \n",
        "## Structure du programme\n",
        "\n",
        "La fonction `setup()` est exécutée une fois, au démarrage : \n",
        "```python\n",
        "def setup():\n",
        "    createCanvas(800,600) \n",
        "    # instructions de paramétrage de l'affichage\n",
        "```\n",
        "La fonction `draw()` est exécutée en boucle, après l'exécution de `setup()`:\n",
        "```python\n",
        "def draw():\n",
        "    # instructions de dessin\n",
        "```\n",
        "L'instruction `run()` lance l'exécution de `setup()` puis, en boucle, de `draw()` :\n",
        "```python\n",
        "run()\n",
        "```\n",
        "L'instruction `stop()` met fin au programme :\n",
        "```python\n",
        "stop()\n",
        "```\n",
        "</div>"
      ],
      "metadata": {}
    },
    {
      "cell_type": "markdown",
      "source": [
        "<div class = \"alert alert-block alert-info\">\n",
        "\n",
        "## Quelques instructions de tracé\n",
        "\n",
        "L'origine du repère est située en haut à gauche.\n",
        "Les abscisses augmentent de gauche à droite, les ordonnées augmentent de haut en bas.\n",
        "    \n",
        "<img src=https://capytale2.ac-paris.fr/web/sites/default/files/2021-09-26-12-09-19/ac-paris-1/nathalie.weibel/repere_p5.png>\n",
        "\t\t\t\n",
        "|syntaxe|description|\n",
        "| :-- | :-- |\n",
        "|`point(x, y)`|Trace un point de coordonnées (x, y).|\n",
        "|`line(x1, y1, x2, y2)`| Trace un segment reliant les deux points de coordonnées (x1, y1) et (x2, y2).|\n",
        "|`circle(x, y, diametre)`|Tracer un cercle dont le centre a pour coordonnées (x, y) et dont le diamètre prend la valeur fixée.|\n",
        "|`square(x, y, cote)`|Trace un carré dont le sommet en haut à gauche a pour coordonnées (x, y) et dont le côté prend la valeur fixée.|\n",
        "|`rect(x, y, largeur, hauteur)` |Trace un rectangle dont le sommet en haut à gauche a pour coordonnées (x, y), et dont la largeur et la hauteur prennent les valeurs fixées.|\n",
        "|`triangle(x1, y1, x2, y2, x3, y3)`| Trace un triangle dont les trois sommets ont pour coordonnées (x1, y1), (x2, y2), et (x3, y3).|\n",
        "|`quad(x1, y1, x2, y2, x3, y3, x4, y4)`| Trace un quadrilatère dont les quatre sommets ont pour coordonnées (x1, y1), (x2, y2), (x3, y3) et (x4, y4).|\n",
        "\n",
        "</div>"
      ],
      "metadata": {}
    },
    {
      "cell_type": "markdown",
      "source": [
        "<div class = \"alert alert-block alert-success\">\n",
        "    \n",
        "**Exemple**\n",
        "    \n",
        "Tracé d'un cercle\n",
        "</div>"
      ],
      "metadata": {}
    },
    {
      "cell_type": "code",
      "source": [
        "def setup():    \n",
        "    createCanvas(200, 200) # fenêtre graphique de 200 pixels de large par 200 pixels de haut\n",
        "    background('khaki')    # fond beige \n",
        "    noFill()               # pas de remplissage des formes\n",
        "\n",
        "def draw(): \n",
        "    circle(100, 100, 150)\n",
        "\n",
        "run()"
      ],
      "outputs": [
        {
          "output_type": "error",
          "ename": "NameError",
          "evalue": "name 'run' is not defined",
          "traceback": [
            "\u001b[0;31m---------------------------------------------------------------------------\u001b[0m",
            "\u001b[0;31mNameError\u001b[0m                                 Traceback (most recent call last)",
            "\u001b[0;32m<ipython-input-1-440debcdeeb5>\u001b[0m in \u001b[0;36m<module>\u001b[0;34m\u001b[0m\n\u001b[1;32m      7\u001b[0m     \u001b[0mcircle\u001b[0m\u001b[0;34m(\u001b[0m\u001b[0;36m100\u001b[0m\u001b[0;34m,\u001b[0m \u001b[0;36m100\u001b[0m\u001b[0;34m,\u001b[0m \u001b[0;36m150\u001b[0m\u001b[0;34m)\u001b[0m\u001b[0;34m\u001b[0m\u001b[0;34m\u001b[0m\u001b[0m\n\u001b[1;32m      8\u001b[0m \u001b[0;34m\u001b[0m\u001b[0m\n\u001b[0;32m----> 9\u001b[0;31m \u001b[0mrun\u001b[0m\u001b[0;34m(\u001b[0m\u001b[0;34m)\u001b[0m\u001b[0;34m\u001b[0m\u001b[0;34m\u001b[0m\u001b[0m\n\u001b[0m",
            "\u001b[0;31mNameError\u001b[0m: name 'run' is not defined"
          ]
        }
      ],
      "execution_count": 1,
      "metadata": {
        "trusted": true,
        "execution": {
          "iopub.status.busy": "2021-11-01T11:49:09.059Z",
          "iopub.execute_input": "2021-11-01T11:49:09.071Z"
        }
      }
    },
    {
      "cell_type": "markdown",
      "source": [
        "---"
      ],
      "metadata": {}
    },
    {
      "cell_type": "markdown",
      "source": [
        "## Boucles et cercles"
      ],
      "metadata": {}
    },
    {
      "cell_type": "markdown",
      "source": [
        "<div class = \"alert alert-block alert-warning\">\n",
        "    \n",
        "**Question 1**\n",
        "    \n",
        "1.1. Anticiper les valeurs affichées lorsqu'on exécute l'instruction : \n",
        "```python\n",
        "for i in range(60, 160, 20):\n",
        "     print(i)\n",
        "```\n",
        " \n",
        "1.2. Saisir l'instruction dans une cellule et vérifier.\n",
        "\n",
        "</div>"
      ],
      "metadata": {}
    },
    {
      "cell_type": "code",
      "source": [
        " "
      ],
      "outputs": [],
      "execution_count": null,
      "metadata": {
        "trusted": true
      }
    },
    {
      "cell_type": "markdown",
      "source": [
        "<div class = \"alert alert-block alert-warning\">\n",
        "    \n",
        "**Question 2**\n",
        "    \n",
        "Dans chacun des 5 programmes suivants, la boucle de la question précédente permet de tracer plusieurs cercles. \n",
        "    \n",
        "Pour chacun des programmes, préciser : \n",
        "   - combien de cercles sont tracés\n",
        "   - où sont positionnés les centres\n",
        "   - quels sont les diamètres ?\n",
        "</div>"
      ],
      "metadata": {}
    },
    {
      "cell_type": "code",
      "source": [
        "# fonction setup() commune aux 5 programmes suivants : à exécuter une fois, avant les programmes 1 à 5\n",
        "# ne produit aucun affichage\n",
        "\n",
        "def setup():    \n",
        "    createCanvas(200, 200) \n",
        "    background('gold')     \n",
        "    noFill()               "
      ],
      "outputs": [],
      "execution_count": 4,
      "metadata": {
        "trusted": true
      }
    },
    {
      "cell_type": "code",
      "source": [
        "# Programme 1              \n",
        "    \n",
        "def draw(): \n",
        "    for i in range(60, 160, 20):\n",
        "        circle(100, 100, i)\n",
        "\n",
        "run()"
      ],
      "outputs": [
        {
          "output_type": "display_data",
          "data": {
            "application/javascript": "element.append(window.domNodeBus.pop(0));"
          },
          "metadata": {}
        }
      ],
      "execution_count": 5,
      "metadata": {
        "trusted": true
      }
    },
    {
      "cell_type": "code",
      "source": [
        "# Programme 2\n",
        "                \n",
        "def draw(): \n",
        "    for i in range(60, 160, 20):\n",
        "        circle(i, 100, 80)\n",
        "\n",
        "run()"
      ],
      "outputs": [
        {
          "output_type": "display_data",
          "data": {
            "application/javascript": "element.append(window.domNodeBus.pop(0));"
          },
          "metadata": {}
        }
      ],
      "execution_count": 6,
      "metadata": {
        "trusted": true
      }
    },
    {
      "cell_type": "code",
      "source": [
        "# Programme 3               \n",
        "    \n",
        "def draw(): \n",
        "    for i in range(60, 160, 20):\n",
        "        circle(i, i, 80)\n",
        "\n",
        "run()"
      ],
      "outputs": [
        {
          "output_type": "display_data",
          "data": {
            "application/javascript": "element.append(window.domNodeBus.pop(0));"
          },
          "metadata": {}
        }
      ],
      "execution_count": 7,
      "metadata": {
        "trusted": true
      }
    },
    {
      "cell_type": "code",
      "source": [
        "# Programme 4    \n",
        "    \n",
        "def draw():\n",
        "    for i in range(60, 160, 20):\n",
        "        circle(100, i, 160 - i)\n",
        "\n",
        "run()"
      ],
      "outputs": [
        {
          "output_type": "display_data",
          "data": {
            "application/javascript": "element.append(window.domNodeBus.pop(0));"
          },
          "metadata": {}
        }
      ],
      "execution_count": 8,
      "metadata": {
        "trusted": true
      }
    },
    {
      "cell_type": "code",
      "source": [
        "# Programme 5              \n",
        "    \n",
        "def draw(): \n",
        "    for i in range(60, 160, 20):\n",
        "        circle(i - 20, 100, i)\n",
        "\n",
        "run()"
      ],
      "outputs": [
        {
          "output_type": "display_data",
          "data": {
            "application/javascript": "element.append(window.domNodeBus.pop(0));"
          },
          "metadata": {}
        }
      ],
      "execution_count": 9,
      "metadata": {
        "trusted": true
      }
    },
    {
      "cell_type": "markdown",
      "source": [
        "On pourra compléter le tableau suivant : (cliquer dans la cellule pour l'éditer)\n",
        "\n",
        "| n° du programme | nb de cercles  |  position des centres| diamètres |\n",
        "| :------------: | :-------------: | :------------------: | :-------: | \n",
        "| **1** | ... | ... | ... | \n",
        "| **2** | ... | ... | ... | \n",
        "| **3** | ... | ... | ... | \n",
        "| **4** | ... | ... | ... | \n",
        "| **5** | ... | ... | ... | "
      ],
      "metadata": {
        "nteract": {
          "transient": {
            "deleting": false
          }
        }
      }
    },
    {
      "cell_type": "markdown",
      "source": [
        "## Boucles et segments"
      ],
      "metadata": {}
    },
    {
      "cell_type": "markdown",
      "source": [
        "<div class = \"alert alert-block alert-warning\">\n",
        "    \n",
        "**Question 3**\n",
        "    \n",
        "Reproduire et compléter le programme suivant pour obtenir la figure ci-dessous dans une fenêtre de taille 200 pixels sur 200 pixels.\n",
        "\n",
        "\n",
        "<img src=https://capytale2.ac-paris.fr/web/sites/default/files/2021-08-22-0-06-14/ac-paris-1/nathalie.weibel/paralleles.png width=200>\n",
        "\n",
        "```python\n",
        "def setup():    \n",
        "    createCanvas(200, 200) \n",
        "    background('darkblue')\n",
        "    stroke('white') \n",
        "\n",
        "def draw(): \n",
        "    for i in range(20, ... , ... ):\n",
        "        line(... , 20, ... , 180)\n",
        "\n",
        "run()\n",
        "```\n",
        "  \n",
        "</div>"
      ],
      "metadata": {}
    },
    {
      "cell_type": "code",
      "source": [],
      "outputs": [],
      "execution_count": null,
      "metadata": {
        "trusted": true
      }
    },
    {
      "cell_type": "markdown",
      "source": [
        "<div class = \"alert alert-block alert-warning\">\n",
        "    \n",
        "**Question 4**\n",
        "    \n",
        "Reproduire et compléter le programme suivant pour obtenir la figure ci-dessous dans une fenêtre de taille 200 pixels sur 200 pixels.\n",
        "\n",
        "<img src=https://capytale2.ac-paris.fr/web/sites/default/files/2021-08-21-23-31-03/ac-paris-1/nathalie.weibel/faisceau_droites.png width = 200>\n",
        "\n",
        "```python\n",
        "def setup():    \n",
        "    createCanvas(200, 200) \n",
        "    background('darkorange')\n",
        "    stroke('white') # couleur des tracés\n",
        "     \n",
        "def draw(): \n",
        "    for i in range(20, ..., 20):\n",
        "        line(20, 20, ... , ...)\n",
        "        line(100, 100, ... , ...)\n",
        "\n",
        "run()\n",
        "```\n",
        "  \n",
        "</div>"
      ],
      "metadata": {}
    },
    {
      "cell_type": "code",
      "source": [],
      "outputs": [],
      "execution_count": null,
      "metadata": {
        "trusted": true
      }
    },
    {
      "cell_type": "markdown",
      "source": [
        "<div class = \"alert alert-block alert-warning\">\n",
        "    \n",
        "**Question 5**\n",
        "    \n",
        "Reproduire et compléter le programme suivant pour obtenir successivement chacune des figures ci-dessous dans une fenêtre de taille 200 pixels sur 200 pixels.\n",
        "\n",
        "\n",
        "<img src=https://capytale2.ac-paris.fr/web/sites/default/files/2021-08-22-17-26-11/ac-paris-1/nathalie.weibel/carres.png width=600 >\n",
        "\n",
        "\n",
        "\n",
        "```python\n",
        "def setup():    \n",
        "    createCanvas(200, 200) \n",
        "    background('SeaGreen')\n",
        "    stroke('white') # couleur des tracés\n",
        "    noFill()\n",
        "\n",
        "def draw(): \n",
        "    for i in range(25, 175, 25):\n",
        "        square(... , ... , ...)\n",
        "\n",
        "run()\n",
        "```\n",
        "  \n",
        "</div>"
      ],
      "metadata": {}
    },
    {
      "cell_type": "code",
      "source": [],
      "outputs": [],
      "execution_count": null,
      "metadata": {
        "trusted": true
      }
    },
    {
      "cell_type": "code",
      "source": [],
      "outputs": [],
      "execution_count": null,
      "metadata": {
        "trusted": true
      }
    },
    {
      "cell_type": "code",
      "source": [],
      "outputs": [],
      "execution_count": null,
      "metadata": {
        "trusted": true
      }
    }
  ],
  "metadata": {
    "kernelspec": {
      "name": "python3",
      "display_name": "Python 3",
      "language": "python"
    },
    "language_info": {
      "name": "python",
      "version": "3.7.4",
      "mimetype": "text/x-python",
      "codemirror_mode": {
        "name": "ipython",
        "version": 3
      },
      "pygments_lexer": "ipython3",
      "nbconvert_exporter": "python",
      "file_extension": ".py"
    },
    "nteract": {
      "version": "0.28.0"
    }
  },
  "nbformat": 4,
  "nbformat_minor": 2
}