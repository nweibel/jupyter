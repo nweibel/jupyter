{
  "cells": [
    {
      "cell_type": "code",
      "source": [
        "from p5 import *"
      ],
      "outputs": [],
      "execution_count": 1,
      "metadata": {
        "trusted": true
      }
    },
    {
      "cell_type": "code",
      "source": [
        "def affiche_grille(tab):\n",
        "    \"\"\"\n",
        "    tab est une grille contenant des 0 et des 1\n",
        "    \"\"\"\n",
        "    lignes = len(tab)\n",
        "    colonnes = len(tab[0])\n",
        "    taille = 400 / max(lignes, colonnes)\n",
        "  \n",
        "    for ligne in range(lignes):\n",
        "        for colonne  in range(colonnes):\n",
        "            if tab[ligne][colonne] == 0:\n",
        "                couleur = color(255, 130, 0) # couleur RVB\n",
        "            elif tab[ligne][colonne] == 1:\n",
        "                couleur = color(0, 0, 255) # couleur RVB\n",
        "            fill(couleur)\n",
        "            rect(colonne * taille, ligne * taille, taille, taille)"
      ],
      "outputs": [],
      "execution_count": 7,
      "metadata": {
        "trusted": true
      }
    },
    {
      "cell_type": "code",
      "source": [
        "grille =  [[1,1,0,1], [1,0,0,0], [0,0,1,1], [1,0,0,1]]\n",
        "\n",
        "def setup():                   # fonction liée à Processing\n",
        "    createCanvas(400,400)      # dimension de la fenetre d'affichage\n",
        "    stroke(120)                # couleur des tracés (gris)\n",
        "    strokeWeight(3)            # épaisseur des tracés\n",
        "\n",
        "def draw():                    # fonction liée à Processing\n",
        "    affiche_grille(grille)\n",
        "\n",
        "run()                          # lance une fois la fonction setup(), puis, en boucle, draw()."
      ],
      "outputs": [
        {
          "output_type": "display_data",
          "data": {
            "application/javascript": "element.append(window.domNodeBus.pop(0));"
          },
          "metadata": {}
        }
      ],
      "execution_count": 8,
      "metadata": {
        "trusted": true
      }
    },
    {
      "cell_type": "code",
      "source": [],
      "outputs": [],
      "execution_count": null,
      "metadata": {
        "trusted": true
      }
    }
  ],
  "metadata": {
    "kernelspec": {
      "name": "python3",
      "display_name": "Python 3",
      "language": "python"
    },
    "nteract": {
      "version": "0.28.0"
    }
  },
  "nbformat": 4,
  "nbformat_minor": 2
}