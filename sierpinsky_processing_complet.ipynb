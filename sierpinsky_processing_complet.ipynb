{
 "cells": [
  {
   "cell_type": "markdown",
   "metadata": {},
   "source": [
    "# Positionner des milieux"
   ]
  },
  {
   "cell_type": "markdown",
   "metadata": {},
   "source": [
    "Remarque : Le programme suivant utilise le module p5 (Processing) dans la version disponible sur le site Basthon.  \n",
    "Il permet de réaliser des tracés graphiques. "
   ]
  },
  {
   "cell_type": "code",
   "execution_count": null,
   "metadata": {},
   "outputs": [],
   "source": [
    "from p5 import *"
   ]
  },
  {
   "cell_type": "code",
   "execution_count": null,
   "metadata": {},
   "outputs": [],
   "source": [
    "from random import randint\n",
    "  \n",
    "# sommets\n",
    "A = (0, 400)\n",
    "B = (400, 400)\n",
    "C = (200, 0)\n",
    "point_actuel = A\n",
    "\n",
    "def milieu(point1, point2):\n",
    "    '''\n",
    "    point1 et point2 sont des couples de coordonnées de 2 points dans le plan\n",
    "    milieu(point1, point2) est le couple des coordonnées du milieu des 2 points.\n",
    "    '''\n",
    "    return ((point1[0]+point2[0])/2, (point1[1]+point2[1])/2)\n",
    "\n",
    "def next_point(point):\n",
    "    '''\n",
    "    point est un couple de coordonnées\n",
    "    next_point détermine le milieu entre le point donné et un sommet \n",
    "    choisi au hasard parmi A, B et C\n",
    "    '''\n",
    "    nb = randint(0,2)\n",
    "    if nb == 0:\n",
    "        point_suivant = milieu(point, A)\n",
    "    elif nb == 1:\n",
    "        point_suivant = milieu(point, B)\n",
    "    else :\n",
    "        point_suivant = milieu(point, C)\n",
    "    return point_suivant\n",
    "\n",
    "def setup():           # fonction liée à Processing  \n",
    "    # dimension de la fenetre d'affichage\n",
    "    createCanvas(400, 400)\n",
    "    # couleur des tracés\n",
    "    stroke(220, 0, 120)  \n",
    "\n",
    "def draw():              # fonction liée à Processing\n",
    "    global point_actuel\n",
    "    point_suivant = next_point(point_actuel)\n",
    "    ellipse(point_suivant[0], point_suivant[1],1,1)\n",
    "    point_actuel = point_suivant\n",
    "\n",
    "\n",
    "run()\n",
    "# cette fonction spécifique à Processing exécute une fois la fonction setup(), puis en boucle, la fonction draw()"
   ]
  },
  {
   "cell_type": "code",
   "execution_count": null,
   "metadata": {},
   "outputs": [],
   "source": [
    "stop()\n",
    "# cette fonction spécifique à Processing interrompt l'exécution en boucle de draw()"
   ]
  }
 ],
 "metadata": {
  "celltoolbar": "Slideshow",
  "kernelspec": {
   "display_name": "Python 3",
   "language": "python",
   "name": "python3"
  },
  "language_info": {
   "codemirror_mode": {
    "name": "ipython",
    "version": 3
   },
   "file_extension": ".py",
   "mimetype": "text/x-python",
   "name": "python",
   "nbconvert_exporter": "python",
   "pygments_lexer": "ipython3",
   "version": "3.8.2"
  }
 },
 "nbformat": 4,
 "nbformat_minor": 2
}
