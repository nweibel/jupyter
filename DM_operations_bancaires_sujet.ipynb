{
  "cells": [
    {
      "cell_type": "markdown",
      "source": [
        "<div class = \"alert alert-block alert-danger\">\n",
        "    \n",
        "Nom-Prénom : \n",
        "\n",
        "</div>"
      ],
      "metadata": {}
    },
    {
      "cell_type": "markdown",
      "source": [
        "# Opérations bancaires"
      ],
      "metadata": {}
    },
    {
      "cell_type": "markdown",
      "source": [
        "<div class = \"alert alert-block alert-info\">\n",
        "L'objectif de ce sujet est de créer des fonctions permettant de réaliser diverses opérations liées à un compte bancaire. \n",
        "    \n",
        "L'écriture de fonctions, la lecture de spécification et les opérations usuelles sur les listes sont des pré-requis. \n",
        "\n",
        "</div>"
      ],
      "metadata": {}
    },
    {
      "cell_type": "markdown",
      "source": [
        "<div class = \"alert alert-block alert-info\">\n",
        "    \n",
        "Oscar possède un compte en banque. Sa banque identifie les opérations effectuées sur un compte :\n",
        "- soit sous la forme d'un **crédit** lorsqu'on alimente son compte ou reçoit un virement, \n",
        "- soit sous la forme d'un **débit** lorsqu'on retire de l'argent de son compte ou réalise un achat.\n",
        "\n",
        "La banque synthétise les opérations mensuelles effectuées sur un compte sous la forme d'un tableau, où les crédits sont les nombres positifs et les débits sont les nombres négatifs.\n",
        "\n",
        "Lorsqu'Oscar consulte son compte, le **solde** lui indique le montant \"disponible\". On dit que son compte est **créditeur** si le solde est positif et **débiteur** si le solde est négatif.\n",
        "\n",
        "Dans ce document, tous les montants sont arrondis à l'euro le plus proche.\n",
        "</div>"
      ],
      "metadata": {}
    },
    {
      "cell_type": "markdown",
      "source": [
        "Au début du mois dernier, le solde du compte d'Oscar était de 1235€. \n",
        "Les opérations relevées par sa banque durant le mois dernier sont synthétisées  ainsi : \n",
        "\n"
      ],
      "metadata": {}
    },
    {
      "cell_type": "code",
      "source": [
        "operations = [-23, +55, -89, +177, -27, -240, -42, -575, -45, -99, -63, -209, -190, +95, +1320 ]"
      ],
      "outputs": [],
      "execution_count": 2,
      "metadata": {
        "trusted": true
      }
    },
    {
      "cell_type": "markdown",
      "source": [
        "<div class = \"alert alert-block alert-info\">\n",
        "    \n",
        "## Quelques précisions\n",
        "La banque d'Oscar lui accorde un découvert maximum de 100€. Il ne subit aucune pénalité si le solde de son compte est débiteur de moins de 100€.  \n",
        "Lorsqu'une opération de débit conduit le solde de son compte en-dessous de -100€, des frais de 7€ sont occasionnés, et prélevés par la banque le mois suivant. Cette pénalité est déclenchée pour chaque opération de débit amenant ou maintenant le solde sous le seuil de -100€.  \n",
        "</div>"
      ],
      "metadata": {}
    },
    {
      "cell_type": "markdown",
      "source": [
        "<div class = \"alert alert-block alert-warning\">\n",
        "    \n",
        "## Questions \n",
        "1. Quel était le solde sur le compte d'Oscar à la fin du mois dernier ?\n",
        "1. Quel est le solde maximum que le compte d'Oscar a affiché durant le mois dernier ?\n",
        "1. Oscar paiera-t-il des frais pour dépassement de découvert autorisé ? Si oui, de quel montant seront les frais ?\n",
        "</div>"
      ],
      "metadata": {}
    },
    {
      "cell_type": "markdown",
      "source": [
        "<div class = \"alert alert-block alert-warning\">\n",
        "    \n",
        "## Partie 1 : écriture des fonctions\n",
        "On demande de compléter les quatre fonctions dont la spécification est donnée ci-dessous.\n",
        "Ces fonctions doivent permettre de répondre aux questions posées concernant le compte d'Oscar, mais aussi de tout autre compte bancaire fonctionnant selon les mêmes règles.\n",
        "  \n",
        "Attention : l'usage des fonctions python `sum`, `max` est ici interdit.\n",
        "</div>"
      ],
      "metadata": {}
    },
    {
      "cell_type": "code",
      "source": [
        "def solde_final(solde_initial, operations):\n",
        "    \"\"\"\n",
        "    solde_initial est un entier relatif, représentant le solde initial d'un compte bancaire\n",
        "    operations est une liste d'entiers relatifs, représentant les opérations bancaires effectuées sur le compte\n",
        "    La fonction solde_final renvoie un entier relatif : le solde final du compte après réalisation de toutes les \n",
        "    opérations\n",
        "    \n",
        "    >>> solde_final(0, [])\n",
        "    0\n",
        "    >>> solde_final(1235, [-23, +55, -89, +177, -27, -240, -42, -575, -45, -99, -63, -209, -190, +95, +1320])\n",
        "    1280\n",
        "    \"\"\"\n",
        "    \n",
        "    pass # à remplacer par le corps de la fonction"
      ],
      "outputs": [],
      "execution_count": 1,
      "metadata": {
        "trusted": true
      }
    },
    {
      "cell_type": "code",
      "source": [
        "def tableau_soldes(solde_initial, operations):\n",
        "    \"\"\"\n",
        "    solde_initial est un entier relatif, représentant le solde initial d'un compte bancaire.\n",
        "    operations est une liste d'entiers relatifs, représentant les opérations bancaires effectuées sur le compte.\n",
        "    La fonction tableau_soldes renvoie la liste des valeurs du solde du compte au fur et à mesure de la réalisation \n",
        "    des opérations. \n",
        "    La valeur d'indice 0 de ce tableau est le solde initial.\n",
        "    \n",
        "    >>> tableau_soldes(0, [])\n",
        "    [0]\n",
        "    >>> tableau_soldes(1235, [-23, +55, -89, +177, -27, -240, -42, -575, -45, -99, -63, -209, -190, +95, +1320])\n",
        "    [1235, 1212, 1267, 1178, 1355, 1328, 1088, 1046, 471, 426, 327, 264, 55, -135, -40, 1280]\n",
        "    \"\"\"\n",
        "   \n",
        "    pass # à remplacer par le corps de la fonction"
      ],
      "outputs": [],
      "execution_count": 2,
      "metadata": {
        "trusted": true
      }
    },
    {
      "cell_type": "code",
      "source": [
        "def solde_maximal(solde_initial, operations):\n",
        "    \"\"\"\n",
        "    solde_initial est un entier relatif, représentant le solde initial d'un compte bancaire.\n",
        "    operations est une liste d'entiers relatifs, représentant les opérations bancaires effectuées sur le compte.\n",
        "    La fonction solde_maximal renvoie un entier relatif : le solde maximal du compte lors de la réalisation des \n",
        "    opérations successives\n",
        "    \n",
        "    >>> solde_maximal(0, [])\n",
        "    0\n",
        "    >>> solde_maximal(1235, [-23, +55, -89, +177, -27, -240, -42, -575, -45, -99, -63, -209, -190, +95, +1320])\n",
        "    1355\n",
        "    \"\"\"\n",
        "     \n",
        "    pass # à remplacer par le corps de la fonction"
      ],
      "outputs": [],
      "execution_count": 3,
      "metadata": {
        "trusted": true
      }
    },
    {
      "cell_type": "code",
      "source": [
        "def frais_depassement(solde_initial, operations):\n",
        "    \"\"\"\n",
        "    solde_initial est un entier relatif, représentant le solde initial d'un compte bancaire.\n",
        "    operations est une liste d'entiers relatifs, représentant les opérations bancaires effectuées sur le compte.\n",
        "    La fonction frais_depassement renvoie un entier : le montant des pénalités pour dépassement de découvert autorisé \n",
        "    après réalisation de toutes les opérations. Cette pénalité de 7€ est due pour chaque opération de débit amenant \n",
        "    ou maintenant le solde sous le seuil de -100€.\n",
        "    \n",
        "    >>> frais_depassement(0, [])\n",
        "    0\n",
        "    >>> frais_depassement(1235, [-23, +55, -89, +177, -27, -240, -42, -575, -45, -99, -63, -209, -190, +95, +1320])\n",
        "    7\n",
        "    \"\"\"\n",
        "    \n",
        "    pass # à remplacer par le corps de la fonction"
      ],
      "outputs": [],
      "execution_count": 4,
      "metadata": {
        "trusted": true
      }
    },
    {
      "cell_type": "markdown",
      "source": [
        "### Réponses aux questions : \n",
        "1. \n",
        "2. \n",
        "3. \n",
        "\n",
        "\n",
        "\n"
      ],
      "metadata": {}
    },
    {
      "cell_type": "markdown",
      "source": [
        "<div class = \"alert alert-block alert-warning\">\n",
        "    \n",
        "  ## Partie 2 : jeux de tests \n",
        "Pour compléter les tests, les fonctions réalisées sont à tester sur les situations bancaires d'Ana et de Margot.\n",
        "\n",
        "| Prénom | solde en début de mois | opérations réalisées |\n",
        "| :---: | :---: | :---: | \n",
        "|Ana |1000| [-100, +50, -200, -450, +100, -650, +50, -120, +1000]|\n",
        "|Margot|1000|[-1200, +1000, +50, -100, -350, +50, -650, +50, -120, +1300]|\n",
        "\n",
        "Réaliser les tests suivants, et apporter aux fonctions précédentes les modifications nécessaires pour passer tous les tests sans erreur.\n",
        "</div>"
      ],
      "metadata": {}
    },
    {
      "cell_type": "markdown",
      "source": [
        "### a) Tests à partir de la situation d'Oscar"
      ],
      "metadata": {}
    },
    {
      "cell_type": "code",
      "source": [
        "solde_initial = 1235\n",
        "operations = [-23, +55, -89, +177, -27, -240, -42, -575, -45, -99, -63, -209, -190, +95, +1320]\n",
        "\n",
        "assert(solde_final(solde_initial, operations) == 1280), 'erreur sur solde final'\n",
        "\n",
        "assert(tableau_soldes(solde_initial, operations) == [1235, 1212, 1267, 1178, 1355, 1328, 1088, 1046, 471, 426, 327, 264, 55, -135, -40, 1280]),'erreur sur tableau des soldes'\n",
        "\n",
        "assert(solde_maximal(solde_initial, operations) == 1355),'erreur sur solde maximal'\n",
        "\n",
        "assert(frais_depassement(solde_initial, operations) == 7),'erreur sur frais de dépassement'"
      ],
      "outputs": [],
      "execution_count": 25,
      "metadata": {
        "trusted": true
      }
    },
    {
      "cell_type": "markdown",
      "source": [
        "### b) Tests à partir de la situation d'Ana"
      ],
      "metadata": {}
    },
    {
      "cell_type": "code",
      "source": [
        "solde_initial = 1000\n",
        "operations = [-100, +50, -200, -450, +100, -650, +50, -120, +1000]\n",
        "\n",
        "assert(solde_final(solde_initial, operations) == 680), 'erreur sur solde final'\n",
        "\n",
        "assert(tableau_soldes(solde_initial, operations) == [1000, 900, 950, 750, 300, 400, -250, -200, -320, 680]), 'erreur sur tableau des soldes'\n",
        "\n",
        "assert(solde_maximal(solde_initial, operations) == 1000), 'erreur sur solde maximal'\n",
        "\n",
        "assert(frais_depassement(solde_initial, operations) == 14), 'erreur sur frais de dépassement'"
      ],
      "outputs": [],
      "execution_count": 26,
      "metadata": {
        "trusted": true
      }
    },
    {
      "cell_type": "markdown",
      "source": [
        "### c) Tests à partir de la situation de Margot"
      ],
      "metadata": {}
    },
    {
      "cell_type": "code",
      "source": [
        "solde_initial = 1000\n",
        "operations = [-1200, +1000, +50, -100, -350, +50, -650, +50, -120, +1300]\n",
        "\n",
        "assert(solde_final(solde_initial, operations) == 1030), 'erreur sur solde final'\n",
        "\n",
        "assert(tableau_soldes(solde_initial, operations) == [1000, -200, 800, 850, 750, 400, 450, -200, -150, -270, 1030]), 'erreur sur tableau des soldes'\n",
        "\n",
        "assert(solde_maximal(solde_initial, operations) == 1030), 'erreur sur solde maximal'\n",
        "\n",
        "assert(frais_depassement(solde_initial, operations) == 21), 'erreur sur frais de dépassement'"
      ],
      "outputs": [],
      "execution_count": 27,
      "metadata": {
        "trusted": true
      }
    },
    {
      "cell_type": "markdown",
      "source": [
        "<div class = \"alert alert-block alert-warning\">\n",
        "    \n",
        "## Partie 3 : Représentation graphique\n",
        "La représentation graphique ci-dessous s'appuie sur la fonction `tableau_soldes` programmée ci-dessus.\n",
        "Elle affiche l'évolution de la valeur du solde en fonction des opérations réalisées.  \n",
        "\n",
        "Cette partie ne comporte pas de question, mais permet de visualiser les situations travaillées plus haut. \n",
        "</div>"
      ],
      "metadata": {
        "trusted": true
      }
    },
    {
      "cell_type": "code",
      "source": [
        "import matplotlib.pyplot as plt\n",
        "\n",
        "def graphique_solde(solde_initial, operations):\n",
        "    abscisses = range(len(operations) + 1)\n",
        "    ordonnees = tableau_soldes(solde_initial, operations)\n",
        "    plt.plot(abscisses,ordonnees,'b-') #ligne brisée bleue\n",
        "    plt.plot(abscisses,ordonnees,'bo') #nuage de points bleus\n",
        "    plt.axhline(-100, c = 'r') # y=-100, rouge\n",
        "    plt.axhline(0, c = 'g')    # y = 0, vert\n",
        "    plt.xlabel(\"numéro d'opération\")\n",
        "    plt.ylabel('solde en €')\n",
        "    plt.title('Évolution du solde')\n",
        "    plt.grid() # grille \n",
        "    plt.show()"
      ],
      "outputs": [],
      "execution_count": null,
      "metadata": {
        "trusted": true
      }
    },
    {
      "cell_type": "code",
      "source": [
        "#Oscar\n",
        "graphique_solde(1235, [-23, +55, -89, +177, -27, -240, -42, -575, -45, -99, -63, -209, -190, +95, +1320])"
      ],
      "outputs": [
        {
          "output_type": "stream",
          "name": "stderr",
          "text": [
            "Traceback (most recent call last):\n",
            "  File \"<input>\", line 2, in <module>\n",
            "NameError: name 'graphique_solde' is not defined\n"
          ]
        }
      ],
      "execution_count": 6,
      "metadata": {
        "trusted": true,
        "collapsed": true
      }
    },
    {
      "cell_type": "code",
      "source": [
        "#Ana\n",
        "graphique_solde(1000, [-100, +50, -200, -450, +100, -650, +50, -120, +1000])"
      ],
      "outputs": [],
      "execution_count": null,
      "metadata": {
        "trusted": true
      }
    },
    {
      "cell_type": "code",
      "source": [
        "#Margot\n",
        "graphique_solde(1000, [-1200, +1000, +50, -100, -350, +50, -650, +50, -120, +1300])"
      ],
      "outputs": [],
      "execution_count": null,
      "metadata": {
        "trusted": true
      }
    },
    {
      "cell_type": "markdown",
      "source": [
        "<div class = \"alert alert-block alert-warning\">\n",
        "\n",
        "## Partie 4 : Tests automatisés\n",
        "Réaliser les tests automatisés qui portent sur les exemples écrits dans les docstrings.\n",
        "</div>"
      ],
      "metadata": {}
    },
    {
      "cell_type": "code",
      "source": [
        "import doctest\n",
        "doctest.testmod()"
      ],
      "outputs": [
        {
          "output_type": "execute_result",
          "execution_count": 10,
          "data": {
            "text/plain": "TestResults(failed=0, attempted=8)"
          },
          "metadata": {}
        }
      ],
      "execution_count": 10,
      "metadata": {
        "trusted": true
      }
    },
    {
      "cell_type": "code",
      "source": [],
      "outputs": [],
      "execution_count": null,
      "metadata": {
        "trusted": true
      }
    }
  ],
  "metadata": {
    "kernelspec": {
      "name": "python3",
      "display_name": "Python 3",
      "language": "python"
    },
    "language_info": {
      "name": "python",
      "version": "3.7.4",
      "mimetype": "text/x-python",
      "codemirror_mode": {
        "name": "ipython",
        "version": 3
      },
      "pygments_lexer": "ipython3",
      "nbconvert_exporter": "python",
      "file_extension": ".py"
    },
    "nteract": {
      "version": "0.28.0"
    }
  },
  "nbformat": 4,
  "nbformat_minor": 2
}