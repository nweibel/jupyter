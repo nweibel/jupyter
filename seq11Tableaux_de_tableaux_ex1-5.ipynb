{
  "cells": [
    {
      "cell_type": "markdown",
      "source": [
        "# Exercice 11.1"
      ],
      "metadata": {}
    },
    {
      "cell_type": "code",
      "source": [
        "table = [[i*j for j in range(1,11)] for i in range(1,11)]\n",
        "table"
      ],
      "outputs": [
        {
          "output_type": "execute_result",
          "execution_count": 1,
          "data": {
            "text/plain": "[[1, 2, 3, 4, 5, 6, 7, 8, 9, 10],\n [2, 4, 6, 8, 10, 12, 14, 16, 18, 20],\n [3, 6, 9, 12, 15, 18, 21, 24, 27, 30],\n [4, 8, 12, 16, 20, 24, 28, 32, 36, 40],\n [5, 10, 15, 20, 25, 30, 35, 40, 45, 50],\n [6, 12, 18, 24, 30, 36, 42, 48, 54, 60],\n [7, 14, 21, 28, 35, 42, 49, 56, 63, 70],\n [8, 16, 24, 32, 40, 48, 56, 64, 72, 80],\n [9, 18, 27, 36, 45, 54, 63, 72, 81, 90],\n [10, 20, 30, 40, 50, 60, 70, 80, 90, 100]]"
          },
          "metadata": {}
        }
      ],
      "execution_count": 1,
      "metadata": {
        "execution": {
          "shell.execute_reply": "2021-04-05T14:03:13.814Z",
          "iopub.status.busy": "2021-04-05T14:03:13.845Z",
          "iopub.execute_input": "2021-04-05T14:03:13.857Z",
          "iopub.status.idle": "2021-04-05T14:03:13.883Z"
        }
      }
    },
    {
      "cell_type": "markdown",
      "source": [
        "# Exercice 11.2 "
      ],
      "metadata": {}
    },
    {
      "cell_type": "code",
      "source": [
        "tab = [[i*i-i*j+j*j for j in range(15)] for i in range(15)]"
      ],
      "outputs": [],
      "execution_count": 2,
      "metadata": {
        "execution": {
          "iopub.status.busy": "2021-04-05T14:03:20.231Z",
          "iopub.execute_input": "2021-04-05T14:03:20.243Z",
          "iopub.status.idle": "2021-04-05T14:03:20.259Z",
          "shell.execute_reply": "2021-04-05T14:03:20.268Z"
        }
      }
    },
    {
      "cell_type": "code",
      "source": [
        "tab"
      ],
      "outputs": [
        {
          "output_type": "execute_result",
          "execution_count": 3,
          "data": {
            "text/plain": "[[0, 1, 4, 9, 16, 25, 36, 49, 64, 81, 100, 121, 144, 169, 196],\n [1, 1, 3, 7, 13, 21, 31, 43, 57, 73, 91, 111, 133, 157, 183],\n [4, 3, 4, 7, 12, 19, 28, 39, 52, 67, 84, 103, 124, 147, 172],\n [9, 7, 7, 9, 13, 19, 27, 37, 49, 63, 79, 97, 117, 139, 163],\n [16, 13, 12, 13, 16, 21, 28, 37, 48, 61, 76, 93, 112, 133, 156],\n [25, 21, 19, 19, 21, 25, 31, 39, 49, 61, 75, 91, 109, 129, 151],\n [36, 31, 28, 27, 28, 31, 36, 43, 52, 63, 76, 91, 108, 127, 148],\n [49, 43, 39, 37, 37, 39, 43, 49, 57, 67, 79, 93, 109, 127, 147],\n [64, 57, 52, 49, 48, 49, 52, 57, 64, 73, 84, 97, 112, 129, 148],\n [81, 73, 67, 63, 61, 61, 63, 67, 73, 81, 91, 103, 117, 133, 151],\n [100, 91, 84, 79, 76, 75, 76, 79, 84, 91, 100, 111, 124, 139, 156],\n [121, 111, 103, 97, 93, 91, 91, 93, 97, 103, 111, 121, 133, 147, 163],\n [144, 133, 124, 117, 112, 109, 108, 109, 112, 117, 124, 133, 144, 157, 172],\n [169, 157, 147, 139, 133, 129, 127, 127, 129, 133, 139, 147, 157, 169, 183],\n [196, 183, 172, 163, 156, 151, 148, 147, 148, 151, 156, 163, 172, 183, 196]]"
          },
          "metadata": {}
        }
      ],
      "execution_count": 3,
      "metadata": {
        "scrolled": true,
        "execution": {
          "iopub.status.busy": "2021-04-05T14:03:22.023Z",
          "iopub.execute_input": "2021-04-05T14:03:22.033Z",
          "iopub.status.idle": "2021-04-05T14:03:22.056Z",
          "shell.execute_reply": "2021-04-05T14:03:22.063Z"
        }
      }
    },
    {
      "cell_type": "markdown",
      "source": [
        "Créer un tableau *extrait*, contenant exactement une fois chaque valeur présente dans tab, et trié dans l’ordre croissant."
      ],
      "metadata": {}
    },
    {
      "cell_type": "code",
      "source": [
        "extrait = []\n",
        "for ligne in tab : \n",
        "    for element in ligne : \n",
        "        if element not in  extrait : \n",
        "            extrait.append(element)\n",
        "extrait.sort()\n",
        "print(extrait)"
      ],
      "outputs": [
        {
          "output_type": "stream",
          "name": "stdout",
          "text": [
            "[0, 1, 3, 4, 7, 9, 12, 13, 16, 19, 21, 25, 27, 28, 31, 36, 37, 39, 43, 48, 49, 52, 57, 61, 63, 64, 67, 73, 75, 76, 79, 81, 84, 91, 93, 97, 100, 103, 108, 109, 111, 112, 117, 121, 124, 127, 129, 133, 139, 144, 147, 148, 151, 156, 157, 163, 169, 172, 183, 196]\n"
          ]
        }
      ],
      "execution_count": 4,
      "metadata": {
        "execution": {
          "iopub.status.busy": "2021-04-05T14:03:27.003Z",
          "iopub.execute_input": "2021-04-05T14:03:27.010Z",
          "iopub.status.idle": "2021-04-05T14:03:27.025Z",
          "shell.execute_reply": "2021-04-05T14:03:27.032Z"
        }
      }
    },
    {
      "cell_type": "code",
      "source": [
        "len(extrait)"
      ],
      "outputs": [
        {
          "output_type": "execute_result",
          "execution_count": 5,
          "data": {
            "text/plain": "60"
          },
          "metadata": {}
        }
      ],
      "execution_count": 5,
      "metadata": {
        "execution": {
          "iopub.status.busy": "2021-04-05T14:03:29.073Z",
          "iopub.execute_input": "2021-04-05T14:03:29.080Z",
          "iopub.status.idle": "2021-04-05T14:03:29.094Z",
          "shell.execute_reply": "2021-04-05T14:03:29.101Z"
        }
      }
    },
    {
      "cell_type": "markdown",
      "source": [
        "# Exercice 11.3  \n",
        "Construire un tableau *jeu_dominos* qui contient la liste des dominos d’un jeu de dominos. \n",
        "Un domino sera représenté par un tableau à 2 éléments comme [4,5]"
      ],
      "metadata": {}
    },
    {
      "cell_type": "code",
      "source": [
        "jeu_dominos = [[i,j] for i in range(0,7) for j in range (i,7)]"
      ],
      "outputs": [],
      "execution_count": 6,
      "metadata": {
        "execution": {
          "iopub.status.busy": "2021-04-05T14:03:32.939Z",
          "iopub.execute_input": "2021-04-05T14:03:32.947Z",
          "iopub.status.idle": "2021-04-05T14:03:32.961Z",
          "shell.execute_reply": "2021-04-05T14:03:32.968Z"
        }
      }
    },
    {
      "cell_type": "code",
      "source": [
        "print(jeu_dominos)"
      ],
      "outputs": [
        {
          "output_type": "stream",
          "name": "stdout",
          "text": [
            "[[0, 0], [0, 1], [0, 2], [0, 3], [0, 4], [0, 5], [0, 6], [1, 1], [1, 2], [1, 3], [1, 4], [1, 5], [1, 6], [2, 2], [2, 3], [2, 4], [2, 5], [2, 6], [3, 3], [3, 4], [3, 5], [3, 6], [4, 4], [4, 5], [4, 6], [5, 5], [5, 6], [6, 6]]\n"
          ]
        }
      ],
      "execution_count": 7,
      "metadata": {
        "execution": {
          "iopub.status.busy": "2021-04-05T14:03:33.428Z",
          "iopub.execute_input": "2021-04-05T14:03:33.437Z",
          "iopub.status.idle": "2021-04-05T14:03:33.458Z",
          "shell.execute_reply": "2021-04-05T14:03:33.466Z"
        }
      }
    },
    {
      "cell_type": "code",
      "source": [
        "len(jeu_dominos)"
      ],
      "outputs": [
        {
          "output_type": "execute_result",
          "execution_count": 8,
          "data": {
            "text/plain": "28"
          },
          "metadata": {}
        }
      ],
      "execution_count": 8,
      "metadata": {
        "execution": {
          "iopub.status.busy": "2021-04-05T14:03:37.044Z",
          "iopub.execute_input": "2021-04-05T14:03:37.055Z",
          "iopub.status.idle": "2021-04-05T14:03:37.069Z",
          "shell.execute_reply": "2021-04-05T14:03:37.076Z"
        }
      }
    },
    {
      "cell_type": "markdown",
      "source": [
        "# Exercice 11.4 \n",
        "Écrire une fonction *affiche(tab)* qui affiche le contenu d’un tableau à 2 dimensions sous forme de grille, sans afficher ni les crochets ni les virgules, mais en séparant les éléments par des espaces."
      ],
      "metadata": {}
    },
    {
      "cell_type": "code",
      "source": [
        "def affiche(tab) : \n",
        "    for ligne in tab : \n",
        "        for element in ligne :\n",
        "            print(element, end=\" \")\n",
        "        print()"
      ],
      "outputs": [],
      "execution_count": 9,
      "metadata": {
        "execution": {
          "iopub.status.busy": "2021-04-05T14:03:41.947Z",
          "iopub.execute_input": "2021-04-05T14:03:41.953Z",
          "iopub.status.idle": "2021-04-05T14:03:41.967Z",
          "shell.execute_reply": "2021-04-05T14:03:41.976Z"
        }
      }
    },
    {
      "cell_type": "code",
      "source": [
        "affiche([[1,2,3], [4,5,6], [7,8,9]])"
      ],
      "outputs": [
        {
          "output_type": "stream",
          "name": "stdout",
          "text": [
            "1 2 3 \n",
            "4 5 6 \n",
            "7 8 9 \n"
          ]
        }
      ],
      "execution_count": 10,
      "metadata": {
        "execution": {
          "iopub.status.busy": "2021-04-05T14:03:42.487Z",
          "iopub.execute_input": "2021-04-05T14:03:42.493Z",
          "iopub.status.idle": "2021-04-05T14:03:42.507Z",
          "shell.execute_reply": "2021-04-05T14:03:42.513Z"
        }
      }
    },
    {
      "cell_type": "markdown",
      "source": [
        "# Exercice 11.5 \n",
        "On considère une grille de jeu, carrée, de taille quelconque. Chaque case de la grille peut soit être vide, soit contenir un jeton du joueur 1, soit contenir un jeton du joueur 2.\n",
        "On affiche la grille en affichant des \" . \" pour une case vide, \"x\" pour un jeton du joueur 1 et \"o\" pour un jeton du joueur 2.\n",
        "Le tableau à 2 dimensions qui représente la grille contient des valeurs numériques : 0 pour une case vide, 1 pour un jeton du joueur 1 et 2 pour un jeton du joueur 2.\n",
        "Écrire une fonction affiche_jeu(tab) qui affiche le contenu d’un tableau à 2 dimensions contenant des 0,1 ou 2, sous forme de grille de jeu."
      ],
      "metadata": {}
    },
    {
      "cell_type": "code",
      "source": [
        "def affiche_jeu(tab):\n",
        "    for ligne in tab : \n",
        "        for element in ligne :\n",
        "            if element == 0: \n",
        "                print(\".\", end=\" \")\n",
        "            elif element == 1: \n",
        "                print(\"x\", end=\" \")\n",
        "            else :\n",
        "                print(\"o\", end=\" \")\n",
        "        print()"
      ],
      "outputs": [],
      "execution_count": 11,
      "metadata": {
        "execution": {
          "iopub.status.busy": "2021-04-05T14:03:48.481Z",
          "iopub.execute_input": "2021-04-05T14:03:48.488Z",
          "iopub.status.idle": "2021-04-05T14:03:48.499Z",
          "shell.execute_reply": "2021-04-05T14:03:48.506Z"
        }
      }
    },
    {
      "cell_type": "code",
      "source": [
        "affiche_jeu([[2,0,1], [1,2,1], [0,2,1]])"
      ],
      "outputs": [
        {
          "output_type": "stream",
          "name": "stdout",
          "text": [
            "o . x \n",
            "x o x \n",
            ". o x \n"
          ]
        }
      ],
      "execution_count": 12,
      "metadata": {
        "execution": {
          "iopub.status.busy": "2021-04-05T14:03:50.140Z",
          "iopub.execute_input": "2021-04-05T14:03:50.149Z",
          "iopub.status.idle": "2021-04-05T14:03:50.168Z",
          "shell.execute_reply": "2021-04-05T14:03:50.178Z"
        }
      }
    },
    {
      "cell_type": "code",
      "source": [],
      "outputs": [],
      "execution_count": null,
      "metadata": {
        "collapsed": true,
        "jupyter": {
          "source_hidden": false,
          "outputs_hidden": false
        },
        "nteract": {
          "transient": {
            "deleting": false
          }
        }
      }
    }
  ],
  "metadata": {
    "kernelspec": {
      "display_name": "Python 3",
      "language": "python",
      "name": "python3"
    },
    "language_info": {
      "name": "python",
      "version": "3.7.4",
      "mimetype": "text/x-python",
      "codemirror_mode": {
        "name": "ipython",
        "version": 3
      },
      "pygments_lexer": "ipython3",
      "nbconvert_exporter": "python",
      "file_extension": ".py"
    },
    "nteract": {
      "version": "0.28.0"
    }
  },
  "nbformat": 4,
  "nbformat_minor": 2
}