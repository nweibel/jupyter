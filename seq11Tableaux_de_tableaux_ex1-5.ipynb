{
 "cells": [
  {
   "cell_type": "markdown",
   "metadata": {},
   "source": [
    "# Exercice 11.1"
   ]
  },
  {
   "cell_type": "code",
   "execution_count": 9,
   "metadata": {},
   "outputs": [
    {
     "data": {
      "text/plain": [
       "[[1, 2, 3, 4, 5, 6, 7, 8, 9, 10],\n",
       " [2, 4, 6, 8, 10, 12, 14, 16, 18, 20],\n",
       " [3, 6, 9, 12, 15, 18, 21, 24, 27, 30],\n",
       " [4, 8, 12, 16, 20, 24, 28, 32, 36, 40],\n",
       " [5, 10, 15, 20, 25, 30, 35, 40, 45, 50],\n",
       " [6, 12, 18, 24, 30, 36, 42, 48, 54, 60],\n",
       " [7, 14, 21, 28, 35, 42, 49, 56, 63, 70],\n",
       " [8, 16, 24, 32, 40, 48, 56, 64, 72, 80],\n",
       " [9, 18, 27, 36, 45, 54, 63, 72, 81, 90],\n",
       " [10, 20, 30, 40, 50, 60, 70, 80, 90, 100]]"
      ]
     },
     "execution_count": 9,
     "metadata": {},
     "output_type": "execute_result"
    }
   ],
   "source": [
    "table = [[i*j for j in range(1,11)] for i in range(1,11)]\n",
    "table"
   ]
  },
  {
   "cell_type": "markdown",
   "metadata": {},
   "source": [
    "# Exercice 11.2 "
   ]
  },
  {
   "cell_type": "code",
   "execution_count": 1,
   "metadata": {},
   "outputs": [],
   "source": [
    "tab = [[i*i-i*j+j*j for j in range(15)] for i in range(15)]"
   ]
  },
  {
   "cell_type": "code",
   "execution_count": 2,
   "metadata": {
    "scrolled": true
   },
   "outputs": [
    {
     "data": {
      "text/plain": [
       "[[0, 1, 4, 9, 16, 25, 36, 49, 64, 81, 100, 121, 144, 169, 196],\n",
       " [1, 1, 3, 7, 13, 21, 31, 43, 57, 73, 91, 111, 133, 157, 183],\n",
       " [4, 3, 4, 7, 12, 19, 28, 39, 52, 67, 84, 103, 124, 147, 172],\n",
       " [9, 7, 7, 9, 13, 19, 27, 37, 49, 63, 79, 97, 117, 139, 163],\n",
       " [16, 13, 12, 13, 16, 21, 28, 37, 48, 61, 76, 93, 112, 133, 156],\n",
       " [25, 21, 19, 19, 21, 25, 31, 39, 49, 61, 75, 91, 109, 129, 151],\n",
       " [36, 31, 28, 27, 28, 31, 36, 43, 52, 63, 76, 91, 108, 127, 148],\n",
       " [49, 43, 39, 37, 37, 39, 43, 49, 57, 67, 79, 93, 109, 127, 147],\n",
       " [64, 57, 52, 49, 48, 49, 52, 57, 64, 73, 84, 97, 112, 129, 148],\n",
       " [81, 73, 67, 63, 61, 61, 63, 67, 73, 81, 91, 103, 117, 133, 151],\n",
       " [100, 91, 84, 79, 76, 75, 76, 79, 84, 91, 100, 111, 124, 139, 156],\n",
       " [121, 111, 103, 97, 93, 91, 91, 93, 97, 103, 111, 121, 133, 147, 163],\n",
       " [144, 133, 124, 117, 112, 109, 108, 109, 112, 117, 124, 133, 144, 157, 172],\n",
       " [169, 157, 147, 139, 133, 129, 127, 127, 129, 133, 139, 147, 157, 169, 183],\n",
       " [196, 183, 172, 163, 156, 151, 148, 147, 148, 151, 156, 163, 172, 183, 196]]"
      ]
     },
     "execution_count": 2,
     "metadata": {},
     "output_type": "execute_result"
    }
   ],
   "source": [
    "tab"
   ]
  },
  {
   "cell_type": "markdown",
   "metadata": {},
   "source": [
    "Créer un tableau *extrait*, contenant exactement une fois chaque valeur présente dans tab, et trié dans l’ordre croissant."
   ]
  },
  {
   "cell_type": "code",
   "execution_count": 3,
   "metadata": {},
   "outputs": [
    {
     "name": "stdout",
     "output_type": "stream",
     "text": [
      "[0, 1, 3, 4, 7, 9, 12, 13, 16, 19, 21, 25, 27, 28, 31, 36, 37, 39, 43, 48, 49, 52, 57, 61, 63, 64, 67, 73, 75, 76, 79, 81, 84, 91, 93, 97, 100, 103, 108, 109, 111, 112, 117, 121, 124, 127, 129, 133, 139, 144, 147, 148, 151, 156, 157, 163, 169, 172, 183, 196]\n"
     ]
    }
   ],
   "source": [
    "extrait = []\n",
    "for ligne in tab : \n",
    "    for element in ligne : \n",
    "        if element not in  extrait : \n",
    "            extrait.append(element)\n",
    "extrait.sort()\n",
    "print(extrait)"
   ]
  },
  {
   "cell_type": "code",
   "execution_count": 4,
   "metadata": {},
   "outputs": [
    {
     "data": {
      "text/plain": [
       "60"
      ]
     },
     "execution_count": 4,
     "metadata": {},
     "output_type": "execute_result"
    }
   ],
   "source": [
    "len(extrait)"
   ]
  },
  {
   "cell_type": "markdown",
   "metadata": {},
   "source": [
    "# Exercice 11.3  \n",
    "Construire un tableau *jeu_dominos* qui contient la liste des dominos d’un jeu de dominos. \n",
    "Un domino sera représenté par un tableau à 2 éléments comme [4,5]"
   ]
  },
  {
   "cell_type": "code",
   "execution_count": 5,
   "metadata": {},
   "outputs": [],
   "source": [
    "jeu_dominos = [[i,j] for i in range(0,7) for j in range (i,7)]"
   ]
  },
  {
   "cell_type": "code",
   "execution_count": 6,
   "metadata": {},
   "outputs": [
    {
     "name": "stdout",
     "output_type": "stream",
     "text": [
      "[[0, 0], [0, 1], [0, 2], [0, 3], [0, 4], [0, 5], [0, 6], [1, 1], [1, 2], [1, 3], [1, 4], [1, 5], [1, 6], [2, 2], [2, 3], [2, 4], [2, 5], [2, 6], [3, 3], [3, 4], [3, 5], [3, 6], [4, 4], [4, 5], [4, 6], [5, 5], [5, 6], [6, 6]]\n"
     ]
    }
   ],
   "source": [
    "print(jeu_dominos)"
   ]
  },
  {
   "cell_type": "code",
   "execution_count": 7,
   "metadata": {},
   "outputs": [
    {
     "data": {
      "text/plain": [
       "28"
      ]
     },
     "execution_count": 7,
     "metadata": {},
     "output_type": "execute_result"
    }
   ],
   "source": [
    "len(jeu_dominos)"
   ]
  },
  {
   "cell_type": "markdown",
   "metadata": {},
   "source": [
    "# Exercice 11.4 \n",
    "Écrire une fonction *affiche(tab)* qui affiche le contenu d’un tableau à 2 dimensions sous forme de grille, sans afficher ni les crochets ni les virgules, mais en séparant les éléments par des espaces."
   ]
  },
  {
   "cell_type": "code",
   "execution_count": 19,
   "metadata": {},
   "outputs": [],
   "source": [
    "def affiche(tab) : \n",
    "    for ligne in tab : \n",
    "        for element in ligne :\n",
    "            print(element, end=\" \")\n",
    "        print()"
   ]
  },
  {
   "cell_type": "code",
   "execution_count": 20,
   "metadata": {},
   "outputs": [
    {
     "name": "stdout",
     "output_type": "stream",
     "text": [
      "1 2 3 \n",
      "4 5 6 \n",
      "7 8 9 \n"
     ]
    }
   ],
   "source": [
    "affiche([[1,2,3], [4,5,6], [7,8,9]])"
   ]
  },
  {
   "cell_type": "markdown",
   "metadata": {},
   "source": [
    "# Exercice 11.5 \n",
    "On considère une grille de jeu, carrée, de taille quelconque. Chaque case de la grille peut soit être vide, soit contenir un jeton du joueur 1, soit contenir un jeton du joueur 2.\n",
    "On affiche la grille en affichant des \" . \" pour une case vide, \"x\" pour un jeton du joueur 1 et \"o\" pour un jeton du joueur 2.\n",
    "Le tableau à 2 dimensions qui représente la grille contient des valeurs numériques : 0 pour une case vide, 1 pour un jeton du joueur 1 et 2 pour un jeton du joueur 2.\n",
    "Écrire une fonction affiche_jeu(tab) qui affiche le contenu d’un tableau à 2 dimensions contenant des 0,1 ou 2, sous forme de grille de jeu."
   ]
  },
  {
   "cell_type": "code",
   "execution_count": 25,
   "metadata": {},
   "outputs": [],
   "source": [
    "def affiche_jeu(tab):\n",
    "    for ligne in tab : \n",
    "        for element in ligne :\n",
    "            if element == 0: \n",
    "                print(\".\", end=\" \")\n",
    "            elif element == 1: \n",
    "                print(\"x\", end=\" \")\n",
    "            else :\n",
    "                print(\"o\", end=\" \")\n",
    "        print()"
   ]
  },
  {
   "cell_type": "code",
   "execution_count": 26,
   "metadata": {},
   "outputs": [
    {
     "name": "stdout",
     "output_type": "stream",
     "text": [
      "o . x \n",
      "x o x \n",
      ". o x \n"
     ]
    }
   ],
   "source": [
    "affiche_jeu([[2,0,1], [1,2,1], [0,2,1]])"
   ]
  }
 ],
 "metadata": {
  "kernelspec": {
   "display_name": "Python 3",
   "language": "python",
   "name": "python3"
  },
  "language_info": {
   "codemirror_mode": {
    "name": "ipython",
    "version": 3
   },
   "file_extension": ".py",
   "mimetype": "text/x-python",
   "name": "python",
   "nbconvert_exporter": "python",
   "pygments_lexer": "ipython3",
   "version": "3.8.2"
  }
 },
 "nbformat": 4,
 "nbformat_minor": 2
}
