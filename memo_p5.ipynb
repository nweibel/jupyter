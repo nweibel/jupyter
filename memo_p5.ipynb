{
 "cells": [
  {
   "cell_type": "code",
   "execution_count": null,
   "metadata": {},
   "outputs": [],
   "source": [
    "from p5 import *"
   ]
  },
  {
   "cell_type": "markdown",
   "metadata": {},
   "source": [
    "# Mémo p5 \n",
    "(version basthon.fr)"
   ]
  },
  {
   "cell_type": "markdown",
   "metadata": {},
   "source": [
    "## Sommaire \n",
    "\n",
    "<ol>\n",
    "    <li><a href=\"#structure_du_programme\">Structure du programme</a></li>  \n",
    "    <li><a href=\"#variables_systeme\"> Variables système</a></li>\n",
    "    <li><a href=\"#designer_couleur\">Designer une couleur</a></li>\n",
    "    <li><a href=\"#dessiner_couleur\">Dessiner en couleur</a></li>\n",
    "    <li><a href=\"#primitives_2d\">Primitives 2d</a></li>\n",
    "    <li><a href=\"#traces\">Tracés</a></li> \n",
    "\n",
    "</ol>"
   ]
  },
  {
   "cell_type": "markdown",
   "metadata": {},
   "source": [
    "<div id=\"structure_du_programme\"></div>\n",
    "\n",
    "## Structure du programme\n",
    "\n",
    "La fonction `setup()` est exécutée une fois, au démarrage : \n",
    "```python\n",
    "def setup():\n",
    "    createCanvas(800,600) \n",
    "    # instructions de paramétrage de l'affichage\n",
    "```\n",
    "La fonction `draw()` est exécutée en boucle, après l'exécution de `setup()`:\n",
    "```python\n",
    "def draw():\n",
    "    # instructions de dessin\n",
    "```\n",
    "L'instruction `run()` lance l'exécution de `setup()` puis, en boucle, de `draw()` :\n",
    "```python\n",
    "run()\n",
    "```\n",
    "L'instruction `stop()` met fin au programme :\n",
    "```python\n",
    "stop()\n",
    "```\n"
   ]
  },
  {
   "cell_type": "markdown",
   "metadata": {},
   "source": [
    "<div id=\"variables_systeme\"></div>\n",
    "\n",
    "##  Variables système\n",
    "\n",
    "|variable|description|\n",
    "| :-- | :-- |\n",
    "|`windowWidth`,  `windowHeight`|Dimensions de la fenêtre|  \n",
    "|`width`, `height`|Dimensions de la zone de dessin. Les valeurs de `width` et `height` sont définies par les paramètres de la fonction `createCanvas()`. La valeur par défaut est 100 si `createCanvas()` n'est pas utilisé dans un programme.|\n",
    "|`mouseX`, `mouseY` |Coordonnées du pointeur de la souris|\n"
   ]
  },
  {
   "cell_type": "code",
   "execution_count": null,
   "metadata": {},
   "outputs": [],
   "source": [
    "# Exemple : \n",
    "\n",
    "def setup():\n",
    "    createCanvas(200, 200)\n",
    "    background(100)\n",
    "\n",
    "def draw():\n",
    "    circle(mouseX, mouseY, 10)\n",
    "    \n",
    "run()"
   ]
  },
  {
   "cell_type": "code",
   "execution_count": null,
   "metadata": {},
   "outputs": [],
   "source": [
    "stop()"
   ]
  },
  {
   "cell_type": "markdown",
   "metadata": {},
   "source": [
    "<div id=\"designer_couleur\"></div>\n",
    "\n",
    "## Désigner une couleur\n",
    "|syntaxe|description|\n",
    "| :-- | :-- |\n",
    "|'red' |         nom de couleur |\n",
    "|120 |            niveau de gris : 0 - 255|\n",
    "|(100, 125, 255) |  couleur r, v, b (décimal) : 0 - 255|\n",
    "|'#222222'|  couleur r, v, b (hexadécimal) : 00 - ff|\n",
    "|(255, 0, 0, 50)|  couleur r, v, b, alpha|\n",
    "|`color(0, 0, 255)` |  objet p5.Color|\n",
    "|`lerpColor(couleur1, couleur2, coefficient)` |couleur intermédiaire entre `couleur1` et `couleur2`. `coefficient`  est un nombre entre 0 et 1. Plus `coefficient` est proche de 0, plus la couleur obtenue est proche de `couleur1`, et plus `coefficient` est proche de 1, plus la couleur obtenue est proche de `couleur2`. |\n"
   ]
  },
  {
   "cell_type": "markdown",
   "metadata": {},
   "source": [
    "<div id=\"dessiner_couleur\"></div>\n",
    "\n",
    "## Dessiner en couleur\n",
    "|syntaxe|description|\n",
    "| :-- | :-- |\n",
    "|`background(couleur)`| Définit la couleur d'arrière-plan de la zone dessin (255 par défaut).|\n",
    "|`fill(couleur)`|Définit la couleur de remplissage des formes (255 par défaut).|\n",
    "|`noFill()`|Désactive la couleur de remplissage.|\n",
    "|`stroke(couleur)` |Définit la couleur de tracé des formes (0 par défaut).|\n",
    "|`noStroke()`|Désactive le tracé du contour des figures. Si `noFill()` et `noStroke()` sont exécutées en même temps, rien n'est tracé dans la zone de dessin. |\n",
    "\n"
   ]
  },
  {
   "cell_type": "code",
   "execution_count": null,
   "metadata": {},
   "outputs": [],
   "source": [
    "# Exemple : \n",
    "\n",
    "def setup():\n",
    "    createCanvas(200, 200)\n",
    "    background(255, 200, 200) # background dans la fonction setup()\n",
    "    noStroke()\n",
    "\n",
    "def draw():\n",
    "    fill(255 - mouseX, 0, 255 - mouseY)\n",
    "    square(100, 100, 60)\n",
    "    circle(mouseX, mouseY, 10)\n",
    "    \n",
    "run()"
   ]
  },
  {
   "cell_type": "code",
   "execution_count": null,
   "metadata": {},
   "outputs": [],
   "source": [
    "stop()"
   ]
  },
  {
   "cell_type": "code",
   "execution_count": null,
   "metadata": {
    "scrolled": true
   },
   "outputs": [],
   "source": [
    "# Exemple : \n",
    "\n",
    "def setup():\n",
    "    createCanvas(200, 200)\n",
    "    noStroke()\n",
    "\n",
    "def draw():\n",
    "    background(255, 200, 200)  # background dans la fonction draw()\n",
    "    fill(237, 34, 93)\n",
    "    rect(100, 100, 60, 60)\n",
    "    fill(25, 0, 255)\n",
    "    circle(mouseX, mouseY, 30)\n",
    "    \n",
    "run()"
   ]
  },
  {
   "cell_type": "code",
   "execution_count": null,
   "metadata": {},
   "outputs": [],
   "source": [
    "stop()"
   ]
  },
  {
   "cell_type": "markdown",
   "metadata": {},
   "source": [
    "<div id=\"primitives_2d\"></div>\n",
    "\n",
    "## Primitives 2d\n",
    "\t\t\t\n",
    "|syntaxe|description|\n",
    "| :-- | :-- |\n",
    "|`point(x, y)`|Trace un point de coordonnées (x, y).|\n",
    "|`line(x1, y1, x2, y2)`| Trace un segment reliant les deux points de coordonnées (x1, y1) et (x2, y2).|\n",
    "|`circle(x, y, diametre)`|Tracer un cercle dont le centre a pour coordonnées (x, y) et dont le diamètre prend la valeur fixée.|\n",
    "|`ellipse(x, y, largeur, hauteur)`| Tracer une ellipse dont le centre a pour coordonnées (x, y) et dont la largeur et la hauteur prennent les valeurs fixées.|\n",
    "|`arc(x, y, largeur, hauteur, angleDebut, angleFin)`|Trace un arc de l'ellipse définie par `ellipse(x,y,largeur,hauteur)` entre les points repérés par les angles `angleDébut` et `angleFin` (en radians).|\n",
    "|`square(x, y, cote)`|Trace un carré dont le sommet en haut à gauche a pour coordonnées (x, y) et dont le côté prend la valeur fixée.|\n",
    "|`rect(x, y, largeur, hauteur)` |Trace un rectangle dont le sommet en haut à gauche a pour coordonnées (x, y), et dont la largeur et la hauteur prennent les valeurs fixées.|\n",
    "|`triangle(x1, y1, x2, y2, x3, y3)`| Trace un triangle dont les trois sommets ont pour coordonnées (x1, y1), (x2, y2), et (x3, y3).|\n",
    "|`quad(x1, y1, x2, y2, x3, y3, x4, y4)`| Trace un quadrilatère dont les quatre sommets ont pour coordonnées (x1, y1), (x2, y2), (x3, y3) et (x4, y4).|\n",
    "\n",
    "<div id=\"traces\"></div>\n",
    "\n",
    "## Tracés\n",
    "\n",
    "|syntaxe|description|\n",
    "| :-- | :-- |\n",
    "|strokeWeight(epaisseur)|Définit l'épaisseur du tracé en pixels (par défaut : 1 pixel).|\n",
    "|noStroke() |Désactive le tracé du contour des figures.|\n",
    "|strokeCap(style)|Définit le style de rendu des extrémités de ligne. Ces extrémités sont soit arrondies, carrées ou étendues, chacune spécifiée avec les paramètres correspondants: ROUND, SQUARE et PROJECT (par défaut : ROUND).|\n",
    "\n"
   ]
  },
  {
   "cell_type": "code",
   "execution_count": null,
   "metadata": {},
   "outputs": [],
   "source": [
    "# Exemple : \n",
    "\n",
    "def setup():\n",
    "    createCanvas(200, 200)\n",
    "    strokeWeight(5)\n",
    "    background(255, 200, 200)\n",
    "\n",
    "def draw():\n",
    "    stroke(0)\n",
    "    fill('blue')\n",
    "    ellipse(50, 100, 20, 30)\n",
    "    fill('gold')\n",
    "    arc(100,100,120,120,-PI/2,0)\n",
    "    fill(237, 34, 93)\n",
    "    rect(100, 100, 60, 80)\n",
    "    line(100, 100, 100, 40)\n",
    "    \n",
    "    stroke(255)\n",
    "    line(50, 150, 150, 150)\n",
    "     \n",
    "run()"
   ]
  },
  {
   "cell_type": "code",
   "execution_count": null,
   "metadata": {},
   "outputs": [],
   "source": [
    "stop()"
   ]
  },
  {
   "cell_type": "code",
   "execution_count": null,
   "metadata": {},
   "outputs": [],
   "source": []
  }
 ],
 "metadata": {
  "celltoolbar": "Slideshow",
  "kernelspec": {
   "display_name": "Python 3",
   "language": "python",
   "name": "python3"
  },
  "language_info": {
   "codemirror_mode": {
    "name": "ipython",
    "version": 3
   },
   "file_extension": ".py",
   "mimetype": "text/x-python",
   "name": "python",
   "nbconvert_exporter": "python",
   "pygments_lexer": "ipython3",
   "version": "3.8.2"
  }
 },
 "nbformat": 4,
 "nbformat_minor": 2
}
