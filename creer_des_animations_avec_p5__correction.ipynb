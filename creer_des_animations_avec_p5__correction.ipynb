{
  "cells": [
    {
      "cell_type": "markdown",
      "source": [
        "<div class=\"alert alert-info\">\n",
        "    \n",
        "# Atelier APMEP 2022 : créer des animations avec python et p5 \n",
        "CORRECTION\n",
        "\n",
        "</div>"
      ],
      "metadata": {}
    },
    {
      "cell_type": "markdown",
      "source": [
        "<div class=\"alert alert-info\">\n",
        "\n",
        "\n",
        "La programmation d'animations graphiques simples permet de mettre en évidence la nécessité de maitriser certaines connaissances mathématiques du lycée. Réaliser une animation donne un objectif visuel et dynamique à l'activité de programmation, moins abstrait que le calcul en console, tout en mobilisant les concepts d'algorithmique du lycée. Cela permet aux élèves de constater par eux mêmes l'effet de leurs essais, d'analyser leurs erreurs et contribue à donner du sens aux notions mathématiques en jeu.\n",
        "Les activités présentées seront au service de l'apprentissage des mathématiques au lycée, et seront un support pour une différenciation des activités de programmation.\n",
        "    \n",
        "</div>"
      ],
      "metadata": {}
    },
    {
      "cell_type": "markdown",
      "source": [
        "<div class=\"alert alert-info\">\n",
        "    \n",
        "## Sommaire\n",
        "[0. Présentation de p5](#0.-Présentation-de-p5)  \n",
        "[1. Détecter le survol de formes](#1.-Détecter-le-survol-de-formes)\n",
        "    \n",
        "- [1.1 Détecter le survol de carrés](#carrés)   \n",
        "- [1.2 Détecter le survol de disques](#disques) \n",
        " \n",
        "[2. Intersection](#2.-Intersection)\n",
        "    \n",
        "[3. Projections](#3.-Projections)\n",
        "    \n",
        "- [3.1 Projection sur une droite \"horizontale\"](#droite)\n",
        "- [3.2 Projection sur un cercle](#cercle)\n",
        "  \n",
        "[4. Mouvements](#4.-Mouvements)\n",
        "    \n",
        "- [4.1 Faire tomber une balle](#chute)\n",
        "- [4.2 Faire rebondir une bille](#rebond)\n",
        "- [4.3 Animer deux billes sur un rail](#rail)\n",
        "- [4.4 Rebonds sur 4 bords](#rebonds)\n",
        "   \n",
        "[5. Suivre la balle des yeux](#suivre)\n",
        "    \n",
        "</div>"
      ],
      "metadata": {}
    },
    {
      "cell_type": "markdown",
      "source": [
        "<div class=\"alert alert-info\">\n",
        "    \n",
        "## 0. Présentation de p5\n",
        "</div>"
      ],
      "metadata": {}
    },
    {
      "cell_type": "code",
      "source": [
        "from p5 import *"
      ],
      "outputs": [],
      "execution_count": 2,
      "metadata": {
        "trusted": true
      }
    },
    {
      "cell_type": "code",
      "source": [
        "def setup():\n",
        "    createCanvas(600, 300)\n",
        "    background(120)\n",
        "\n",
        "def draw():\n",
        "    stroke(255)\n",
        "    if mouseIsPressed:\n",
        "        line(mouseX, mouseY, pmouseX, pmouseY)\n",
        "        circle(mouseX, mouseY, 3)\n",
        "run()"
      ],
      "outputs": [
        {
          "output_type": "display_data",
          "data": {
            "application/javascript": "element.append(window._basthonDomNodeBus.pop(0));"
          },
          "metadata": {}
        }
      ],
      "execution_count": 3,
      "metadata": {
        "trusted": false,
        "scrolled": false
      }
    },
    {
      "cell_type": "markdown",
      "source": [
        "<div class=\"alert alert-success\">\n",
        "    \n",
        "La bibliothèque **p5** présente dans Capytale et Basthon permet de réaliser rapidement des constructions graphiques et des animations. Elle propose l'essentiel des fonctions de [p5.js](https://p5js.org), avec la syntaxe de python. \n",
        "\n",
        "## Structure du programme\n",
        "\n",
        "### Les fonctions setup(), draw() et run()\n",
        "\n",
        "Le programme doit contenir deux fonctions, `setup()` et `draw()`, et l'exécution est lancée à l'aide de l'instruction `run()`.\n",
        "\n",
        "Lorsque l'on exécute l'instruction `run()`, la fonction `setup()` est exécutée une fois :\n",
        "\n",
        "\n",
        "```python\n",
        "def setup():\n",
        "    createCanvas(800,600)\n",
        "    # instructions de paramétrage de l'affichage\n",
        "```\n",
        "\n",
        "Cette fonction permet de définir les dimensions de la fenêtre de tracé, et quelques paramètres initiaux. Les valeurs données aux paramètres de la fonction `createCanvas`  sont affectées automatiquement à deux variables systèmes : `width`  pour le premier paramètre et `height`  pour le second.\n",
        "\n",
        "\n",
        "Puis la fonction `draw()`  est ensuite exécutée en boucle (infinie), après l'exécution de `setup()`:\n",
        "\n",
        "```python\n",
        "def draw():\n",
        "    # instructions de dessin\n",
        "```\n",
        "\n",
        "Elle contient des instructions qui seront exécutées avec une fréquence réglable, permettant de modifier le contenu de la fenêtre et de créer des contenus statiques ou des animations.  \n",
        "L'instruction `stop()` met fin à l'exécution du programme :\n",
        "\n",
        "```python\n",
        "stop()\n",
        "```\n",
        "</div>"
      ],
      "metadata": {}
    },
    {
      "cell_type": "markdown",
      "source": [
        "<div class=\"alert alert-success\">\n",
        "    \n",
        "## Repère, formes et couleurs\n",
        "\n",
        "### Repère\n",
        "\n",
        "<img src = 'https://www.carnets.info/images/p5_repere.png' width=200>\n",
        "\n",
        "L'origine du repère est située en haut à gauche. Les abscisses augmentent de gauche à droite, les ordonnées augmentent de haut en bas.\n",
        "\n",
        "### Formes \n",
        "Des instructions permettent de tracer les formes courantes. On trouve par exemple : `circle(), line(), point(), rect(), square(), triangle()`.   \n",
        "Plus de détails : [primitives 2D dans p5](https://www.carnets.info/jupyter/p5/#primitives-2d)\n",
        "\n",
        "### Couleurs\n",
        "Les couleurs peuvent être désignées à l'aide de leur nom (par ex. `'red'`, `'darkblue'`), ou à l'aide de leur représentation RVB composée de trois valeurs décimales comprises entre 0 et 255, indiquant respectivement les niveaux de rouge, vert et bleu (par exemple (100, 125, 255)). \n",
        "\n",
        "Les couleurs peuvent être utilisées dans les insructions :\n",
        "- `background(couleur)`, qui définit la couleur d'arrière-plan de la zone de dessin, \n",
        "- `fill(couleur)`, qui définit la couleur de remplissage des formes, \n",
        "- `stroke(couleur)`, qui définit la couleur de tracé des formes.\n",
        "\n",
        "Plus de détails : [couleurs dans p5](https://www.carnets.info/jupyter/p5/#couleurs)\n",
        "</div>"
      ],
      "metadata": {}
    },
    {
      "cell_type": "markdown",
      "source": [
        "<div class=\"alert alert-success\">\n",
        "    \n",
        "## Variables système\n",
        "### Fenêtre\n",
        "Dès que l'on définit les dimensions de la fenêtre à l'aide de la fonction `createCanvas()`,  les variables `width` et `height`  sont définies et les arguments de la fonction`createCanvas()` leur sont respectivement affectés.\n",
        "### Souris\n",
        "Les variables `mouseX`et `mouseY` référencent les coordonnées du pointeur de la souris.\n",
        "Le booléen `mouseIsPressed`\tvaut `True` si la souris est cliquée, et `False` sinon.\n",
        "</div>"
      ],
      "metadata": {}
    },
    {
      "cell_type": "markdown",
      "source": [
        "<div class=\"alert alert-info\">\n",
        "    \n",
        "## 1. Détecter le survol de formes\n",
        "\n",
        "</div>"
      ],
      "metadata": {}
    },
    {
      "cell_type": "markdown",
      "source": [
        "<div class=\"alert alert-warning\">\n",
        "    \n",
        "### 1.1 Détecter le survol de carrés <a name=\"carrés\"></a>  \n",
        "\n",
        "\n",
        "#### 1.1.1 Un carré isolé\n",
        "Le programme suivant permet de tracer un carré.  \n",
        "Modifier le code pour que :\n",
        "- le carré devienne orange lorsque la souris le survole ;\n",
        "- le carré devienne rouge lorsque la souris clique dans le carré.\n",
        "    \n",
        "Identifier la/les notion(s) mathématique(s) en jeu, ainsi que les structures algorithmiques utilisées. \n",
        "    \n",
        "</div>"
      ],
      "metadata": {}
    },
    {
      "cell_type": "code",
      "source": [
        "def setup():\n",
        "    createCanvas(500, 300)  \n",
        "    background('gold')  \n",
        "    \n",
        "def draw():\n",
        "    fill('white')           \n",
        "    square(200, 100, 100)\n",
        "    \n",
        "run()"
      ],
      "outputs": [
        {
          "output_type": "display_data",
          "data": {
            "application/javascript": "element.append(window._basthonDomNodeBus.pop(0));"
          },
          "metadata": {}
        }
      ],
      "execution_count": 4,
      "metadata": {
        "trusted": false
      }
    },
    {
      "cell_type": "code",
      "source": [
        "# correction etape 1\n",
        "def setup():\n",
        "    createCanvas(500, 300)  \n",
        "    background('gold')  \n",
        "    \n",
        "def draw():\n",
        "    if 200 <  mouseX < 300 and 100 < mouseY < 200:\n",
        "        fill('orange')\n",
        "    else:\n",
        "        fill('white')           \n",
        "    square(200, 100, 100)\n",
        "    \n",
        "run()"
      ],
      "outputs": [
        {
          "output_type": "display_data",
          "data": {
            "application/javascript": "element.append(window._basthonDomNodeBus.pop(0));"
          },
          "metadata": {}
        }
      ],
      "execution_count": 5,
      "metadata": {
        "trusted": false,
        "scrolled": true
      }
    },
    {
      "cell_type": "code",
      "source": [
        "# correction etape 2\n",
        "def setup():\n",
        "    createCanvas(500, 300)  \n",
        "    background('gold')  \n",
        "    \n",
        "def draw():\n",
        "    if 200 <  mouseX < 300 and 100 < mouseY < 200:\n",
        "        if mouseIsPressed:\n",
        "            fill('orangered')\n",
        "        else:\n",
        "            fill('orange')\n",
        "    else:\n",
        "        fill('white')           \n",
        "    square(200, 100, 100)\n",
        "    \n",
        "run()"
      ],
      "outputs": [
        {
          "output_type": "display_data",
          "data": {
            "application/javascript": "element.append(window._basthonDomNodeBus.pop(0));"
          },
          "metadata": {}
        }
      ],
      "execution_count": 5,
      "metadata": {
        "trusted": true,
        "scrolled": true
      }
    },
    {
      "cell_type": "code",
      "source": [
        "stop()"
      ],
      "outputs": [],
      "execution_count": null,
      "metadata": {
        "trusted": false
      }
    },
    {
      "cell_type": "markdown",
      "source": [
        "<details>\n",
        "<summary style=\"border-left:3px solid #3cb371; border-radius:2pt; width:100%; color:#ffffff; padding:6px; background-color: #66cdaa\"> \n",
        "Notion(s) mathématique(s) - structures algorithmiques  \n",
        "</summary>  \n",
        "    \n",
        "<div style=\"border-left:3px solid #3cb371; border-radius:2pt; color:#297F5B; padding:6px; background-color: #f7f0eb\">\n",
        "    \n",
        "\n",
        "Repérage  \n",
        "Encadrement - Intervalle : la syntaxe `a < x < b` est possible en python  \n",
        "Instructions conditionnelles (imbriquées)\n",
        "\n",
        "</div>\n",
        "</details>\n"
      ],
      "metadata": {}
    },
    {
      "cell_type": "markdown",
      "source": [
        "<div class=\"alert alert-warning\">\n",
        "    \n",
        "#### 1.1.2 Un alignement de carrés\n",
        "Le programme suivant permet de tracer un alignement de carrés.  \n",
        "Modifier le code pour que chaque carré devienne orange lorsque la souris le survole.\n",
        "    \n",
        "Identifier la/les notion(s) mathématique(s) en jeu, ainsi que les structures algorithmiques utilisées. \n",
        "    \n",
        "</div>"
      ],
      "metadata": {}
    },
    {
      "cell_type": "code",
      "source": [
        "def setup():\n",
        "    createCanvas(500, 200)  \n",
        "    background('gold')  \n",
        "    \n",
        "def draw():\n",
        "    for i in range(8):\n",
        "        \n",
        "        fill('white')           \n",
        "        square(50 + i * 50, 75, 50)\n",
        "\n",
        "run()"
      ],
      "outputs": [
        {
          "output_type": "display_data",
          "data": {
            "application/javascript": "element.append(window._basthonDomNodeBus.pop(0));"
          },
          "metadata": {}
        }
      ],
      "execution_count": 7,
      "metadata": {
        "trusted": false
      }
    },
    {
      "cell_type": "code",
      "source": [
        "# correction\n",
        "def setup():\n",
        "    createCanvas(500, 200)  \n",
        "    background('gold')  \n",
        "    \n",
        "def draw():\n",
        "    for i in range(8):\n",
        "        if 50 + i * 50 <  mouseX < 100 + i * 50 and 75 < mouseY < 125:\n",
        "                fill('orange')\n",
        "        else:\n",
        "            fill('white')           \n",
        "        square(50 + i * 50, 75, 50)\n",
        "    \n",
        "run()"
      ],
      "outputs": [
        {
          "output_type": "display_data",
          "data": {
            "application/javascript": "element.append(window._basthonDomNodeBus.pop(0));"
          },
          "metadata": {}
        }
      ],
      "execution_count": 8,
      "metadata": {
        "trusted": false,
        "scrolled": true
      }
    },
    {
      "cell_type": "markdown",
      "source": [
        "<details>\n",
        "<summary style=\"border-left:3px solid #3cb371; border-radius:2pt; width:100%; color:#ffffff; padding:6px; background-color: #66cdaa\"> \n",
        "Notion(s) mathématique(s) - structures algorithmiques  \n",
        "</summary>  \n",
        "    \n",
        "<div style=\"border-left:3px solid #3cb371; border-radius:2pt; color:#297F5B; padding:6px; background-color: #f7f0eb\">\n",
        "    \n",
        "\n",
        "Repérage  \n",
        "Encadrement - Intervalle  \n",
        "Fonction affine / suite arithmétique  \n",
        "Instructions conditionnelles  \n",
        "Boucle bornée\n",
        "\n",
        "</div>\n",
        "</details>\n"
      ],
      "metadata": {}
    },
    {
      "cell_type": "code",
      "source": [
        "# alternative\n",
        "\n",
        "def setup():\n",
        "    createCanvas(500, 200)  \n",
        "    background('gold')  \n",
        "    \n",
        "def draw():\n",
        "    for x in range(50, 450, 50):\n",
        "        \n",
        "        fill('white')           \n",
        "        square(x, 75, 50)\n",
        "    \n",
        "run()"
      ],
      "outputs": [],
      "execution_count": null,
      "metadata": {
        "trusted": false
      }
    },
    {
      "cell_type": "code",
      "source": [
        "# correction alternative\n",
        "def setup():\n",
        "    createCanvas(500, 200)  \n",
        "    background('gold')  \n",
        "    \n",
        "def draw():\n",
        "    for x in range(50, 450, 50):\n",
        "        if x < mouseX < x + 50 and 75 < mouseY < 125:\n",
        "                fill('orange')\n",
        "        else:\n",
        "            fill('white')           \n",
        "        square(x, 75, 50)\n",
        "    \n",
        "run()"
      ],
      "outputs": [
        {
          "output_type": "display_data",
          "data": {
            "application/javascript": "element.append(window._basthonDomNodeBus.pop(0));"
          },
          "metadata": {}
        }
      ],
      "execution_count": 10,
      "metadata": {
        "trusted": false,
        "scrolled": true
      }
    },
    {
      "cell_type": "markdown",
      "source": [
        "<div class=\"alert alert-warning\">\n",
        "    \n",
        "#### 1.1.3 Des carrés disposés aléatoirement\n",
        "Le programme suivant permet de tracer des carrés disposés aléatoirement.   \n",
        "Modifier le code pour que chaque carré devienne orange lorsque la souris le survole.\n",
        "    \n",
        "Identifier la/les notion(s) mathématique(s) en jeu, ainsi que les structures algorithmiques utilisées. \n",
        "    \n",
        "</div>"
      ],
      "metadata": {}
    },
    {
      "cell_type": "code",
      "source": [
        "from random import randint\n",
        "abscisses = [randint(0, 480) for i in range(30)]\n",
        "ordonnees = [randint(0, 180) for i in range(30)]\n",
        "\n",
        "def setup():\n",
        "    createCanvas(500, 200)  \n",
        "    background('gold')  \n",
        "    \n",
        "def draw():\n",
        "     for i in range(len(abscisses)):\n",
        "               \n",
        "        square(abscisses[i], ordonnees[i], 20)\n",
        "    \n",
        "run()"
      ],
      "outputs": [
        {
          "output_type": "display_data",
          "data": {
            "application/javascript": "element.append(window._basthonDomNodeBus.pop(0));"
          },
          "metadata": {}
        }
      ],
      "execution_count": 9,
      "metadata": {
        "trusted": false
      }
    },
    {
      "cell_type": "code",
      "source": [
        "# correction\n",
        "from random import randint\n",
        "abscisses = [randint(0, 480) for i in range(30)]\n",
        "ordonnees = [randint(0, 180) for i in range(30)]\n",
        "\n",
        "def setup():\n",
        "    createCanvas(500, 200)  \n",
        "    background('gold')  \n",
        "    \n",
        "def draw():\n",
        "     for i in range(len(abscisses)):\n",
        "        if abscisses[i] <  mouseX < abscisses[i] + 20  and ordonnees[i] < mouseY < ordonnees[i] + 20:\n",
        "                fill('orange')\n",
        "        else:\n",
        "            fill('white')           \n",
        "        square(abscisses[i], ordonnees[i], 20)\n",
        "    \n",
        "run()"
      ],
      "outputs": [
        {
          "output_type": "display_data",
          "data": {
            "application/javascript": "element.append(window._basthonDomNodeBus.pop(0));"
          },
          "metadata": {}
        }
      ],
      "execution_count": 10,
      "metadata": {
        "trusted": false,
        "scrolled": true
      }
    },
    {
      "cell_type": "code",
      "source": [
        "stop()"
      ],
      "outputs": [],
      "execution_count": 11,
      "metadata": {
        "trusted": false
      }
    },
    {
      "cell_type": "markdown",
      "source": [
        "<details>\n",
        "<summary style=\"border-left:3px solid #3cb371; border-radius:2pt; width:100%; color:#ffffff; padding:6px; background-color: #66cdaa\"> \n",
        "Notion(s) mathématique(s) - structures algorithmiques  \n",
        "</summary>  \n",
        "    \n",
        "<div style=\"border-left:3px solid #3cb371; border-radius:2pt; color:#297F5B; padding:6px; background-color: #f7f0eb\">\n",
        "    \n",
        "\n",
        "Repérage  \n",
        "Encadrement    \n",
        "Logique   \n",
        "Instructions conditionnelles  \n",
        "Boucle bornée  \n",
        "Liste : définition d'une liste en compréhension\n",
        "\n",
        "</div>\n",
        "</details>\n"
      ],
      "metadata": {}
    },
    {
      "cell_type": "markdown",
      "source": [
        "<div class=\"alert alert-warning\">\n",
        "    \n",
        "### 1.2 Détecter le survol de disques <a name=\"disques\"></a>  \n",
        "\n",
        "#### 1.2.1 Un disque isolé   \n",
        "Le programme suivant permet de tracer un disque.  \n",
        "Modifier le code pour que :\n",
        "- le disque devienne orange lorsque la souris le survole ;\n",
        "- le disque devienne rouge lorsque la souris clique à l'intérieur du cercle.\n",
        "    \n",
        "Identifier la/les notion(s) mathématique(s) en jeu, ainsi que les structures algorithmiques utilisées. \n",
        "    \n",
        "</div>"
      ],
      "metadata": {}
    },
    {
      "cell_type": "code",
      "source": [
        "def setup():\n",
        "    createCanvas(500, 300)  \n",
        "    background('gold')\n",
        "    \n",
        "def draw():\n",
        "    fill('white')                   \n",
        "    circle(250, 150, 100)\n",
        "    \n",
        "run()"
      ],
      "outputs": [
        {
          "output_type": "display_data",
          "data": {
            "application/javascript": "element.append(window._basthonDomNodeBus.pop(0));"
          },
          "metadata": {}
        }
      ],
      "execution_count": 12,
      "metadata": {
        "trusted": false
      }
    },
    {
      "cell_type": "code",
      "source": [
        "#correction\n",
        "\n",
        "def distance(xA, yA, xB, yB):\n",
        "    return sqrt((xB - xA)**2 + (yB - yA)**2)\n",
        "   \n",
        "def setup():\n",
        "    createCanvas(500, 300) \n",
        "    background('gold')\n",
        "    \n",
        "def draw():\n",
        "   # on calcule la distance entre la souris et le centre du cercle\n",
        "    d = distance(250, 150, mouseX, mouseY)  \n",
        "    \n",
        "    if d < 50:\n",
        "        if mouseIsPressed:\n",
        "            fill('orangered')      \n",
        "        else:\n",
        "            fill('orange')   \n",
        "    else:\n",
        "        fill('white')               \n",
        "        \n",
        "    circle(250, 150, 100)\n",
        "    \n",
        "run()"
      ],
      "outputs": [
        {
          "output_type": "display_data",
          "data": {
            "application/javascript": "element.append(window._basthonDomNodeBus.pop(0));"
          },
          "metadata": {}
        }
      ],
      "execution_count": 13,
      "metadata": {
        "trusted": false
      }
    },
    {
      "cell_type": "code",
      "source": [
        "stop()"
      ],
      "outputs": [],
      "execution_count": 14,
      "metadata": {
        "trusted": false
      }
    },
    {
      "cell_type": "markdown",
      "source": [
        "<div class=\"alert alert-warning\">\n",
        "    \n",
        "#### 1.2.2 Un alignement de disques\n",
        "Le programme suivant permet de tracer un alignement de disques.  \n",
        "Modifier le code pour que chaque disque devienne orange lorsque la souris le survole.\n",
        "    \n",
        "Identifier la/les notion(s) mathématique(s) en jeu, ainsi que les structures algorithmiques utilisées. \n",
        "    \n",
        "</div>"
      ],
      "metadata": {}
    },
    {
      "cell_type": "code",
      "source": [
        "def setup():\n",
        "    createCanvas(500, 200)  \n",
        "    background('gold')  \n",
        "    \n",
        "def draw():\n",
        "    for i in range(8):\n",
        "        \n",
        "        fill('white')           \n",
        "        circle(75 + i * 50, 100, 50)\n",
        "    \n",
        "run()"
      ],
      "outputs": [],
      "execution_count": null,
      "metadata": {
        "trusted": false,
        "scrolled": true
      }
    },
    {
      "cell_type": "code",
      "source": [
        "# correction\n",
        "def setup():\n",
        "    createCanvas(500, 200)  \n",
        "    background('gold')  \n",
        "    \n",
        "def draw():\n",
        "    for i in range(8):\n",
        "        if distance(75 + i * 50, 100, mouseX, mouseY) < 25:\n",
        "                fill('orange')\n",
        "        else:\n",
        "            fill('white')           \n",
        "        circle(75 + i * 50, 100, 50)\n",
        "    \n",
        "run()"
      ],
      "outputs": [
        {
          "output_type": "display_data",
          "data": {
            "application/javascript": "element.append(window._basthonDomNodeBus.pop(0));"
          },
          "metadata": {}
        }
      ],
      "execution_count": 8,
      "metadata": {
        "trusted": false,
        "scrolled": true
      }
    },
    {
      "cell_type": "code",
      "source": [
        "stop()"
      ],
      "outputs": [],
      "execution_count": null,
      "metadata": {
        "trusted": false
      }
    },
    {
      "cell_type": "markdown",
      "source": [
        "<details>\n",
        "<summary style=\"border-left:3px solid #3cb371; border-radius:2pt; width:100%; color:#ffffff; padding:6px; background-color: #66cdaa\"> \n",
        "Notion(s) mathématique(s) - structures algorithmiques  \n",
        "</summary>  \n",
        "    \n",
        "<div style=\"border-left:3px solid #3cb371; border-radius:2pt; color:#297F5B; padding:6px; background-color: #f7f0eb\">\n",
        "    \n",
        "\n",
        "Repérage  \n",
        "Distance dans un repère orthonormé   \n",
        "Fonction affine / suite arithmétique  \n",
        "Instructions conditionnelles  \n",
        "Boucle bornée  \n",
        "\n",
        "</div>\n",
        "</details>\n"
      ],
      "metadata": {}
    },
    {
      "cell_type": "markdown",
      "source": [
        "<details>\n",
        "<summary style=\"border-left:3px solid #bd5413; border-radius:2pt; width:100%; color:#bd5413; padding:6px; background-color: #fcd2b8\"> \n",
        "Approfondissement 1\n",
        "</summary>  \n",
        "    \n",
        "<div style=\"border-left:3px solid #bd5413; border-radius:2pt; color:#bd5413; padding:6px; background-color: #f7f0eb\">\n",
        "    \n",
        "Une grille de disques de diamètre 5 est affichée par le programme suivant.\n",
        "    \n",
        "Modifier ce programme pour créer une animation en rendant le diamètre de chaque disque proportionnel à la distance entre le curseur de la souris et le centre du disque.\n",
        "    \n",
        "```python\n",
        "\n",
        "def setup():\n",
        "    createCanvas(610, 410)\n",
        "    noStroke()\n",
        "    frameRate(10)\n",
        "\n",
        "def draw():\n",
        "    background(255)\n",
        "    fill('gold')\n",
        "    for i in range(0, width, 20):\n",
        "        for j in range(0, height, 20):\n",
        "            circle(i, j, 5)\n",
        "run()\n",
        "``` \n",
        "\n",
        "\n",
        "</div>\n",
        "</details>"
      ],
      "metadata": {}
    },
    {
      "cell_type": "code",
      "source": [
        "# correction approfondissement 1\n",
        "\n",
        "def setup():\n",
        "    createCanvas(610, 410)\n",
        "    noStroke()\n",
        "    frameRate(20)\n",
        "\n",
        "def draw():\n",
        "    background(255)\n",
        "    fill('blue')\n",
        "   # fill(min(frameCount%510, 510 - frameCount%510), 0, 100)\n",
        "    for i in range(1, width, 20):\n",
        "        for j in range(1, height, 20):\n",
        "            distance = dist(mouseX, mouseY, i, j)\n",
        "            diametre = distance // 6\n",
        "           \n",
        "            circle(i, j, diametre)\n",
        "run()"
      ],
      "outputs": [
        {
          "output_type": "display_data",
          "data": {
            "application/javascript": "element.append(window._basthonDomNodeBus.pop(0));"
          },
          "metadata": {}
        }
      ],
      "execution_count": 15,
      "metadata": {
        "trusted": false
      }
    },
    {
      "cell_type": "code",
      "source": [
        "stop()"
      ],
      "outputs": [],
      "execution_count": 16,
      "metadata": {
        "trusted": false
      }
    },
    {
      "cell_type": "markdown",
      "source": [
        "<details>\n",
        "<summary style=\"border-left:3px solid #3cb371; border-radius:2pt; width:100%; color:#ffffff; padding:6px; background-color: #66cdaa\"> \n",
        "Notion(s) mathématique(s) - structures algorithmiques  \n",
        "</summary>  \n",
        "    \n",
        "<div style=\"border-left:3px solid #3cb371; border-radius:2pt; color:#297F5B; padding:6px; background-color: #f7f0eb\">\n",
        "    \n",
        "\n",
        "Repérage  \n",
        "Distance dans un repère orthonormé   \n",
        "Fonction affine / suite arithmétique  \n",
        "Instructions conditionnelles  \n",
        "Boucles bornées imbriquées  \n",
        "\n",
        "</div>\n",
        "</details>\n"
      ],
      "metadata": {}
    },
    {
      "cell_type": "markdown",
      "source": [
        "<div class=\"alert alert-warning\">\n",
        "    \n",
        "#### 1.2.3 Des disques disposés aléatoirement\n",
        "Le programme suivant permet de tracer des disques disposés aléatoirement.   \n",
        "Modifier le code pour que :\n",
        "- chaque disque devienne orange lorsque la souris le survole,\n",
        "- le disque se déplace de quelques pixels aléatoirement.\n",
        "    \n",
        "Identifier la/les notion(s) mathématique(s) en jeu, ainsi que les structures algorithmiques utilisées. \n",
        "    \n",
        "</div>"
      ],
      "metadata": {}
    },
    {
      "cell_type": "code",
      "source": [
        "from random import randint\n",
        "abscisses = [randint(0, 480) for i in range(30)]\n",
        "ordonnees = [randint(0, 180) for i in range(30)]\n",
        "\n",
        "def setup():\n",
        "    createCanvas(500, 200)  \n",
        "    background('gold')  \n",
        "    \n",
        "def draw():\n",
        "    for i in range(len(abscisses)):\n",
        "        fill('white')           \n",
        "        circle(abscisses[i], ordonnees[i], 20)\n",
        "    \n",
        "run()"
      ],
      "outputs": [
        {
          "output_type": "display_data",
          "data": {
            "application/javascript": "element.append(window._basthonDomNodeBus.pop(0));"
          },
          "metadata": {}
        }
      ],
      "execution_count": 16,
      "metadata": {
        "trusted": false,
        "scrolled": false
      }
    },
    {
      "cell_type": "code",
      "source": [
        "# correction \n",
        "from random import randint\n",
        "abscisses = [randint(0, 480) for i in range(30)]\n",
        "ordonnees = [randint(0, 180) for i in range(30)]\n",
        "\n",
        "def setup():\n",
        "    createCanvas(500, 200)  \n",
        "      \n",
        "def draw():\n",
        "    background('gold')  # background doit être dans draw() pour effacer les traces des positions précédentes\n",
        "    for i in range(len(abscisses)):\n",
        "        if distance(abscisses[i], ordonnees[i], mouseX, mouseY) < 10:\n",
        "                fill('orange')\n",
        "                abscisses[i] = abscisses[i] + randint(-3, 3)\n",
        "                ordonnees[i] = ordonnees[i] + randint(-3, 3)\n",
        "        else:\n",
        "            fill('white')           \n",
        "        circle(abscisses[i], ordonnees[i], 20)\n",
        "    \n",
        "run()"
      ],
      "outputs": [
        {
          "output_type": "display_data",
          "data": {
            "application/javascript": "element.append(window._basthonDomNodeBus.pop(0));"
          },
          "metadata": {}
        }
      ],
      "execution_count": 17,
      "metadata": {
        "trusted": false,
        "scrolled": true
      }
    },
    {
      "cell_type": "code",
      "source": [
        "stop()"
      ],
      "outputs": [],
      "execution_count": 18,
      "metadata": {
        "trusted": false
      }
    },
    {
      "cell_type": "markdown",
      "source": [
        "<details>\n",
        "<summary style=\"border-left:3px solid #3cb371; border-radius:2pt; width:100%; color:#ffffff; padding:6px; background-color: #66cdaa\"> \n",
        "Notion(s) mathématique(s) - structures algorithmiques  \n",
        "</summary>  \n",
        "    \n",
        "<div style=\"border-left:3px solid #3cb371; border-radius:2pt; color:#297F5B; padding:6px; background-color: #f7f0eb\">\n",
        "    \n",
        "\n",
        "Repérage  \n",
        "Distance dans un repère orthonormé   \n",
        "Instructions conditionnelles  \n",
        "Liste : définition d'une liste en compréhension, modification de la valeur d'un élément d'une liste\n",
        "\n",
        "</div>\n",
        "</details>\n"
      ],
      "metadata": {}
    },
    {
      "cell_type": "code",
      "source": [],
      "outputs": [],
      "execution_count": null,
      "metadata": {
        "trusted": false
      }
    },
    {
      "cell_type": "markdown",
      "source": [
        "<div class=\"alert alert-info\">  \n",
        "    \n",
        "## 2. Intersection\n",
        "\n",
        "### Intersection disque - disque \n",
        "\n",
        "Le programme suivant permet de tracer un disque fixe et un autre, mobile, centré sur les coordonnées du pointeur de la souris.  \n",
        "Modifier le code pour que :\n",
        "- le grand disque devienne orange lorsque le petit et le grand s'intersectent ;\n",
        "- le grand disque devienne rouge lorsque le petit est en totalité à l'intérieur du grand.\n",
        "    \n",
        "Identifier la/les notion(s) mathématique(s) en jeu, ainsi que les structures algorithmiques utilisées. \n",
        "    \n",
        "</div>"
      ],
      "metadata": {}
    },
    {
      "cell_type": "code",
      "source": [
        "rayon_1 = 100\n",
        "rayon_2 = 30\n",
        "def setup():\n",
        "    createCanvas(400, 300)\n",
        "    noStroke()\n",
        "\n",
        "def draw():\n",
        "    background('gold')\n",
        "    fill('white')\n",
        "    circle(width/2, height/2, 2 * rayon_1)\n",
        "    fill(255, 200) # blanc avec transparence\n",
        "    circle(mouseX, mouseY, 2 * rayon_2)\n",
        "    \n",
        "run()"
      ],
      "outputs": [
        {
          "output_type": "display_data",
          "data": {
            "application/javascript": "element.append(window._basthonDomNodeBus.pop(0));"
          },
          "metadata": {}
        }
      ],
      "execution_count": 19,
      "metadata": {
        "trusted": false
      }
    },
    {
      "cell_type": "code",
      "source": [
        "# correction\n",
        "rayon_1 = 100\n",
        "rayon_2 = 30\n",
        "\n",
        "def setup():\n",
        "    createCanvas(400, 300)\n",
        "\n",
        "def draw():\n",
        "    background('gold')\n",
        "    noStroke()\n",
        "    \n",
        "    if dist(width/2, height/2, mouseX, mouseY) > rayon_1 + rayon_2:\n",
        "        fill('white')\n",
        "    elif dist(width/2, height/2,mouseX, mouseY) <= rayon_1 - rayon_2:\n",
        "        fill('OrangeRed')\n",
        "    else:\n",
        "        fill('orange')\n",
        "    circle(width/2, height/2, 2 * rayon_1)\n",
        "    fill(255, 150)\n",
        "    circle(mouseX, mouseY, 2 * rayon_2)\n",
        "    \n",
        "run()"
      ],
      "outputs": [
        {
          "output_type": "display_data",
          "data": {
            "application/javascript": "element.append(window._basthonDomNodeBus.pop(0));"
          },
          "metadata": {}
        }
      ],
      "execution_count": 21,
      "metadata": {
        "trusted": false
      }
    },
    {
      "cell_type": "code",
      "source": [
        "stop()"
      ],
      "outputs": [],
      "execution_count": 22,
      "metadata": {
        "trusted": false
      }
    },
    {
      "cell_type": "markdown",
      "source": [
        "<details>\n",
        "<summary style=\"border-left:3px solid #3cb371; border-radius:2pt; width:100%; color:#ffffff; padding:6px; background-color: #66cdaa\"> \n",
        "Notion(s) mathématique(s) - structures algorithmiques  \n",
        "</summary>  \n",
        "    \n",
        "<div style=\"border-left:3px solid #3cb371; border-radius:2pt; color:#297F5B; padding:6px; background-color: #f7f0eb\">\n",
        "    \n",
        "\n",
        "Repérage  \n",
        "Distance dans un repère orthonormé  \n",
        "Alignement  \n",
        "Instruction conditionnelle\n",
        "\n",
        "</div>\n",
        "</details>\n"
      ],
      "metadata": {}
    },
    {
      "cell_type": "markdown",
      "source": [
        "<div class=\"alert alert-warning\">\n",
        "    \n",
        "#### Des disques disposés aléatoirement\n",
        "Écrire un programme permet de :\n",
        "- tracer un disque blanc, centré dans la fenêtre, de diamètre 80\n",
        "- tracer des disques gris disposés aléatoirement, et de diamètre aléatoire, qui n'entrent pas en intersection avec le disque blanc.   \n",
        "\n",
        "</div>"
      ],
      "metadata": {}
    },
    {
      "cell_type": "code",
      "source": [
        "# correction\n",
        "rayon_1 = 80\n",
        "\n",
        "def setup():\n",
        "    createCanvas(400, 300)\n",
        "    background('gold')\n",
        "    frameRate(25)\n",
        "\n",
        "def draw():\n",
        "    noStroke()\n",
        "    x_centre = randint(0, width)\n",
        "    y_centre = randint(0, height)\n",
        "    rayon_2 = randint(2, 20)\n",
        "    if dist(width/2, height/2, x_centre, y_centre) > rayon_1 + rayon_2:\n",
        "        fill(120 + frameCount%135, 150)\n",
        "        circle(x_centre, y_centre, 2 * rayon_2)\n",
        "    # disque blanc\n",
        "    fill(255)\n",
        "    circle(width/2, height/2, 2 * rayon_1)\n",
        "    \n",
        "run()"
      ],
      "outputs": [
        {
          "output_type": "display_data",
          "data": {
            "application/javascript": "element.append(window._basthonDomNodeBus.pop(0));"
          },
          "metadata": {}
        }
      ],
      "execution_count": 27,
      "metadata": {
        "trusted": false
      }
    },
    {
      "cell_type": "code",
      "source": [
        "stop()"
      ],
      "outputs": [],
      "execution_count": 28,
      "metadata": {
        "trusted": false
      }
    },
    {
      "cell_type": "code",
      "source": [
        "def valide_segment(x1, y1, x2, y2):\n",
        "    dessin = True\n",
        "    if x2 < x1:\n",
        "        x1, x2 = x2, x1 # échange des valeurs\n",
        "    m = (y2 - y1) / (x2 - x1)\n",
        "    p = y1 - m * x1\n",
        "    for x in range(x1, x2+1):\n",
        "        y = m * x + p\n",
        "        if 220 <  x < 280 and 120 < y < 180:\n",
        "            dessin = False\n",
        "    if dessin:\n",
        "        line(x1, y1, x2, y2)\n",
        "\n",
        "def setup():\n",
        "    createCanvas(500, 300)  \n",
        "    background('gold')\n",
        "    fill('white')           \n",
        "    square(220, 120, 60)\n",
        "        \n",
        "    \n",
        "def draw():\n",
        "    x1 = randint(0, width)\n",
        "    x2 = randint(0, width)\n",
        "    y1 = randint(0, height)\n",
        "    y2 = randint(0, height)\n",
        "    stroke(frameCount%255, 120)\n",
        "    if abs(x2- x1) >3:\n",
        "        valide_segment(x1, y1, x2, y2)\n",
        "   \n",
        "run()"
      ],
      "outputs": [
        {
          "output_type": "display_data",
          "data": {
            "application/javascript": "element.append(window._basthonDomNodeBus.pop(0));"
          },
          "metadata": {}
        }
      ],
      "execution_count": 49,
      "metadata": {
        "trusted": false
      }
    },
    {
      "cell_type": "code",
      "source": [
        "stop()"
      ],
      "outputs": [],
      "execution_count": 50,
      "metadata": {
        "trusted": false
      }
    },
    {
      "cell_type": "markdown",
      "source": [
        "<div class=\"alert alert-info\">\n",
        "    \n",
        "## 3. Projections\n",
        "### 3.1 Projection sur une droite \"horizontale\" <a name=\"droite\"></a>  \n",
        "\n",
        "Le programme suivant permet de tracer une droite \"horizontale\" et marque d'un disque orange le pointeur de la souris.  \n",
        "Modifier le code pour :\n",
        "- marquer d'un disque blanc le projeté orthogonal du pointeur sur la droite\n",
        "- rendre le diamètre de ce disque égal à la distance entre le pointeur de la souris et son projeté.\n",
        "    \n",
        "    \n",
        "Identifier la/les notion(s) mathématique(s) en jeu, ainsi que les structures algorithmiques utilisées. \n",
        "\n",
        "\n",
        "</div>"
      ],
      "metadata": {}
    },
    {
      "cell_type": "code",
      "source": [
        "def setup():\n",
        "    createCanvas(500, 300)\n",
        "    \n",
        "def draw():\n",
        "    #fond gold avec transparence\n",
        "    background(255, 215, 0, 50) \n",
        "   \n",
        "    # ligne bleue\n",
        "    strokeWeight(3)\n",
        "    stroke('darkblue')\n",
        "    line(0, 150, width, 150)\n",
        "    \n",
        "    # pointeur souris\n",
        "    noStroke()\n",
        "    fill ('darkorange')\n",
        "    circle(mouseX, mouseY, 8)\n",
        "    \n",
        "    \n",
        "run()"
      ],
      "outputs": [],
      "execution_count": null,
      "metadata": {
        "trusted": false
      }
    },
    {
      "cell_type": "code",
      "source": [
        "# correction\n",
        "\n",
        "def setup():\n",
        "    createCanvas(500, 300)\n",
        "    \n",
        "def draw():\n",
        "    #fond gold avec transparence\n",
        "    background(255, 215, 0, 50) \n",
        "   \n",
        "    # ligne bleue\n",
        "    strokeWeight(3)\n",
        "    stroke('darkblue')\n",
        "    line(0, 150, width, 150)\n",
        "    \n",
        "    # pointeur souris\n",
        "    noStroke()\n",
        "    fill ('darkorange')\n",
        "    circle(mouseX, mouseY, 8)\n",
        "    \n",
        "    # projeté\n",
        "    fill('white')\n",
        "    circle(mouseX, 150, abs(mouseY-150))\n",
        "    \n",
        "    fill('darkblue')\n",
        "    circle(mouseX, 150, 8)\n",
        "    \n",
        "run()"
      ],
      "outputs": [
        {
          "output_type": "display_data",
          "data": {
            "application/javascript": "element.append(window._basthonDomNodeBus.pop(0));"
          },
          "metadata": {}
        }
      ],
      "execution_count": 23,
      "metadata": {
        "trusted": false,
        "scrolled": true
      }
    },
    {
      "cell_type": "code",
      "source": [
        "stop()"
      ],
      "outputs": [],
      "execution_count": 24,
      "metadata": {
        "trusted": false
      }
    },
    {
      "cell_type": "markdown",
      "source": [
        "<details>\n",
        "<summary style=\"border-left:3px solid #3cb371; border-radius:2pt; width:100%; color:#ffffff; padding:6px; background-color: #66cdaa\"> \n",
        "Notion(s) mathématique(s) - structures algorithmiques  \n",
        "</summary>  \n",
        "    \n",
        "<div style=\"border-left:3px solid #3cb371; border-radius:2pt; color:#297F5B; padding:6px; background-color: #f7f0eb\">\n",
        "    \n",
        "\n",
        "Repérage  \n",
        "projeté orthogonal   \n",
        "valeur absolue\n",
        "\n",
        "\n",
        "</div>\n",
        "</details>\n"
      ],
      "metadata": {}
    },
    {
      "cell_type": "markdown",
      "source": [
        "<div class=\"alert alert-info\">\n",
        "    \n",
        "### 3.2 Projection sur un cercle <a name=\"cercle\"></a>  \n",
        "\n",
        "Le programme suivant permet de tracer un cercle bleu et marque d'un disque orange le pointeur de la souris.  \n",
        "Modifier le code pour marquer d'un disque blanc le point du cercle bleu situé sur la demi-droite d'origine le centre du cercle bleu et passant par le pointeur.\n",
        "    \n",
        "Identifier la/les notion(s) mathématique(s) en jeu, ainsi que les structures algorithmiques utilisées. \n",
        "\n",
        "</div>"
      ],
      "metadata": {}
    },
    {
      "cell_type": "code",
      "source": [
        "\n",
        "rayon = 50\n",
        "mobile = [500/2 + rayon, 300/2]\n",
        "\n",
        "def setup():\n",
        "    createCanvas(500, 300)\n",
        "    \n",
        "def dessiner():\n",
        "   # fond gold avec transparence\n",
        "    background(255, 215, 0, 50) \n",
        "   \n",
        "    # cercle bleu\n",
        "    noFill()\n",
        "    strokeWeight(3)\n",
        "    stroke('darkblue')\n",
        "    circle(width/2, height/2, 2 * rayon)\n",
        "    \n",
        "    # pointeur souris\n",
        "    noStroke()\n",
        "    fill ('darkorange')\n",
        "    circle(mouseX, mouseY, 8)\n",
        "    \n",
        "    # mobile\n",
        "    fill('white')\n",
        "    circle(mobile[0], mobile[1], 8)\n",
        "      \n",
        "    \n",
        "def draw():    \n",
        "    dessiner()\n",
        "    \n",
        "run()"
      ],
      "outputs": [
        {
          "output_type": "display_data",
          "data": {
            "application/javascript": "element.append(window._basthonDomNodeBus.pop(0));"
          },
          "metadata": {}
        }
      ],
      "execution_count": 18,
      "metadata": {
        "trusted": false,
        "scrolled": true
      }
    },
    {
      "cell_type": "code",
      "source": [
        "# correction\n",
        "rayon = 50\n",
        "mobile = [500/2 + rayon, 300/2]\n",
        "\n",
        "def setup():\n",
        "    createCanvas(500, 300)\n",
        "    \n",
        "def dessiner():\n",
        "   # fond gold avec transparence\n",
        "    background(255, 215, 0, 50) \n",
        "   \n",
        "    # cercle bleu\n",
        "    noFill()\n",
        "    strokeWeight(3)\n",
        "    stroke('darkblue')\n",
        "    circle(width/2, height/2, 2 * rayon)\n",
        "    \n",
        "    # pointeur souris\n",
        "    noStroke()\n",
        "    fill ('darkorange')\n",
        "    circle(mouseX, mouseY, 8)\n",
        "    \n",
        "    # mobile\n",
        "    fill('white')\n",
        "    circle(mobile[0], mobile[1], 8)\n",
        "      \n",
        "def calculer():\n",
        "    souris = [mouseX, mouseY]\n",
        "    centre = [width/2, height/2]\n",
        "    d = distance_points(souris, centre)\n",
        "    k = rayon/d\n",
        "    \n",
        "    mobile[0] =  centre[0] + k*(souris[0] - centre[0]) \n",
        "    mobile[1] =  centre[1] + k*(souris[1] - centre[1]) \n",
        "\n",
        "def distance_points(A, B):\n",
        "    return sqrt((B[0] - A[0])**2 + (B[1] - A[1])**2)\n",
        "    \n",
        "def draw():    \n",
        "    dessiner()\n",
        "    calculer()\n",
        "run()"
      ],
      "outputs": [
        {
          "output_type": "display_data",
          "data": {
            "application/javascript": "element.append(window._basthonDomNodeBus.pop(0));"
          },
          "metadata": {}
        }
      ],
      "execution_count": 19,
      "metadata": {
        "trusted": false,
        "scrolled": true
      }
    },
    {
      "cell_type": "code",
      "source": [
        "stop()"
      ],
      "outputs": [],
      "execution_count": null,
      "metadata": {
        "trusted": false
      }
    },
    {
      "cell_type": "markdown",
      "source": [
        "<details>\n",
        "<summary style=\"border-left:3px solid #3cb371; border-radius:2pt; width:100%; color:#ffffff; padding:6px; background-color: #66cdaa\"> \n",
        "Notion(s) mathématique(s) - structures algorithmiques  \n",
        "</summary>  \n",
        "    \n",
        "<div style=\"border-left:3px solid #3cb371; border-radius:2pt; color:#297F5B; padding:6px; background-color: #f7f0eb\">\n",
        "    \n",
        "\n",
        "Repérage  \n",
        "Distance dans un repère orthonormé  \n",
        "Vecteur, colinéarité\n",
        "\n",
        "</div>\n",
        "</details>\n"
      ],
      "metadata": {}
    },
    {
      "cell_type": "markdown",
      "source": [
        "<div class=\"alert alert-info\">\n",
        "    \n",
        "## 4. Mouvements\n",
        "\n",
        "### 4.1 Faire tomber une bille <a name=\"chute\"></a> \n",
        "Le programme suivant permet de tracer un disque actuellement fixe.\n",
        "Compléter le code pour que le disque \"tombe\" et disparaisse de la fenêtre.\n",
        "    \n",
        "Identifier la/les notion(s) mathématique(s) en jeu, ainsi que les structures algorithmiques utilisées. \n",
        "\n",
        "\n",
        "</div>"
      ],
      "metadata": {}
    },
    {
      "cell_type": "code",
      "source": [
        "y_balle = 30\n",
        "rayon = 30\n",
        "\n",
        "def setup():\n",
        "    createCanvas(400, 300)\n",
        "    background('gold')\n",
        "    noStroke()\n",
        "\n",
        "def draw():\n",
        "    global y_balle  # la valeur de la variable sera lue et modifiée depuis le draw()\n",
        "    \n",
        "    # dessin\n",
        "    background('gold')\n",
        "    fill('white')\n",
        "    circle(width/2, y_balle, 2 * rayon)\n",
        "    \n",
        "    # mouvement\n",
        "    # y_balle = ... # ligne à compléter\n",
        "    \n",
        "run()"
      ],
      "outputs": [],
      "execution_count": null,
      "metadata": {
        "trusted": false
      }
    },
    {
      "cell_type": "code",
      "source": [
        "# correction\n",
        "y_balle = 30\n",
        "rayon = 30\n",
        "\n",
        "def setup():\n",
        "    createCanvas(400, 300)\n",
        "    background('gold')\n",
        "    noStroke()\n",
        "\n",
        "def draw():\n",
        "    global y_balle\n",
        "    \n",
        "    # dessin\n",
        "    background('gold')\n",
        "    fill('white')\n",
        "    circle(width/2, y_balle, 2 * rayon)\n",
        "    \n",
        "    # mouvement\n",
        "    y_balle = y_balle + 1\n",
        "    \n",
        "run()"
      ],
      "outputs": [],
      "execution_count": null,
      "metadata": {
        "trusted": false
      }
    },
    {
      "cell_type": "code",
      "source": [
        "stop()"
      ],
      "outputs": [],
      "execution_count": null,
      "metadata": {
        "trusted": false
      }
    },
    {
      "cell_type": "markdown",
      "source": [
        "<details>\n",
        "<summary style=\"border-left:3px solid #3cb371; border-radius:2pt; width:100%; color:#ffffff; padding:6px; background-color: #66cdaa\"> \n",
        "Notion(s) mathématique(s) - structures algorithmiques  \n",
        "</summary>  \n",
        "    \n",
        "<div style=\"border-left:3px solid #3cb371; border-radius:2pt; color:#297F5B; padding:6px; background-color: #f7f0eb\">\n",
        "    \n",
        "\n",
        "Repérage  \n",
        "Variable modifiée dans une boucle (ici implicite : draw() est une boucle non bornée)\n",
        "\n",
        "</div>\n",
        "</details>\n"
      ],
      "metadata": {}
    },
    {
      "cell_type": "markdown",
      "source": [
        "<div class=\"alert alert-info\">\n",
        "    \n",
        "### 4.2 Faire rebondir une bille <a name=\"rebond\"></a> \n",
        "#### 4.2.1 Faire rebondir une bille une fois\n",
        "On cherche à modifier le programme précédent pour simuler le \"rebond\" de la bille sur le bord bas de la fenêtre.  \n",
        "La valeur dont `y_balle` \"augmente\" à chaque image n'est plus constante. Afin de faire évoluer cette valeur on l'affecte à une variable `y_vitesse`.\n",
        "Dans cette animation on se contente d'en changer le signe lorsque la balle atteint le bord bas de la fenêtre.\n",
        "    \n",
        "Compléter le programme suivant pour que la bille \"rebondisse\" sur le bord bas de la fenêtre, puis disparaisse par le bord haut."
      ],
      "metadata": {}
    },
    {
      "cell_type": "code",
      "source": [
        "y_balle = 30\n",
        "rayon = 30\n",
        "y_vitesse = 1\n",
        "\n",
        "def setup():\n",
        "    createCanvas(400, 300)\n",
        "    background('gold')\n",
        "    noStroke()\n",
        "\n",
        "def draw():\n",
        "    global y_balle, y_vitesse\n",
        "  \n",
        "    # dessin\n",
        "    background('gold')\n",
        "    fill('white')\n",
        "    circle(width/2, y_balle, 2*rayon)\n",
        "    \n",
        "    # mouvement\n",
        "    y_balle = y_balle + y_vitesse\n",
        "    \n",
        "    # rebond au sol\n",
        "    if y_balle > ...: # à compléter\n",
        "        y_vitesse = ... # à compléter\n",
        "run()"
      ],
      "outputs": [],
      "execution_count": null,
      "metadata": {
        "trusted": false
      }
    },
    {
      "cell_type": "code",
      "source": [
        "# correction\n",
        "y_balle = 30\n",
        "rayon = 30\n",
        "y_vitesse = 1\n",
        "\n",
        "def setup():\n",
        "    createCanvas(400, 300)\n",
        "    background('gold')\n",
        "    noStroke()\n",
        "\n",
        "def draw():\n",
        "    global y_balle, y_vitesse\n",
        "  \n",
        "    # dessin\n",
        "    background('gold')\n",
        "    fill('white')\n",
        "    circle(width/2, y_balle, 2*rayon)\n",
        "    \n",
        "    # mouvement\n",
        "    y_balle = y_balle + y_vitesse\n",
        "    \n",
        "    # rebond au sol\n",
        "    if y_balle > height - rayon:\n",
        "        y_vitesse = - y_vitesse\n",
        "run()"
      ],
      "outputs": [],
      "execution_count": null,
      "metadata": {
        "trusted": false
      }
    },
    {
      "cell_type": "code",
      "source": [
        "stop()"
      ],
      "outputs": [],
      "execution_count": null,
      "metadata": {
        "trusted": false
      }
    },
    {
      "cell_type": "markdown",
      "source": [
        "<details>\n",
        "<summary style=\"border-left:3px solid #3cb371; border-radius:2pt; width:100%; color:#ffffff; padding:6px; background-color: #66cdaa\"> \n",
        "Notion(s) mathématique(s) - structures algorithmiques  \n",
        "</summary>  \n",
        "    \n",
        "<div style=\"border-left:3px solid #3cb371; border-radius:2pt; color:#297F5B; padding:6px; background-color: #f7f0eb\">\n",
        "    \n",
        "\n",
        "Repérage  \n",
        "Variable modifiée dans une boucle (ici implicite : draw() est une boucle non bornée)\n",
        "\n",
        "</div>\n",
        "</details>\n"
      ],
      "metadata": {}
    },
    {
      "cell_type": "markdown",
      "source": [
        "<div class=\"alert alert-info\">\n",
        "\n",
        "#### 4.2.2 Faire rebondir une bille perpétuellement\n",
        "On cherche à modifier le programme précédent pour simuler le \"rebond\" perpétuel de la bille sur les bords haut et bas de la fenêtre.  \n",
        "\n",
        "Compléter le programme suivant."
      ],
      "metadata": {}
    },
    {
      "cell_type": "code",
      "source": [
        "y_balle = 30\n",
        "rayon = 30\n",
        "y_vitesse = 1\n",
        "\n",
        "def setup():\n",
        "    createCanvas(400, 300)\n",
        "    background('gold')\n",
        "    noStroke()\n",
        "\n",
        "def draw():\n",
        "    global y_balle, y_vitesse\n",
        "  \n",
        "    # dessin\n",
        "    background('gold')\n",
        "    fill('white')\n",
        "    circle(width/2, y_balle, 2*rayon)\n",
        "    \n",
        "    # mouvement\n",
        "    y_balle = y_balle + y_vitesse\n",
        "    \n",
        "    # rebonds\n",
        "    if y_balle > ...: # à compléter\n",
        "        y_vitesse = ... # à compléter\n",
        "run()\n"
      ],
      "outputs": [],
      "execution_count": null,
      "metadata": {
        "trusted": false
      }
    },
    {
      "cell_type": "code",
      "source": [
        "# correction\n",
        "y_balle = 30\n",
        "rayon = 30\n",
        "y_vitesse = 5\n",
        "\n",
        "def setup():\n",
        "    createCanvas(400, 300)\n",
        "    background('gold')\n",
        "    noStroke()\n",
        "\n",
        "def draw():\n",
        "    global y_balle, y_vitesse\n",
        "  \n",
        "    # dessin\n",
        "    background('gold')\n",
        "    fill('white')\n",
        "    circle(width/2, y_balle, 2*rayon)\n",
        "    \n",
        "    # mouvement\n",
        "    y_balle = y_balle + y_vitesse\n",
        "    \n",
        "    # rebonds\n",
        "    if y_balle > height - rayon or y_balle < rayon:\n",
        "        y_vitesse = - y_vitesse\n",
        "run()\n"
      ],
      "outputs": [],
      "execution_count": null,
      "metadata": {
        "trusted": false
      }
    },
    {
      "cell_type": "code",
      "source": [
        "stop()"
      ],
      "outputs": [],
      "execution_count": null,
      "metadata": {
        "trusted": false
      }
    },
    {
      "cell_type": "markdown",
      "source": [
        "<details>\n",
        "<summary style=\"border-left:3px solid #3cb371; border-radius:2pt; width:100%; color:#ffffff; padding:6px; background-color: #66cdaa\"> \n",
        "Notion(s) mathématique(s) - structures algorithmiques  \n",
        "</summary>  \n",
        "    \n",
        "<div style=\"border-left:3px solid #3cb371; border-radius:2pt; color:#297F5B; padding:6px; background-color: #f7f0eb\">\n",
        "    \n",
        "\n",
        "Repérage  \n",
        "Variable modifiée dans une boucle (ici implicite : draw() est une boucle non bornée)  \n",
        "Logique\n",
        "\n",
        "</div>\n",
        "</details>\n"
      ],
      "metadata": {}
    },
    {
      "cell_type": "markdown",
      "source": [
        "<div class=\"alert alert-info\">\n",
        "\n",
        "### 4.3 Animer deux billes sur un rail<a name=\"rail\"></a> \n",
        "Le programme suivant permet de représenter deux billes sur un rail. \n",
        "Modifier le programme pour animer les billes d'un mouvement régulier, avec rebond lors des collisions des 2 billes ou lors des rebonds sur les bords\n",
        " "
      ],
      "metadata": {}
    },
    {
      "cell_type": "code",
      "source": [
        "x_balles = [500 // 6, 500 // 2]\n",
        "v_balles = [2, -2]\n",
        "rayon = 20\n",
        "\n",
        "def detection_collision():\n",
        "    # collision balle-balle\n",
        "    if ... :\n",
        "        v_balles[0] = ...\n",
        "        v_balles[1] = ...\n",
        "        \n",
        "    # collision balle-mur     \n",
        "    if x_balles[0] < ...\n",
        "        v_balles[0] = ...\n",
        "    if x_balles[1] > ... :\n",
        "        v_balles[1] = ...\n",
        "\n",
        "def deplacement_balles():\n",
        "    x_balles[0] = x_balles[0] + v_balles[0]\n",
        "    x_balles[1] = x_balles[1] + v_balles[1]\n",
        "\n",
        "def affichage():\n",
        "    background('gold')\n",
        "    fill('white')\n",
        "    circle(x_balles[0], height//2, 2*rayon)\n",
        "    circle(x_balles[1], height//2, 2*rayon)\n",
        "    fill('grey')\n",
        "    rect(0, height//2 + rayon, width, 10)       \n",
        "        \n",
        "def setup():\n",
        "    createCanvas(500, 150)\n",
        "    background('gold')\n",
        "\n",
        "def draw():\n",
        "    detection_collision()\n",
        "    affichage()\n",
        "    deplacement_balles()\n",
        "    \n",
        "run()"
      ],
      "outputs": [],
      "execution_count": null,
      "metadata": {
        "trusted": false
      }
    },
    {
      "cell_type": "code",
      "source": [
        "# correction\n",
        "x_balles = [width // 6, width // 2]\n",
        "v_balles = [2, -2]\n",
        "rayon = 20\n",
        "\n",
        "def detection_collision():\n",
        "    # collision balle-balle\n",
        "    if abs( x_balles[0] - x_balles[1]) < 2 * rayon :\n",
        "        v_balles[0] = - v_balles[0]\n",
        "        v_balles[1] = - v_balles[1]\n",
        "        \n",
        "    # collision balle-mur     \n",
        "    if x_balles[0] - rayon < 0 :\n",
        "        v_balles[0] = - v_balles[0]\n",
        "    if x_balles[1] + rayon > width :\n",
        "        v_balles[1] = - v_balles[1]\n",
        "\n",
        "def deplacement_balles():\n",
        "    x_balles[0] = x_balles[0] + v_balles[0]\n",
        "    x_balles[1] = x_balles[1] + v_balles[1]\n",
        "\n",
        "def affichage():\n",
        "    background('gold')\n",
        "    fill('white')\n",
        "    circle(x_balles[0], height//2, 2*rayon)\n",
        "    circle(x_balles[1], height//2, 2*rayon)\n",
        "    fill('grey')\n",
        "    rect(0, height//2 + rayon, width, 10)       \n",
        "        \n",
        "def setup():\n",
        "    createCanvas(400, 150)\n",
        "    background('gold')\n",
        "\n",
        "def draw():\n",
        "    detection_collision()\n",
        "    affichage()\n",
        "    deplacement_balles()\n",
        "    \n",
        "run()"
      ],
      "outputs": [
        {
          "output_type": "display_data",
          "data": {
            "application/javascript": "element.append(window._basthonDomNodeBus.pop(0));"
          },
          "metadata": {}
        }
      ],
      "execution_count": 6,
      "metadata": {
        "trusted": false
      }
    },
    {
      "cell_type": "code",
      "source": [
        "stop()"
      ],
      "outputs": [],
      "execution_count": null,
      "metadata": {
        "trusted": false
      }
    },
    {
      "cell_type": "markdown",
      "source": [
        "<details>\n",
        "<summary style=\"border-left:3px solid #3cb371; border-radius:2pt; width:100%; color:#ffffff; padding:6px; background-color: #66cdaa\"> \n",
        "Notion(s) mathématique(s) - structures algorithmiques  \n",
        "</summary>  \n",
        "    \n",
        "<div style=\"border-left:3px solid #3cb371; border-radius:2pt; color:#297F5B; padding:6px; background-color: #f7f0eb\">\n",
        "    \n",
        "\n",
        "Repérage  \n",
        "Valeur absolue  \n",
        "Variable modifiée dans une boucle (ici implicite : draw() est une boucle non bornée)  \n",
        "\n",
        "\n",
        "</div>\n",
        "</details>\n"
      ],
      "metadata": {}
    },
    {
      "cell_type": "markdown",
      "source": [
        "<div class=\"alert alert-info\">\n",
        "\n",
        "### 4.4 Rebonds sur 4 bords<a name=\"rebonds\"></a> \n",
        "Le programme suivant permet de représenter une bille vue de dessus sur un billard. Elle rebondit sur chacun des 4 bords. On considère qu'à chaque rebond, soit la composante horizontale, soit la composante verticale de la \"vitesse\" change de signe.  \n",
        "Modifier le programme pour animer la bille d'un mouvement régulier, avec rebonds sur les bords. \n",
        " "
      ],
      "metadata": {}
    },
    {
      "cell_type": "code",
      "source": [
        "rayon = 30\n",
        "# les 1res composantes sont les composantes horizontales, les 2ndes les composantes verticales\n",
        "position = [rayon, rayon]\n",
        "vitesse = [-3, 2]\n",
        "\n",
        "def setup():\n",
        "    createCanvas(400, 300)\n",
        "    background('gold')\n",
        "    noStroke()\n",
        "\n",
        "def draw():\n",
        "    \n",
        "    # dessin\n",
        "    background('gold')\n",
        "    fill('white')\n",
        "    circle(position[0], position[1], 2*rayon)\n",
        "    \n",
        "    # mouvement\n",
        "    position[0] = position[0] + vitesse[0]\n",
        "    position[1] = position[1] + vitesse[1]\n",
        "    \n",
        "    # rebonds\n",
        "    if  position[0] ... :\n",
        "        vitesse[0] = ...\n",
        "    if  position[1] ... :\n",
        "        vitesse[1] = ...\n",
        "run()"
      ],
      "outputs": [],
      "execution_count": null,
      "metadata": {
        "trusted": false
      }
    },
    {
      "cell_type": "code",
      "source": [
        "# correction\n",
        "\n",
        "rayon = 30\n",
        "# les 1res composantes sont les composantes horizontales, les 2ndes les composantes verticales\n",
        "position_balle = [rayon, rayon]\n",
        "vitesse = [-3, 2]\n",
        "\n",
        "def setup():\n",
        "    createCanvas(400, 300)\n",
        "    background('gold')\n",
        "    noStroke()\n",
        "\n",
        "def draw():\n",
        "    \n",
        "    # dessin\n",
        "    background('gold')\n",
        "    fill('white')\n",
        "    circle(position_balle[0], position_balle[1], 2*rayon)\n",
        "    \n",
        "    # mouvement\n",
        "    position_balle[0] = position_balle[0] + vitesse[0]\n",
        "    position_balle[1] = position_balle[1] + vitesse[1]\n",
        "    \n",
        "    # rebonds\n",
        "    if  position_balle[0] > width - rayon or  position_balle[0] < rayon:\n",
        "        vitesse[0] = - vitesse[0]\n",
        "    if  position_balle[1] > height - rayon or  position_balle[1] < rayon:\n",
        "        vitesse[1] = - vitesse[1]\n",
        "run()\n",
        "\n",
        "\n",
        " "
      ],
      "outputs": [
        {
          "output_type": "display_data",
          "data": {
            "application/javascript": "element.append(window._basthonDomNodeBus.pop(0));"
          },
          "metadata": {}
        }
      ],
      "execution_count": 23,
      "metadata": {
        "trusted": false
      }
    },
    {
      "cell_type": "code",
      "source": [
        "stop()"
      ],
      "outputs": [],
      "execution_count": null,
      "metadata": {
        "trusted": false
      }
    },
    {
      "cell_type": "markdown",
      "source": [
        "<details>\n",
        "<summary style=\"border-left:3px solid #3cb371; border-radius:2pt; width:100%; color:#ffffff; padding:6px; background-color: #66cdaa\"> \n",
        "Notion(s) mathématique(s) - structures algorithmiques  \n",
        "</summary>  \n",
        "    \n",
        "<div style=\"border-left:3px solid #3cb371; border-radius:2pt; color:#297F5B; padding:6px; background-color: #f7f0eb\">\n",
        "    \n",
        "\n",
        "Repérage  \n",
        "Vecteurs  \n",
        "Variable modifiée dans une boucle (ici implicite : draw() est une boucle non bornée)  \n",
        "\n",
        "\n",
        "</div>\n",
        "</details>\n"
      ],
      "metadata": {}
    },
    {
      "cell_type": "markdown",
      "source": [
        "<div class=\"alert alert-info\">\n",
        "\n",
        "## 5. Suivre la balle des yeux <a name=\"suivre\"></a> \n",
        "Le programme suivant trace un fantôme Blinky et une balle. \n",
        "Compléter la fonction `bouger_balle` et appeler cette fonction depuis la fonction `draw` pour animer la balle en la faisant rebondir sur les 4 bords. Blinky la suivra des yeux !\n",
        " "
      ],
      "metadata": {
        "slideshow": {
          "slide_type": "subslide"
        }
      }
    },
    {
      "cell_type": "code",
      "source": [
        "def bouger_balle():\n",
        "    # mouvement de la balle\n",
        "    position_balle[0] = ...\n",
        "    position_balle[1] = ...\n",
        "    \n",
        "    # rebond haut ou bas\n",
        "    if position_balle[1] ... or  position_balle[1] ...:\n",
        "        vitesse[1] = - vitesse[1]\n",
        "    # rebond droite gauche\n",
        "    if position_balle[0] ... or  position_balle[0] ...:\n",
        "        vitesse[0] = - vitesse[0] \n",
        "    "
      ],
      "outputs": [],
      "execution_count": null,
      "metadata": {
        "trusted": true
      }
    },
    {
      "cell_type": "code",
      "source": [
        "# blancs\n",
        "oeil_gauche = [375, 325]\n",
        "oeil_droit = [425, 325]\n",
        "r_oeil = 15\n",
        "# pupilles\n",
        "pupille_gauche = [375, 325]\n",
        "pupille_droite = [425, 325]\n",
        "r_pupille = 10\n",
        "# balle\n",
        "position_balle = [50, 100]\n",
        "vitesse = [2, 3]\n",
        "r_balle = 20\n",
        " \n",
        "\n",
        "def distance_points(A, B):\n",
        "    return sqrt((B[0] - A[0])**2 + (B[1] - A[1])**2)\n",
        "\n",
        "def blinky():\n",
        "    fill(221, 0, 0)   #rouge\n",
        "    arc(400, 375, 150, 225, -PI, 0) #arc haut\n",
        "    arc(400, 375, 50, 50, 0, PI) # arc bas central\n",
        "    arc(-50 + 400, 375, 50, 50, 0, PI) # arc bas gauche\n",
        "    arc(50 + 400, 375, 50, 50, 0, PI) #arc bas droit\n",
        "    \n",
        "def dessiner():\n",
        "    background('gold')\n",
        "    blinky()\n",
        "    # blanc des yeux    \n",
        "    fill(255)\n",
        "    circle(oeil_gauche[0], oeil_gauche[1], 2*r_oeil)\n",
        "    circle(oeil_droit[0], oeil_droit[1], 2*r_oeil)\n",
        "    #pupilles\n",
        "    fill(0)\n",
        "    circle(pupille_gauche[0], pupille_gauche[1], 2*r_pupille)\n",
        "    circle(pupille_droite[0], pupille_droite[1], 2*r_pupille)\n",
        "    # balle\n",
        "    fill('darkorange')\n",
        "    circle(position_balle[0], position_balle[1], 2*r_balle)\n",
        "\n",
        "    \n",
        "def bouger_yeux():\n",
        "    # pupilles \n",
        "    d_g = distance_points(oeil_gauche, position_balle)\n",
        "    d_d = distance_points(oeil_droit, position_balle)   \n",
        "    k_g = r_oeil/(3*d_g)\n",
        "    k_d = r_oeil/(3*d_d)\n",
        "    pupille_gauche[0] = oeil_gauche[0] + k_g *(position_balle[0] - oeil_gauche[0]) \n",
        "    pupille_gauche[1] = oeil_gauche[1] + k_g *(position_balle[1] - oeil_gauche[1]) \n",
        "    pupille_droite[0] = oeil_droit[0] + k_d *(position_balle[0] - oeil_droit[0]) \n",
        "    pupille_droite[1] = oeil_droit[1] + k_d *(position_balle[1] - oeil_droit[1])  \n",
        "\n",
        "\n",
        "def setup():\n",
        "    createCanvas(600, 400)\n",
        "    noStroke()\n",
        "    \n",
        "def draw():\n",
        "    dessiner()\n",
        "    #bouger_balle()\n",
        "    bouger_yeux()\n",
        "\n",
        "run()"
      ],
      "outputs": [],
      "execution_count": null,
      "metadata": {
        "trusted": true
      }
    },
    {
      "cell_type": "code",
      "source": [
        "#correction\n",
        "# blancs\n",
        "oeil_gauche = [375, 325]\n",
        "oeil_droit = [425, 325]\n",
        "r_oeil = 15\n",
        "# pupilles\n",
        "pupille_gauche = [375, 325]\n",
        "pupille_droite = [425, 325]\n",
        "r_pupille = 10\n",
        "# balle\n",
        "position_balle = [50, 100]\n",
        "vitesse = [2, 3]\n",
        "r_balle = 20\n",
        " \n",
        "\n",
        "def distance_points(A, B):\n",
        "    return sqrt((B[0] - A[0])**2 + (B[1] - A[1])**2)\n",
        "\n",
        "def blinky():\n",
        "    fill(221, 0, 0)   #rouge\n",
        "    arc(400, 375, 150, 225, -PI, 0) #arc haut\n",
        "    arc(400, 375, 50, 50, 0, PI) # arc bas central\n",
        "    arc(-50 + 400, 375, 50, 50, 0, PI) # arc bas gauche\n",
        "    arc(50 + 400, 375, 50, 50, 0, PI) #arc bas droit\n",
        "    \n",
        "def dessiner():\n",
        "    background('gold')\n",
        "    blinky()\n",
        "    # blanc des yeux    \n",
        "    fill(255)\n",
        "    circle(oeil_gauche[0], oeil_gauche[1], 2*r_oeil)\n",
        "    circle(oeil_droit[0], oeil_droit[1], 2*r_oeil)\n",
        "    #pupilles\n",
        "    fill(0)\n",
        "    circle(pupille_gauche[0], pupille_gauche[1], 2*r_pupille)\n",
        "    circle(pupille_droite[0], pupille_droite[1], 2*r_pupille)\n",
        "    # balle\n",
        "    fill('darkorange')\n",
        "    circle(position_balle[0], position_balle[1], 2*r_balle)\n",
        "\n",
        "    \n",
        "def bouger_yeux():\n",
        "    # pupilles \n",
        "    d_g = distance_points(oeil_gauche, position_balle)\n",
        "    d_d = distance_points(oeil_droit, position_balle)   \n",
        "    k_g = r_oeil/(3*d_g)\n",
        "    k_d = r_oeil/(3*d_d)\n",
        "    pupille_gauche[0] = oeil_gauche[0] + k_g *(position_balle[0] - oeil_gauche[0]) \n",
        "    pupille_gauche[1] = oeil_gauche[1] + k_g *(position_balle[1] - oeil_gauche[1]) \n",
        "    pupille_droite[0] = oeil_droit[0] + k_d *(position_balle[0] - oeil_droit[0]) \n",
        "    pupille_droite[1] = oeil_droit[1] + k_d *(position_balle[1] - oeil_droit[1])  \n",
        "\n",
        "def bouger_balle():\n",
        "    # balle\n",
        "    position_balle[0] = position_balle[0] + vitesse[0] \n",
        "    position_balle[1] = position_balle[1] + vitesse[1]  \n",
        "    # rebond haut ou bas\n",
        "    if position_balle[1] - r_balle < 0 or  position_balle[1] + r_balle > height:\n",
        "        vitesse[1] = - vitesse[1]\n",
        "    # rebond droite gauche\n",
        "    if position_balle[0] - r_balle < 0 or  position_balle[0] + r_balle > width:\n",
        "        vitesse[0] = - vitesse[0] \n",
        "    \n",
        "def setup():\n",
        "    createCanvas(600, 400)\n",
        "    noStroke()\n",
        "    \n",
        "def draw():\n",
        "    dessiner()\n",
        "    bouger_yeux()\n",
        "    bouger_balle()\n",
        "\n",
        "run()"
      ],
      "outputs": [
        {
          "output_type": "display_data",
          "data": {
            "application/javascript": "element.append(window._basthonDomNodeBus.pop(0));"
          },
          "metadata": {}
        }
      ],
      "execution_count": 3,
      "metadata": {
        "trusted": true
      }
    },
    {
      "cell_type": "code",
      "source": [
        "stop()"
      ],
      "outputs": [],
      "execution_count": 4,
      "metadata": {
        "trusted": true
      }
    },
    {
      "cell_type": "code",
      "source": [],
      "outputs": [],
      "execution_count": null,
      "metadata": {
        "trusted": true
      }
    }
  ],
  "metadata": {
    "kernelspec": {
      "name": "python3",
      "display_name": "Python 3",
      "language": "python"
    },
    "language_info": {
      "name": "python",
      "version": "3.7.4",
      "mimetype": "text/x-python",
      "codemirror_mode": {
        "name": "ipython",
        "version": 3
      },
      "pygments_lexer": "ipython3",
      "nbconvert_exporter": "python",
      "file_extension": ".py"
    },
    "nteract": {
      "version": "0.28.0"
    }
  },
  "nbformat": 4,
  "nbformat_minor": 2
}