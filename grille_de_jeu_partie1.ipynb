{
  "cells": [
    {
      "cell_type": "code",
      "source": [
        "from p5 import *"
      ],
      "outputs": [],
      "execution_count": 5,
      "metadata": {
        "trusted": true
      }
    },
    {
      "cell_type": "code",
      "source": [
        "def affiche_grille(tab):\n",
        "    \"\"\"\n",
        "    tab est une grille contenant des 0 et des 1\n",
        "    \"\"\"\n",
        "    lignes = len(tab)\n",
        "    colonnes = len(tab[0])\n",
        "    taille = 400 / max(lignes, colonnes)\n",
        "  \n",
        "    for ligne in range(lignes):\n",
        "        for colonne  in range(colonnes):\n",
        "            if tab[ligne][colonne] == 0:\n",
        "                couleur = color(0, 0, 0) # couleur RVB\n",
        "            elif tab[ligne][colonne] == 1:\n",
        "                couleur = color(255, 0, 0) # couleur RVB\n",
        "            fill(couleur)\n",
        "            rect(colonne * taille, ligne * taille, taille, taille)"
      ],
      "outputs": [],
      "execution_count": 12,
      "metadata": {
        "trusted": true
      }
    },
    {
      "cell_type": "code",
      "source": [
        "grille = [[0, 0, 0, 1, 0], [0, 0, 1, 1, 1], [0, 1, 0, 1, 0], [1, 1, 1, 0, 0], [0, 1, 0, 0, 0]]\n",
        "\n",
        "def setup():                   # fonction liée à Processing\n",
        "    createCanvas(400,400)      # dimension de la fenetre d'affichage\n",
        "    stroke(120)                # couleur des tracés (gris)\n",
        "    strokeWeight(3)            # épaisseur des tracés\n",
        "\n",
        "def draw():                    # fonction liée à Processing\n",
        "    affiche_grille(grille)\n",
        "\n",
        "run()                          # lance une fois la fonction setup(), puis, en boucle, draw()."
      ],
      "outputs": [
        {
          "output_type": "display_data",
          "data": {
            "application/javascript": "element.append(window.domNodeBus.pop(0));"
          },
          "metadata": {}
        }
      ],
      "execution_count": 11,
      "metadata": {
        "trusted": true
      }
    },
    {
      "cell_type": "markdown",
      "source": [
        "# Questions partie 1 : Représenter une grille à l'aide d'un tableau\n"
      ],
      "metadata": {
        "trusted": true
      }
    },
    {
      "cell_type": "markdown",
      "source": [
        "## 1.1 Lecture du programme\n",
        "\n",
        "Lire le programme du notebook support et décrire le lien entre la valeur de la variable grille et l'affichage réalisé."
      ],
      "metadata": {}
    },
    {
      "cell_type": "markdown",
      "source": [
        "`grille` est un tableau de tableaux composé de 4 lignes et 4 colonnes. Chaque élément de chaque ligne de `grille`  vaut 0 ou 1, et détermine la couleur d'affichage d'une case de la grille. "
      ],
      "metadata": {}
    },
    {
      "cell_type": "markdown",
      "source": [
        "## 1.2 Modifications de la grille"
      ],
      "metadata": {}
    },
    {
      "cell_type": "markdown",
      "source": [
        "Voici les valeurs à donner à grille pour obtenir les affichages demandés : \n",
        "    \n",
        "  a) `grille = [[1, 1, 1, 0], [1, 1, 0, 1], [1, 0, 1, 1], [0, 1, 1, 1]]`  \n",
        "  b) `grille = [[1, 1, 1, 1], [1, 0, 0, 1], [1, 0, 0, 1], [1, 1, 1, 1]]`  \n",
        "  c) `grille = [[1, 0, 1, 0], [0, 1, 0, 1], [1, 0, 1, 0], [0, 1, 0, 1]]`\n",
        "  "
      ],
      "metadata": {}
    },
    {
      "cell_type": "markdown",
      "source": [
        "## 1.3 Analyse\n",
        "\n",
        "Lorsque l'on exécute ce programme :\n",
        "\n",
        "De quelle couleur sont les cases correspondant à des 0 dans la variable grille ?\n",
        "    Orange\n",
        "\n",
        "Quelles sont les dimensions de l'affichage réalisé ?  \n",
        "    400 pixels sur 400 pixels\n",
        "\n",
        "Que représente la variable `lignes` pour la grille affichée ?  \n",
        "    Il s'agit de la longueur de la grille affichée, c'est à dire son nombre de lignes, soit 4. \n",
        "    \n",
        "Que représente la variable `taille` pour la grille affichée ?  \n",
        "    Il s'agit de la dimension d'une case en pixels. \n",
        "    \n",
        "    \n",
        "## 1.4 Description de fonctions\n",
        "\n",
        "Les fonctions `fill`, `rect`, `color`, `stroke`, `strokeWeight` sont des fonctions de la bibliothèque p5.\n",
        "\n",
        "Proposer une description du rôle de la fonction `fill()`.  \n",
        "    Cette fonction prend une couleur en paraètre et permet de \"remplir\" les tracés réaliés de cette couleur.\n",
        "    \n",
        "Proposer une description du rôle de la fonction `rect()`.  \n",
        "    Cette fonction prend 4 paramètres : les deux coordonnées d'un point, une largeur et une hauteur et trace le rectangle dont le sommet en haut à gauche est le point précisé, et les dimensions les valeurs de largeur et hauteur.\n",
        "    \n",
        "Modifier les paramètres des fonctions `color`, `stroke`, `strokeWeight` et observer les effets produits. Proposer une description du rôle de chacune de ces fonctions.  \n",
        "- `color` : associe à un triplet RVB une couleur\n",
        "- `stroke` : définit la couleur des tracés (niveau de gris ou couleur RVB)\n",
        "- `strokeWeight` : épaisseur des tracés en pixels\n"
      ],
      "metadata": {}
    },
    {
      "cell_type": "markdown",
      "source": [
        "## 1.5 Modification du programme"
      ],
      "metadata": {}
    },
    {
      "cell_type": "markdown",
      "source": [
        "Voici des modifications possibles pour obtenir la grille proposée :   \n",
        "`grille = [[0, 0, 0, 1, 0], [0, 0, 1, 1, 1], [0, 1, 0, 1, 0], [1, 1, 1, 0, 0], [0, 1, 0, 0, 0]]`\n",
        "\n",
        "ainsi que quelques lignes de la fonction `affiche_grille` :\n",
        "```\n",
        "if tab[ligne][colonne] == 0:\n",
        "    couleur = color(0, 0, 0) # noir\n",
        "elif tab[ligne][colonne] == 1:\n",
        "    couleur = color(255, 0, 0) # rouge\n",
        "```"
      ],
      "metadata": {}
    },
    {
      "cell_type": "code",
      "source": [],
      "outputs": [],
      "execution_count": null,
      "metadata": {
        "trusted": true
      }
    }
  ],
  "metadata": {
    "kernelspec": {
      "name": "python3",
      "display_name": "Python 3",
      "language": "python"
    },
    "nteract": {
      "version": "0.28.0"
    },
    "language_info": {
      "name": "python",
      "version": "3.7.4",
      "mimetype": "text/x-python",
      "codemirror_mode": {
        "name": "ipython",
        "version": 3
      },
      "pygments_lexer": "ipython3",
      "nbconvert_exporter": "python",
      "file_extension": ".py"
    }
  },
  "nbformat": 4,
  "nbformat_minor": 2
}